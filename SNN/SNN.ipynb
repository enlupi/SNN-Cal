{
 "cells": [
  {
   "cell_type": "code",
   "execution_count": 1,
   "metadata": {},
   "outputs": [],
   "source": [
    "import snntorch as snn\n",
    "from snntorch import surrogate\n",
    "from copy import deepcopy\n",
    "import matplotlib.pyplot as plt\n",
    "import numpy as np\n",
    "import torch\n",
    "from typing import Callable"
   ]
  },
  {
   "cell_type": "code",
   "execution_count": 2,
   "metadata": {},
   "outputs": [],
   "source": [
    "import visualize\n",
    "import dataset as ds\n",
    "import SNN_func as snnfn"
   ]
  },
  {
   "cell_type": "markdown",
   "metadata": {},
   "source": [
    "## Constants"
   ]
  },
  {
   "cell_type": "code",
   "execution_count": 3,
   "metadata": {},
   "outputs": [],
   "source": [
    "nCublets = 1000\n",
    "nSensors = 100\n",
    "max_t = 20\n",
    "dt = 0.2\n",
    "timesteps = int(max_t/dt)"
   ]
  },
  {
   "cell_type": "code",
   "execution_count": 4,
   "metadata": {},
   "outputs": [],
   "source": [
    "labels_map = {\n",
    "  -1: \"unclassified\",\n",
    "   0: \"proton\",\n",
    "   1: \"kaon\",\n",
    "   2: \"pion\",\n",
    "   3: \"other\"\n",
    "}\n",
    "nClasses = len(labels_map)-1"
   ]
  },
  {
   "cell_type": "markdown",
   "metadata": {},
   "source": [
    "## Network Parameters"
   ]
  },
  {
   "cell_type": "markdown",
   "metadata": {},
   "source": [
    "### Architecture"
   ]
  },
  {
   "cell_type": "code",
   "execution_count": 5,
   "metadata": {},
   "outputs": [],
   "source": [
    "# Network Descriptions\n",
    "\n",
    "population = 20\n",
    "\n",
    "net_desc = {\n",
    "    \"layers\" : [400, 120, 120, population],\n",
    "    \"timesteps\": 100,\n",
    "    \"neuron_params\" : {\n",
    "                1: [snn.Leaky, \n",
    "                    {\"beta\" : 1.2,\n",
    "                    \"learn_beta\": True,\n",
    "                    \"threshold\" : 1.0,\n",
    "                    \"learn_threshold\": True,\n",
    "                    \"spike_grad\": surrogate.atan(),\n",
    "                    }],\n",
    "                2: [snn.Leaky, \n",
    "                    {\"beta\" : 1.0,\n",
    "                    \"learn_beta\": True,\n",
    "                    \"threshold\" : 1.0,\n",
    "                    \"learn_threshold\": True,\n",
    "                    \"spike_grad\": surrogate.atan(),\n",
    "                    }],\n",
    "                3: [snn.Leaky, \n",
    "                    {\"beta\" : 1.0,\n",
    "                    \"learn_beta\": True,\n",
    "                    \"threshold\" : 1.0,\n",
    "                    \"learn_threshold\": True, \n",
    "                    \"spike_grad\": surrogate.atan(),\n",
    "                    }]\n",
    "                }\n",
    "    }\n",
    "\n",
    "#net_desc_membrane = deepcopy(net_desc)\n",
    "#net_desc_membrane[\"output\"] = \"membrane\"\n",
    "\n",
    "net_desc_spikefreq = deepcopy(net_desc)\n",
    "net_desc_spikefreq[\"output\"] = \"spike\""
   ]
  },
  {
   "cell_type": "markdown",
   "metadata": {},
   "source": [
    "### Spike Generation"
   ]
  },
  {
   "cell_type": "code",
   "execution_count": 6,
   "metadata": {},
   "outputs": [],
   "source": [
    "# Spike Generation\n",
    "\n",
    "def _spikegen(data):\n",
    "    spike_data = data.transpose(0,1) \n",
    "    spike_train = torch.where(spike_data > 300, torch.tensor(1), torch.tensor(0)).to(torch.float32) \n",
    "    return spike_train\n",
    "\n",
    "def spikegen_multi(data, multiplicity=4):\n",
    "    og_shape = data.shape\n",
    "    spike_data = torch.zeros(og_shape[1], og_shape[0], multiplicity*og_shape[2])\n",
    "    for i in range(multiplicity):\n",
    "        condition = data > np.power(10, i+2)\n",
    "        batch_idx, time_idx, sensor_idx = torch.nonzero(condition, as_tuple=True)\n",
    "        spike_data[time_idx, batch_idx, multiplicity*sensor_idx+i] = 1\n",
    "\n",
    "    return spike_data"
   ]
  },
  {
   "cell_type": "markdown",
   "metadata": {},
   "source": [
    "### Prediction"
   ]
  },
  {
   "cell_type": "code",
   "execution_count": 7,
   "metadata": {},
   "outputs": [],
   "source": [
    "def predict_membrane(output):\n",
    "    prediction = output[-1].squeeze(1)\n",
    "    if len(prediction.shape) > 1:\n",
    "        prediction = prediction.mean(1)\n",
    "    return prediction\n",
    "\n",
    "def predict_spikefreq(output):\n",
    "    prediction = output.sum(0).mean(1) # sum spikes across time and average over the population\n",
    "    return prediction\n",
    "\n",
    "def distance(prediction, targets, absolute: bool = True, relative: bool = True,\n",
    "             transform: Callable = lambda *args, **kwargs: args[0]):\n",
    "    p, t = transform(prediction), transform(targets)\n",
    "    accuracy = t - p\n",
    "    if absolute:\n",
    "        accuracy = torch.abs(accuracy)\n",
    "    if relative:\n",
    "        accuracy /= t\n",
    "    return accuracy\n",
    "\n",
    "def antitransform(x):\n",
    "    a = x.clone() \n",
    "    a[:, 0] = torch.pow(10, a[:,0])\n",
    "    return a"
   ]
  },
  {
   "cell_type": "markdown",
   "metadata": {},
   "source": [
    "# Dataset Creation\n",
    "\n",
    "Change the path depending on which dataset you want to use."
   ]
  },
  {
   "cell_type": "code",
   "execution_count": 8,
   "metadata": {},
   "outputs": [],
   "source": [
    "dataset = ds.build_dataset(\"../Data/PrimaryOnly/Uniform\", max_files=100, primary_only=True,\n",
    "                           target=[\"energy\",\"centroid\",\"dispersion\"])"
   ]
  },
  {
   "cell_type": "markdown",
   "metadata": {},
   "source": [
    "### Check Distributions"
   ]
  },
  {
   "cell_type": "code",
   "execution_count": 9,
   "metadata": {},
   "outputs": [
    {
     "data": {
      "image/png": "[encoded data removed]",
      "text/plain": [
       "<Figure size 600x300 with 1 Axes>"
      ]
     },
     "metadata": {},
     "output_type": "display_data"
    }
   ],
   "source": [
    "dataset.transform = lambda x: (x[0], ds.to_tensor_and_dtype(np.log10(x[1][0])), torch.float32)\n",
    "dims=[\"log(E/MeV)\"]\n",
    "fig, axs = plt.subplots(ncols=len(dims), nrows=1, facecolor=\"w\", figsize=(6*len(dims), 3),constrained_layout=True)     \n",
    "n = 10\n",
    "bins=np.arange(1.5, 5+1/n, 1/n)\n",
    "axs.set_ylabel(f\"Counts / {1/n}\", fontsize=15)\n",
    "for i in range(len(dims)):    \n",
    "    energy = np.array([d[1] for d in dataset])\n",
    "    axs.set_xlabel(dims[i], fontsize=15)\n",
    "    axs.grid(True, linestyle='--', alpha=0.6)\n",
    "    axs.spines['top'].set_visible(False)\n",
    "    axs.spines['right'].set_visible(False)\n",
    "    axs.set_yscale('log')\n",
    "        \n",
    "    axs.tick_params(axis='both', which='major', labelsize=12)\n",
    "    axs.set_xticks([i for i in range(7)])\n",
    "    hist = axs.hist(energy, bins, edgecolor='black', alpha=0.7)\n"
   ]
  },
  {
   "cell_type": "code",
   "execution_count": 10,
   "metadata": {},
   "outputs": [
    {
     "data": {
      "image/png": "[encoded data removed]",
      "text/plain": [
       "<Figure size 1200x300 with 3 Axes>"
      ]
     },
     "metadata": {},
     "output_type": "display_data"
    }
   ],
   "source": [
    "dataset.transform = lambda x: (x[0], ds.to_tensor_and_dtype(x[1][1]), torch.float32)\n",
    "\n",
    "dims=[r\"$x_c$\", r\"$y_c$\", r\"$z_c$\"]\n",
    "fig, axs = plt.subplots(ncols=len(dims), nrows=1, facecolor=\"w\", figsize=(4*len(dims), 3),constrained_layout=True)     \n",
    "n = 5\n",
    "bins=np.arange(0, 9+1/n, 1/n)\n",
    "axs[0].set_ylabel(f\"Counts / {1/n}\", fontsize=15)\n",
    "for i in range(len(dims)):    \n",
    "    positions = np.array([d[1][i] for d in dataset])\n",
    "    axs[i].set_xlabel(dims[i], fontsize=15)\n",
    "    axs[i].grid(True, linestyle='--', alpha=0.6)\n",
    "    axs[i].spines['top'].set_visible(False)\n",
    "    axs[i].spines['right'].set_visible(False)\n",
    "    #axs[i].set_yscale('log')\n",
    "        \n",
    "    axs[i].tick_params(axis='both', which='major', labelsize=12)\n",
    "    axs[i].set_xticks([i for i in range(10)])\n",
    "    hist = axs[i].hist(positions, bins, edgecolor='black', alpha=0.7)\n"
   ]
  },
  {
   "cell_type": "code",
   "execution_count": 11,
   "metadata": {},
   "outputs": [
    {
     "data": {
      "image/png": "[encoded data removed]",
      "text/plain": [
       "<Figure size 1200x300 with 3 Axes>"
      ]
     },
     "metadata": {},
     "output_type": "display_data"
    }
   ],
   "source": [
    "dataset.transform = lambda x: (x[0], ds.to_tensor_and_dtype(x[1][2]), torch.float32)\n",
    "\n",
    "dims=[\"X\", \"Y\", \"Z\"]\n",
    "fig, axs = plt.subplots(ncols=len(dims), nrows=1, facecolor=\"w\", figsize=(4*len(dims), 3),constrained_layout=True)     \n",
    "n = 2\n",
    "bins=np.arange(0, 20+1/n, 1/n)\n",
    "axs[0].set_ylabel(f\"Counts / {1/n}\", fontsize=15)\n",
    "for i in range(len(dims)):    \n",
    "    dispersions = np.array([d[1][i] for d in dataset])\n",
    "    axs[i].set_xlabel(dims[i], fontsize=15)\n",
    "    axs[i].grid(True, linestyle='--', alpha=0.6)\n",
    "    axs[i].spines['top'].set_visible(False)\n",
    "    axs[i].spines['right'].set_visible(False)\n",
    "    axs[i].set_yscale('log')\n",
    "        \n",
    "    axs[i].tick_params(axis='both', which='major', labelsize=12)\n",
    "    axs[i].set_xticks([2*i for i in range(11)])\n",
    "    hist = axs[i].hist(dispersions, bins, edgecolor='black', alpha=0.7)\n",
    "    axs[i].set_xlabel(rf\"$\\sigma^2_{dims[i]}$\")"
   ]
  },
  {
   "cell_type": "markdown",
   "metadata": {},
   "source": [
    "# Train"
   ]
  },
  {
   "cell_type": "markdown",
   "metadata": {},
   "source": [
    "## Energy and Position"
   ]
  },
  {
   "cell_type": "code",
   "execution_count": 12,
   "metadata": {},
   "outputs": [],
   "source": [
    "dataset.transform = lambda x: (x[0], ds.to_tensor_and_dtype([np.log10(x[1][0]), *x[1][1]], torch.float32))\n",
    "train_dataset, test_dataset, val_dataset = ds.build_loaders(dataset, (0.7, 0.15), shuffle=True, num_workers=0)\n",
    "\n",
    "net_desc_spikefreq[\"layers\"][-1] = 4*population"
   ]
  },
  {
   "cell_type": "code",
   "execution_count": 13,
   "metadata": {},
   "outputs": [],
   "source": [
    "net_Epos_spk = snnfn.Spiking_Net(net_desc_spikefreq, lambda x: spikegen_multi(x,4)) \n",
    "Pred_Epos_spk = snnfn.Predictor(predict_spikefreq, distance, population_sizes=20)\n",
    "loss_Epos = snnfn.multi_MSELoss(weights=torch.tensor([1,1,1,1]))\n",
    "opt_Epos_spk = torch.optim.Adam(net_Epos_spk.parameters(), lr=1e-2, betas=(0.9, 0.999), weight_decay=1e-3)\n",
    "sche_Epos_spk = torch.optim.lr_scheduler.ExponentialLR(opt_Epos_spk, gamma=0.7)\n",
    "train_Epos_spk = snnfn.Trainer(net_Epos_spk, loss_Epos, opt_Epos_spk, Pred_Epos_spk,\n",
    "                    train_dataset, val_dataset, test_dataset)"
   ]
  },
  {
   "cell_type": "code",
   "execution_count": 14,
   "metadata": {},
   "outputs": [
    {
     "name": "stdout",
     "output_type": "stream",
     "text": [
      "Epoch 0:\n",
      "Validation Loss = 27.246571901109483\n",
      "Validation Average Error = [0.20442787 0.6816995  0.6176019         inf]\n",
      "\n",
      "-------------------------------\n",
      "\n"
     ]
    },
    {
     "name": "stderr",
     "output_type": "stream",
     "text": [
      "Epoch:   0%|            | 0/5 [00:00<?, ?it/s]\n",
      "\u001b[Aches:   0%|        | 0/210 [00:00<?, ?it/s]\n",
      "\u001b[Aches:   0%| | 1/210 [00:00<01:31,  2.27it/s\n",
      "\u001b[Aches:   1%| | 2/210 [00:00<01:27,  2.37it/s\n",
      "\u001b[Aches:   1%| | 3/210 [00:01<01:13,  2.81it/s\n",
      "\u001b[Aches:   2%| | 4/210 [00:01<01:07,  3.03it/s\n",
      "\u001b[Aches:   2%| | 5/210 [00:01<01:06,  3.08it/s\n",
      "\u001b[Aches:   3%| | 6/210 [00:02<01:03,  3.23it/s\n",
      "\u001b[Aches:   3%| | 7/210 [00:02<01:02,  3.25it/s\n",
      "\u001b[Aches:   4%| | 8/210 [00:02<01:01,  3.27it/s\n",
      "\u001b[Aches:   4%| | 9/210 [00:02<00:58,  3.41it/s\n",
      "\u001b[Aches:   5%| | 10/210 [00:03<00:59,  3.37it/\n",
      "\u001b[Aches:   5%| | 11/210 [00:03<00:58,  3.39it/\n",
      "\u001b[Aches:   6%| | 12/210 [00:03<00:57,  3.47it/\n",
      "\u001b[Aches:   6%| | 13/210 [00:04<00:56,  3.48it/\n",
      "\u001b[Aches:   7%| | 14/210 [00:04<00:55,  3.51it/\n",
      "\u001b[Aches:   7%| | 15/210 [00:04<00:51,  3.80it/\n",
      "\u001b[Aches:   8%| | 16/210 [00:04<00:52,  3.68it/\n",
      "\u001b[Aches:   8%| | 17/210 [00:05<00:51,  3.76it/\n",
      "\u001b[Aches:   9%| | 18/210 [00:05<00:52,  3.66it/\n",
      "\u001b[Aches:   9%| | 19/210 [00:05<00:52,  3.61it/\n",
      "\u001b[Aches:  10%| | 20/210 [00:05<00:55,  3.40it/\n",
      "\u001b[Aches:  10%| | 21/210 [00:06<00:56,  3.36it/\n",
      "\u001b[Aches:  10%| | 22/210 [00:06<00:54,  3.44it/\n",
      "\u001b[Aches:  11%| | 23/210 [00:06<00:55,  3.39it/\n",
      "\u001b[Aches:  11%| | 24/210 [00:07<00:55,  3.34it/\n",
      "\u001b[Aches:  12%| | 25/210 [00:07<00:54,  3.36it/\n",
      "\u001b[Aches:  12%| | 26/210 [00:07<00:55,  3.33it/\n",
      "\u001b[Aches:  13%|▏| 27/210 [00:08<00:54,  3.38it/\n",
      "\u001b[Aches:  13%|▏| 28/210 [00:08<00:56,  3.24it/\n",
      "\u001b[Aches:  14%|▏| 29/210 [00:08<00:56,  3.23it/\n",
      "\u001b[Aches:  14%|▏| 30/210 [00:08<00:53,  3.34it/\n",
      "\u001b[Aches:  15%|▏| 31/210 [00:09<00:53,  3.33it/\n",
      "\u001b[Aches:  15%|▏| 32/210 [00:09<00:55,  3.22it/\n",
      "\u001b[Aches:  16%|▏| 33/210 [00:09<00:52,  3.38it/\n",
      "\u001b[Aches:  16%|▏| 34/210 [00:10<00:52,  3.34it/\n",
      "\u001b[Aches:  17%|▏| 35/210 [00:10<00:53,  3.28it/\n",
      "\u001b[Aches:  17%|▏| 36/210 [00:10<00:53,  3.26it/\n",
      "\u001b[Aches:  18%|▏| 37/210 [00:11<00:52,  3.31it/\n",
      "\u001b[Aches:  18%|▏| 38/210 [00:11<00:51,  3.37it/\n",
      "\u001b[Aches:  19%|▏| 39/210 [00:11<00:48,  3.49it/\n",
      "\u001b[Aches:  19%|▏| 40/210 [00:11<00:47,  3.60it/\n",
      "\u001b[Aches:  20%|▏| 41/210 [00:12<00:46,  3.62it/\n",
      "\u001b[Aches:  20%|▏| 42/210 [00:12<00:46,  3.65it/\n",
      "\u001b[Aches:  20%|▏| 43/210 [00:12<00:47,  3.49it/\n",
      "\u001b[Aches:  21%|▏| 44/210 [00:13<00:48,  3.40it/\n",
      "\u001b[Aches:  21%|▏| 45/210 [00:13<00:47,  3.44it/\n",
      "\u001b[Aches:  22%|▏| 46/210 [00:13<00:47,  3.47it/\n",
      "\u001b[Aches:  22%|▏| 47/210 [00:13<00:47,  3.45it/\n",
      "\u001b[Aches:  23%|▏| 48/210 [00:14<00:47,  3.41it/\n",
      "\u001b[Aches:  23%|▏| 49/210 [00:14<00:46,  3.45it/\n",
      "\u001b[Aches:  24%|▏| 50/210 [00:14<00:46,  3.41it/\n",
      "\u001b[Aches:  24%|▏| 51/210 [00:15<00:47,  3.36it/\n",
      "\u001b[Aches:  25%|▏| 52/210 [00:15<00:48,  3.23it/\n",
      "\u001b[Aches:  25%|▎| 53/210 [00:15<00:47,  3.31it/\n",
      "\u001b[Aches:  26%|▎| 54/210 [00:16<00:46,  3.35it/\n",
      "\u001b[Aches:  26%|▎| 55/210 [00:16<00:46,  3.32it/\n",
      "\u001b[Aches:  27%|▎| 56/210 [00:16<00:46,  3.31it/\n",
      "\u001b[Aches:  27%|▎| 57/210 [00:16<00:46,  3.28it/\n",
      "\u001b[Aches:  28%|▎| 58/210 [00:17<00:45,  3.33it/\n",
      "\u001b[Aches:  28%|▎| 59/210 [00:17<00:44,  3.43it/\n",
      "\u001b[Aches:  29%|▎| 60/210 [00:17<00:43,  3.47it/\n",
      "\u001b[Aches:  29%|▎| 61/210 [00:18<00:43,  3.42it/\n",
      "\u001b[Aches:  30%|▎| 62/210 [00:18<00:43,  3.44it/\n",
      "\u001b[Aches:  30%|▎| 63/210 [00:18<00:43,  3.40it/\n",
      "\u001b[Aches:  30%|▎| 64/210 [00:18<00:41,  3.49it/\n",
      "\u001b[Aches:  31%|▎| 65/210 [00:19<00:42,  3.42it/\n",
      "\u001b[Aches:  31%|▎| 66/210 [00:19<00:42,  3.38it/\n",
      "\u001b[Aches:  32%|▎| 67/210 [00:19<00:42,  3.34it/\n",
      "\u001b[Aches:  32%|▎| 68/210 [00:20<00:42,  3.32it/\n",
      "\u001b[Aches:  33%|▎| 69/210 [00:20<00:42,  3.30it/\n",
      "\u001b[Aches:  33%|▎| 70/210 [00:20<00:42,  3.30it/\n",
      "\u001b[Aches:  34%|▎| 71/210 [00:21<00:40,  3.39it/\n",
      "\u001b[Aches:  34%|▎| 72/210 [00:21<00:40,  3.44it/\n",
      "\u001b[Aches:  35%|▎| 73/210 [00:21<00:39,  3.47it/\n",
      "\u001b[Aches:  35%|▎| 74/210 [00:21<00:38,  3.52it/\n",
      "\u001b[Aches:  36%|▎| 75/210 [00:22<00:38,  3.49it/\n",
      "\u001b[Aches:  36%|▎| 76/210 [00:22<00:38,  3.46it/\n",
      "\u001b[Aches:  37%|▎| 77/210 [00:22<00:36,  3.66it/\n",
      "\u001b[Aches:  37%|▎| 78/210 [00:23<00:36,  3.61it/\n",
      "\u001b[Aches:  38%|▍| 79/210 [00:23<00:35,  3.66it/\n",
      "\u001b[Aches:  38%|▍| 80/210 [00:23<00:36,  3.60it/\n",
      "\u001b[Aches:  39%|▍| 81/210 [00:23<00:40,  3.18it/\n",
      "\u001b[Aches:  39%|▍| 82/210 [00:24<00:39,  3.25it/\n",
      "\u001b[Aches:  40%|▍| 83/210 [00:24<00:37,  3.36it/\n",
      "\u001b[Aches:  40%|▍| 84/210 [00:24<00:39,  3.22it/\n",
      "\u001b[Aches:  40%|▍| 85/210 [00:25<00:38,  3.29it/\n",
      "\u001b[Aches:  41%|▍| 86/210 [00:25<00:36,  3.44it/\n",
      "\u001b[Aches:  41%|▍| 87/210 [00:25<00:37,  3.30it/\n",
      "\u001b[Aches:  42%|▍| 88/210 [00:26<00:38,  3.18it/\n",
      "\u001b[Aches:  42%|▍| 89/210 [00:26<00:37,  3.27it/\n",
      "\u001b[Aches:  43%|▍| 90/210 [00:26<00:35,  3.37it/\n",
      "\u001b[Aches:  43%|▍| 91/210 [00:26<00:34,  3.49it/\n",
      "\u001b[Aches:  44%|▍| 92/210 [00:27<00:33,  3.47it/\n",
      "\u001b[Aches:  44%|▍| 93/210 [00:27<00:33,  3.47it/\n",
      "\u001b[Aches:  45%|▍| 94/210 [00:27<00:33,  3.46it/\n",
      "\u001b[Aches:  45%|▍| 95/210 [00:28<00:32,  3.49it/\n",
      "\u001b[Aches:  46%|▍| 96/210 [00:28<00:31,  3.64it/\n",
      "\u001b[Aches:  46%|▍| 97/210 [00:28<00:30,  3.75it/\n",
      "\u001b[Aches:  47%|▍| 98/210 [00:28<00:29,  3.78it/\n",
      "\u001b[Aches:  47%|▍| 99/210 [00:29<00:29,  3.80it/\n",
      "\u001b[Aches:  48%|▍| 100/210 [00:29<00:29,  3.70it\n",
      "\u001b[Aches:  48%|▍| 101/210 [00:29<00:28,  3.79it\n",
      "\u001b[Aches:  49%|▍| 102/210 [00:29<00:29,  3.70it\n",
      "\u001b[Aches:  49%|▍| 103/210 [00:30<00:29,  3.65it\n",
      "\u001b[Aches:  50%|▍| 104/210 [00:30<00:29,  3.65it\n",
      "\u001b[Aches:  50%|▌| 105/210 [00:30<00:28,  3.73it\n",
      "\u001b[Aches:  50%|▌| 106/210 [00:31<00:27,  3.72it\n",
      "\u001b[Aches:  51%|▌| 107/210 [00:31<00:29,  3.55it\n",
      "\u001b[Aches:  51%|▌| 108/210 [00:31<00:28,  3.54it\n",
      "\u001b[Aches:  52%|▌| 109/210 [00:31<00:28,  3.60it\n",
      "\u001b[Aches:  52%|▌| 110/210 [00:32<00:27,  3.62it\n",
      "\u001b[Aches:  53%|▌| 111/210 [00:32<00:27,  3.63it\n",
      "\u001b[Aches:  53%|▌| 112/210 [00:32<00:25,  3.79it\n",
      "\u001b[Aches:  54%|▌| 113/210 [00:32<00:26,  3.70it\n",
      "\u001b[Aches:  54%|▌| 114/210 [00:33<00:25,  3.72it\n",
      "\u001b[Aches:  55%|▌| 115/210 [00:33<00:25,  3.72it\n",
      "\u001b[Aches:  55%|▌| 116/210 [00:33<00:24,  3.76it\n",
      "\u001b[Aches:  56%|▌| 117/210 [00:34<00:25,  3.67it\n",
      "\u001b[Aches:  56%|▌| 118/210 [00:34<00:25,  3.65it\n",
      "\u001b[Aches:  57%|▌| 119/210 [00:34<00:23,  3.91it\n",
      "\u001b[Aches:  57%|▌| 120/210 [00:34<00:23,  3.76it\n",
      "\u001b[Aches:  58%|▌| 121/210 [00:35<00:23,  3.79it\n",
      "\u001b[Aches:  58%|▌| 122/210 [00:35<00:24,  3.66it\n",
      "\u001b[Aches:  59%|▌| 123/210 [00:35<00:24,  3.61it\n",
      "\u001b[Aches:  59%|▌| 124/210 [00:35<00:24,  3.55it\n",
      "\u001b[Aches:  60%|▌| 125/210 [00:36<00:23,  3.62it\n",
      "\u001b[Aches:  60%|▌| 126/210 [00:36<00:22,  3.72it\n",
      "\u001b[Aches:  60%|▌| 127/210 [00:36<00:22,  3.70it\n",
      "\u001b[Aches:  61%|▌| 128/210 [00:37<00:22,  3.62it\n",
      "\u001b[Aches:  61%|▌| 129/210 [00:37<00:22,  3.59it\n",
      "\u001b[Aches:  62%|▌| 130/210 [00:37<00:22,  3.51it\n",
      "\u001b[Aches:  62%|▌| 131/210 [00:37<00:22,  3.46it\n",
      "\u001b[Aches:  63%|▋| 132/210 [00:38<00:21,  3.59it\n",
      "\u001b[Aches:  63%|▋| 133/210 [00:38<00:20,  3.69it\n",
      "\u001b[Aches:  64%|▋| 134/210 [00:38<00:20,  3.73it\n",
      "\u001b[Aches:  64%|▋| 135/210 [00:38<00:20,  3.73it\n",
      "\u001b[Aches:  65%|▋| 136/210 [00:39<00:19,  3.73it\n",
      "\u001b[Aches:  65%|▋| 137/210 [00:39<00:19,  3.67it\n",
      "\u001b[Aches:  66%|▋| 138/210 [00:39<00:19,  3.71it\n",
      "\u001b[Aches:  66%|▋| 139/210 [00:40<00:20,  3.54it\n",
      "\u001b[Aches:  67%|▋| 140/210 [00:40<00:20,  3.49it\n",
      "\u001b[Aches:  67%|▋| 141/210 [00:40<00:20,  3.40it\n",
      "\u001b[Aches:  68%|▋| 142/210 [00:40<00:20,  3.35it\n",
      "\u001b[Aches:  68%|▋| 143/210 [00:41<00:19,  3.40it\n",
      "\u001b[Aches:  69%|▋| 144/210 [00:41<00:19,  3.41it\n",
      "\u001b[Aches:  69%|▋| 145/210 [00:41<00:17,  3.62it\n",
      "\u001b[Aches:  70%|▋| 146/210 [00:42<00:17,  3.75it\n",
      "\u001b[Aches:  70%|▋| 147/210 [00:42<00:16,  3.71it\n",
      "\u001b[Aches:  70%|▋| 148/210 [00:42<00:17,  3.63it\n",
      "\u001b[Aches:  71%|▋| 149/210 [00:42<00:16,  3.61it\n",
      "\u001b[Aches:  71%|▋| 150/210 [00:43<00:16,  3.63it\n",
      "\u001b[Aches:  72%|▋| 151/210 [00:43<00:15,  3.74it\n",
      "\u001b[Aches:  72%|▋| 152/210 [00:43<00:15,  3.67it\n",
      "\u001b[Aches:  73%|▋| 153/210 [00:43<00:15,  3.75it\n",
      "\u001b[Aches:  73%|▋| 154/210 [00:44<00:14,  3.77it\n",
      "\u001b[Aches:  74%|▋| 155/210 [00:44<00:15,  3.52it\n",
      "\u001b[Aches:  74%|▋| 156/210 [00:44<00:15,  3.40it\n",
      "\u001b[Aches:  75%|▋| 157/210 [00:45<00:15,  3.32it\n",
      "\u001b[Aches:  75%|▊| 158/210 [00:45<00:15,  3.40it\n",
      "\u001b[Aches:  76%|▊| 159/210 [00:45<00:14,  3.49it\n",
      "\u001b[Aches:  76%|▊| 160/210 [00:45<00:14,  3.53it\n",
      "\u001b[Aches:  77%|▊| 161/210 [00:46<00:14,  3.42it\n",
      "\u001b[Aches:  77%|▊| 162/210 [00:46<00:13,  3.49it\n",
      "\u001b[Aches:  78%|▊| 163/210 [00:46<00:12,  3.62it\n",
      "\u001b[Aches:  78%|▊| 164/210 [00:47<00:11,  3.87it\n",
      "\u001b[Aches:  79%|▊| 165/210 [00:47<00:11,  3.91it\n",
      "\u001b[Aches:  79%|▊| 166/210 [00:47<00:11,  3.85it\n",
      "\u001b[Aches:  80%|▊| 167/210 [00:47<00:10,  3.94it\n",
      "\u001b[Aches:  80%|▊| 168/210 [00:48<00:10,  4.04it\n",
      "\u001b[Aches:  80%|▊| 169/210 [00:48<00:10,  4.01it\n",
      "\u001b[Aches:  81%|▊| 170/210 [00:48<00:10,  3.98it\n",
      "\u001b[Aches:  81%|▊| 171/210 [00:48<00:09,  4.04it\n",
      "\u001b[Aches:  82%|▊| 172/210 [00:49<00:09,  3.99it\n",
      "\u001b[Aches:  82%|▊| 173/210 [00:49<00:09,  3.95it\n",
      "\u001b[Aches:  83%|▊| 174/210 [00:49<00:09,  3.96it\n",
      "\u001b[Aches:  83%|▊| 175/210 [00:49<00:08,  3.98it\n",
      "\u001b[Aches:  84%|▊| 176/210 [00:50<00:08,  3.84it\n",
      "\u001b[Aches:  84%|▊| 177/210 [00:50<00:08,  3.67it\n",
      "\u001b[Aches:  85%|▊| 178/210 [00:50<00:08,  3.61it\n",
      "\u001b[Aches:  85%|▊| 179/210 [00:50<00:08,  3.48it\n",
      "\u001b[Aches:  86%|▊| 180/210 [00:51<00:08,  3.66it\n",
      "\u001b[Aches:  86%|▊| 181/210 [00:51<00:07,  3.76it\n",
      "\u001b[Aches:  87%|▊| 182/210 [00:51<00:07,  3.74it\n",
      "\u001b[Aches:  87%|▊| 183/210 [00:51<00:07,  3.76it\n",
      "\u001b[Aches:  88%|▉| 184/210 [00:52<00:06,  3.73it\n",
      "\u001b[Aches:  88%|▉| 185/210 [00:52<00:06,  3.69it\n",
      "\u001b[Aches:  89%|▉| 186/210 [00:52<00:06,  3.76it\n",
      "\u001b[Aches:  89%|▉| 187/210 [00:53<00:06,  3.78it\n",
      "\u001b[Aches:  90%|▉| 188/210 [00:53<00:05,  3.86it\n",
      "\u001b[Aches:  90%|▉| 189/210 [00:53<00:05,  3.76it\n",
      "\u001b[Aches:  90%|▉| 190/210 [00:53<00:05,  3.82it\n",
      "\u001b[Aches:  91%|▉| 191/210 [00:54<00:04,  4.00it\n",
      "\u001b[Aches:  91%|▉| 192/210 [00:54<00:04,  4.13it\n",
      "\u001b[Aches:  92%|▉| 193/210 [00:54<00:04,  4.13it\n",
      "\u001b[Aches:  92%|▉| 194/210 [00:54<00:03,  4.09it\n",
      "\u001b[Aches:  93%|▉| 195/210 [00:55<00:03,  4.15it\n",
      "\u001b[Aches:  93%|▉| 196/210 [00:55<00:03,  4.10it\n",
      "\u001b[Aches:  94%|▉| 197/210 [00:55<00:03,  4.24it\n",
      "\u001b[Aches:  94%|▉| 198/210 [00:55<00:02,  4.32it\n",
      "\u001b[Aches:  95%|▉| 199/210 [00:55<00:02,  4.35it\n",
      "\u001b[Aches:  95%|▉| 200/210 [00:56<00:02,  4.31it\n",
      "\u001b[Aches:  96%|▉| 201/210 [00:56<00:01,  4.52it\n",
      "\u001b[Aches:  96%|▉| 202/210 [00:56<00:01,  4.39it\n",
      "\u001b[Aches:  97%|▉| 203/210 [00:56<00:01,  4.09it\n",
      "\u001b[Aches:  97%|▉| 204/210 [00:57<00:01,  4.02it\n",
      "\u001b[Aches:  98%|▉| 205/210 [00:57<00:01,  3.95it\n",
      "\u001b[Aches:  98%|▉| 206/210 [00:57<00:01,  3.84it\n",
      "\u001b[Aches:  99%|▉| 207/210 [00:57<00:00,  3.92it\n",
      "\u001b[Aches:  99%|▉| 208/210 [00:58<00:00,  3.99it\n",
      "\u001b[Aches: 100%|▉| 209/210 [00:58<00:00,  4.05it\n",
      "\u001b[Aches: 100%|█| 210/210 [00:58<00:00,  4.83it\n",
      "Epoch:  20%|▊   | 1/5 [01:01<04:07, 61.80s/it]"
     ]
    },
    {
     "name": "stdout",
     "output_type": "stream",
     "text": [
      "Epoch 1:\n",
      "Validation Loss = 4.480410697725084\n",
      "Validation Average Error = [0.04054524 0.283607   0.57917225        inf]\n",
      "\n",
      "-------------------------------\n",
      "\n"
     ]
    },
    {
     "name": "stderr",
     "output_type": "stream",
     "text": [
      "\n",
      "\u001b[Aches:   0%|        | 0/210 [00:00<?, ?it/s]\n",
      "\u001b[Aches:   0%| | 1/210 [00:00<00:53,  3.90it/s\n",
      "\u001b[Aches:   1%| | 2/210 [00:00<00:47,  4.35it/s\n",
      "\u001b[Aches:   1%| | 3/210 [00:00<00:47,  4.32it/s\n",
      "\u001b[Aches:   2%| | 4/210 [00:00<00:48,  4.23it/s\n",
      "\u001b[Aches:   2%| | 5/210 [00:01<00:47,  4.28it/s\n",
      "\u001b[Aches:   3%| | 6/210 [00:01<00:48,  4.17it/s\n",
      "\u001b[Aches:   3%| | 7/210 [00:01<00:47,  4.27it/s\n",
      "\u001b[Aches:   4%| | 8/210 [00:01<00:48,  4.19it/s\n",
      "\u001b[Aches:   4%| | 9/210 [00:02<00:47,  4.22it/s\n",
      "\u001b[Aches:   5%| | 10/210 [00:02<00:47,  4.17it/\n",
      "\u001b[Aches:   5%| | 11/210 [00:02<00:46,  4.32it/\n",
      "\u001b[Aches:   6%| | 12/210 [00:02<00:47,  4.21it/\n",
      "\u001b[Aches:   6%| | 13/210 [00:03<00:46,  4.23it/\n",
      "\u001b[Aches:   7%| | 14/210 [00:03<00:47,  4.15it/\n",
      "\u001b[Aches:   7%| | 15/210 [00:03<00:45,  4.25it/\n",
      "\u001b[Aches:   8%| | 16/210 [00:03<00:45,  4.24it/\n",
      "\u001b[Aches:   8%| | 17/210 [00:04<00:45,  4.21it/\n",
      "\u001b[Aches:   9%| | 18/210 [00:04<00:45,  4.21it/\n",
      "\u001b[Aches:   9%| | 19/210 [00:04<00:45,  4.16it/\n",
      "\u001b[Aches:  10%| | 20/210 [00:04<00:47,  3.98it/\n",
      "\u001b[Aches:  10%| | 21/210 [00:05<00:47,  3.94it/\n",
      "\u001b[Aches:  10%| | 22/210 [00:05<00:46,  4.05it/\n",
      "\u001b[Aches:  11%| | 23/210 [00:05<00:45,  4.09it/\n",
      "\u001b[Aches:  11%| | 24/210 [00:05<00:44,  4.19it/\n",
      "\u001b[Aches:  12%| | 25/210 [00:05<00:43,  4.28it/\n",
      "\u001b[Aches:  12%| | 26/210 [00:06<00:41,  4.45it/\n",
      "\u001b[Aches:  13%|▏| 27/210 [00:06<00:39,  4.59it/\n",
      "\u001b[Aches:  13%|▏| 28/210 [00:06<00:39,  4.59it/\n",
      "\u001b[Aches:  14%|▏| 29/210 [00:06<00:38,  4.65it/\n",
      "\u001b[Aches:  14%|▏| 30/210 [00:07<00:39,  4.51it/\n",
      "\u001b[Aches:  15%|▏| 31/210 [00:07<00:39,  4.52it/\n",
      "\u001b[Aches:  15%|▏| 32/210 [00:07<00:39,  4.46it/\n",
      "\u001b[Aches:  16%|▏| 33/210 [00:07<00:38,  4.63it/\n",
      "\u001b[Aches:  16%|▏| 34/210 [00:07<00:38,  4.56it/\n",
      "\u001b[Aches:  17%|▏| 35/210 [00:08<00:37,  4.65it/\n",
      "\u001b[Aches:  17%|▏| 36/210 [00:08<00:39,  4.42it/\n",
      "\u001b[Aches:  18%|▏| 37/210 [00:08<00:38,  4.44it/\n",
      "\u001b[Aches:  18%|▏| 38/210 [00:08<00:38,  4.42it/\n",
      "\u001b[Aches:  19%|▏| 39/210 [00:09<00:37,  4.60it/\n",
      "\u001b[Aches:  19%|▏| 40/210 [00:09<00:37,  4.50it/\n",
      "\u001b[Aches:  20%|▏| 41/210 [00:09<00:38,  4.36it/\n",
      "\u001b[Aches:  20%|▏| 42/210 [00:09<00:39,  4.27it/\n",
      "\u001b[Aches:  20%|▏| 43/210 [00:09<00:38,  4.37it/\n",
      "\u001b[Aches:  21%|▏| 44/210 [00:10<00:38,  4.26it/\n",
      "\u001b[Aches:  21%|▏| 45/210 [00:10<00:39,  4.19it/\n",
      "\u001b[Aches:  22%|▏| 46/210 [00:10<00:38,  4.22it/\n",
      "\u001b[Aches:  22%|▏| 47/210 [00:10<00:37,  4.39it/\n",
      "\u001b[Aches:  23%|▏| 48/210 [00:11<00:37,  4.30it/\n",
      "\u001b[Aches:  23%|▏| 49/210 [00:11<00:38,  4.23it/\n",
      "\u001b[Aches:  24%|▏| 50/210 [00:11<00:37,  4.31it/\n",
      "\u001b[Aches:  24%|▏| 51/210 [00:11<00:36,  4.38it/\n",
      "\u001b[Aches:  25%|▏| 52/210 [00:12<00:37,  4.18it/\n",
      "\u001b[Aches:  25%|▎| 53/210 [00:12<00:37,  4.20it/\n",
      "\u001b[Aches:  26%|▎| 54/210 [00:12<00:37,  4.17it/\n",
      "\u001b[Aches:  26%|▎| 55/210 [00:12<00:36,  4.27it/\n",
      "\u001b[Aches:  27%|▎| 56/210 [00:13<00:35,  4.35it/\n",
      "\u001b[Aches:  27%|▎| 57/210 [00:13<00:35,  4.35it/\n",
      "\u001b[Aches:  28%|▎| 58/210 [00:13<00:35,  4.25it/\n",
      "\u001b[Aches:  28%|▎| 59/210 [00:13<00:34,  4.37it/\n",
      "\u001b[Aches:  29%|▎| 60/210 [00:13<00:33,  4.44it/\n",
      "\u001b[Aches:  29%|▎| 61/210 [00:14<00:32,  4.53it/\n",
      "\u001b[Aches:  30%|▎| 62/210 [00:14<00:32,  4.56it/\n",
      "\u001b[Aches:  30%|▎| 63/210 [00:14<00:32,  4.55it/\n",
      "\u001b[Aches:  30%|▎| 64/210 [00:14<00:31,  4.61it/\n",
      "\u001b[Aches:  31%|▎| 65/210 [00:14<00:31,  4.62it/\n",
      "\u001b[Aches:  31%|▎| 66/210 [00:15<00:32,  4.46it/\n",
      "\u001b[Aches:  32%|▎| 67/210 [00:15<00:32,  4.40it/\n",
      "\u001b[Aches:  32%|▎| 68/210 [00:15<00:31,  4.52it/\n",
      "\u001b[Aches:  33%|▎| 69/210 [00:15<00:32,  4.37it/\n",
      "\u001b[Aches:  33%|▎| 70/210 [00:16<00:30,  4.62it/\n",
      "\u001b[Aches:  34%|▎| 71/210 [00:16<00:31,  4.48it/\n",
      "\u001b[Aches:  34%|▎| 72/210 [00:16<00:29,  4.65it/\n",
      "\u001b[Aches:  35%|▎| 73/210 [00:16<00:30,  4.52it/\n",
      "\u001b[Aches:  35%|▎| 74/210 [00:17<00:30,  4.45it/\n",
      "\u001b[Aches:  36%|▎| 75/210 [00:17<00:30,  4.43it/\n",
      "\u001b[Aches:  36%|▎| 76/210 [00:17<00:29,  4.57it/\n",
      "\u001b[Aches:  37%|▎| 77/210 [00:17<00:28,  4.63it/\n",
      "\u001b[Aches:  37%|▎| 78/210 [00:17<00:29,  4.54it/\n",
      "\u001b[Aches:  38%|▍| 79/210 [00:18<00:29,  4.44it/\n",
      "\u001b[Aches:  38%|▍| 80/210 [00:18<00:29,  4.37it/\n",
      "\u001b[Aches:  39%|▍| 81/210 [00:19<00:53,  2.40it/\n",
      "\u001b[Aches:  39%|▍| 82/210 [00:19<00:45,  2.82it/\n",
      "\u001b[Aches:  40%|▍| 83/210 [00:19<00:39,  3.18it/\n",
      "\u001b[Aches:  40%|▍| 84/210 [00:19<00:34,  3.62it/\n",
      "\u001b[Aches:  40%|▍| 85/210 [00:20<00:32,  3.87it/\n",
      "\u001b[Aches:  41%|▍| 86/210 [00:20<00:29,  4.20it/\n",
      "\u001b[Aches:  41%|▍| 87/210 [00:20<00:27,  4.43it/\n",
      "\u001b[Aches:  42%|▍| 88/210 [00:20<00:29,  4.13it/\n",
      "\u001b[Aches:  42%|▍| 89/210 [00:20<00:27,  4.46it/\n",
      "\u001b[Aches:  43%|▍| 90/210 [00:21<00:26,  4.49it/\n",
      "\u001b[Aches:  43%|▍| 91/210 [00:21<00:27,  4.33it/\n",
      "\u001b[Aches:  44%|▍| 92/210 [00:21<00:27,  4.34it/\n",
      "\u001b[Aches:  44%|▍| 93/210 [00:21<00:27,  4.33it/\n",
      "\u001b[Aches:  45%|▍| 94/210 [00:22<00:28,  4.07it/\n",
      "\u001b[Aches:  45%|▍| 95/210 [00:22<00:28,  4.07it/\n",
      "\u001b[Aches:  46%|▍| 96/210 [00:22<00:27,  4.09it/\n",
      "\u001b[Aches:  46%|▍| 97/210 [00:22<00:28,  3.99it/\n",
      "\u001b[Aches:  47%|▍| 98/210 [00:23<00:26,  4.18it/\n",
      "\u001b[Aches:  47%|▍| 99/210 [00:23<00:26,  4.18it/\n",
      "\u001b[Aches:  48%|▍| 100/210 [00:23<00:25,  4.30it\n",
      "\u001b[Aches:  48%|▍| 101/210 [00:23<00:25,  4.31it\n",
      "\u001b[Aches:  49%|▍| 102/210 [00:23<00:25,  4.27it\n",
      "\u001b[Aches:  49%|▍| 103/210 [00:24<00:25,  4.24it\n",
      "\u001b[Aches:  50%|▍| 104/210 [00:24<00:25,  4.21it\n",
      "\u001b[Aches:  50%|▌| 105/210 [00:24<00:27,  3.78it\n",
      "\u001b[Aches:  50%|▌| 106/210 [00:25<00:26,  3.99it\n",
      "\u001b[Aches:  51%|▌| 107/210 [00:25<00:25,  4.09it\n",
      "\u001b[Aches:  51%|▌| 108/210 [00:25<00:23,  4.28it\n",
      "\u001b[Aches:  52%|▌| 109/210 [00:25<00:23,  4.22it\n",
      "\u001b[Aches:  52%|▌| 110/210 [00:25<00:23,  4.18it\n",
      "\u001b[Aches:  53%|▌| 111/210 [00:26<00:22,  4.45it\n",
      "\u001b[Aches:  53%|▌| 112/210 [00:26<00:22,  4.44it\n",
      "\u001b[Aches:  54%|▌| 113/210 [00:26<00:22,  4.35it\n",
      "\u001b[Aches:  54%|▌| 114/210 [00:26<00:22,  4.34it\n",
      "\u001b[Aches:  55%|▌| 115/210 [00:27<00:21,  4.39it\n",
      "\u001b[Aches:  55%|▌| 116/210 [00:27<00:20,  4.55it\n",
      "\u001b[Aches:  56%|▌| 117/210 [00:27<00:21,  4.38it\n",
      "\u001b[Aches:  56%|▌| 118/210 [00:27<00:20,  4.39it\n",
      "\u001b[Aches:  57%|▌| 119/210 [00:27<00:20,  4.36it\n",
      "\u001b[Aches:  57%|▌| 120/210 [00:28<00:20,  4.40it\n",
      "\u001b[Aches:  58%|▌| 121/210 [00:28<00:20,  4.30it\n",
      "\u001b[Aches:  58%|▌| 122/210 [00:28<00:21,  4.13it\n",
      "\u001b[Aches:  59%|▌| 123/210 [00:28<00:19,  4.37it\n",
      "\u001b[Aches:  59%|▌| 124/210 [00:29<00:19,  4.50it\n",
      "\u001b[Aches:  60%|▌| 125/210 [00:29<00:18,  4.49it\n",
      "\u001b[Aches:  60%|▌| 126/210 [00:29<00:18,  4.61it\n",
      "\u001b[Aches:  60%|▌| 127/210 [00:29<00:18,  4.54it\n",
      "\u001b[Aches:  61%|▌| 128/210 [00:30<00:18,  4.34it\n",
      "\u001b[Aches:  61%|▌| 129/210 [00:30<00:18,  4.37it\n",
      "\u001b[Aches:  62%|▌| 130/210 [00:30<00:18,  4.37it\n",
      "\u001b[Aches:  62%|▌| 131/210 [00:30<00:18,  4.22it\n",
      "\u001b[Aches:  63%|▋| 132/210 [00:30<00:18,  4.25it\n",
      "\u001b[Aches:  63%|▋| 133/210 [00:31<00:17,  4.30it\n",
      "\u001b[Aches:  64%|▋| 134/210 [00:31<00:17,  4.46it\n",
      "\u001b[Aches:  64%|▋| 135/210 [00:31<00:17,  4.39it\n",
      "\u001b[Aches:  65%|▋| 136/210 [00:31<00:16,  4.46it\n",
      "\u001b[Aches:  65%|▋| 137/210 [00:32<00:16,  4.43it\n",
      "\u001b[Aches:  66%|▋| 138/210 [00:32<00:14,  4.83it\n",
      "\u001b[Aches:  66%|▋| 139/210 [00:32<00:14,  5.01it\n",
      "\u001b[Aches:  67%|▋| 140/210 [00:32<00:14,  4.81it\n",
      "\u001b[Aches:  67%|▋| 141/210 [00:32<00:15,  4.57it\n",
      "\u001b[Aches:  68%|▋| 142/210 [00:33<00:15,  4.38it\n",
      "\u001b[Aches:  68%|▋| 143/210 [00:33<00:16,  4.06it\n",
      "\u001b[Aches:  69%|▋| 144/210 [00:33<00:15,  4.25it\n",
      "\u001b[Aches:  69%|▋| 145/210 [00:33<00:15,  4.25it\n",
      "\u001b[Aches:  70%|▋| 146/210 [00:34<00:14,  4.43it\n",
      "\u001b[Aches:  70%|▋| 147/210 [00:34<00:14,  4.32it\n",
      "\u001b[Aches:  70%|▋| 148/210 [00:34<00:14,  4.34it\n",
      "\u001b[Aches:  71%|▋| 149/210 [00:34<00:13,  4.37it\n",
      "\u001b[Aches:  71%|▋| 150/210 [00:35<00:13,  4.31it\n",
      "\u001b[Aches:  72%|▋| 151/210 [00:35<00:13,  4.42it\n",
      "\u001b[Aches:  72%|▋| 152/210 [00:35<00:13,  4.19it\n",
      "\u001b[Aches:  73%|▋| 153/210 [00:35<00:13,  4.31it\n",
      "\u001b[Aches:  73%|▋| 154/210 [00:35<00:12,  4.31it\n",
      "\u001b[Aches:  74%|▋| 155/210 [00:36<00:12,  4.37it\n",
      "\u001b[Aches:  74%|▋| 156/210 [00:36<00:12,  4.44it\n",
      "\u001b[Aches:  75%|▋| 157/210 [00:36<00:11,  4.64it\n",
      "\u001b[Aches:  75%|▊| 158/210 [00:36<00:10,  4.83it\n",
      "\u001b[Aches:  76%|▊| 159/210 [00:36<00:10,  4.81it\n",
      "\u001b[Aches:  76%|▊| 160/210 [00:37<00:10,  4.60it\n",
      "\u001b[Aches:  77%|▊| 161/210 [00:37<00:10,  4.62it\n",
      "\u001b[Aches:  77%|▊| 162/210 [00:37<00:10,  4.41it\n",
      "\u001b[Aches:  78%|▊| 163/210 [00:37<00:10,  4.36it\n",
      "\u001b[Aches:  78%|▊| 164/210 [00:38<00:10,  4.32it\n",
      "\u001b[Aches:  79%|▊| 165/210 [00:38<00:10,  4.18it\n",
      "\u001b[Aches:  79%|▊| 166/210 [00:38<00:10,  4.19it\n",
      "\u001b[Aches:  80%|▊| 167/210 [00:38<00:09,  4.47it\n",
      "\u001b[Aches:  80%|▊| 168/210 [00:39<00:09,  4.63it\n",
      "\u001b[Aches:  80%|▊| 169/210 [00:39<00:08,  4.88it\n",
      "\u001b[Aches:  81%|▊| 170/210 [00:39<00:08,  4.84it\n",
      "\u001b[Aches:  81%|▊| 171/210 [00:39<00:08,  4.72it\n",
      "\u001b[Aches:  82%|▊| 172/210 [00:39<00:08,  4.62it\n",
      "\u001b[Aches:  82%|▊| 173/210 [00:40<00:08,  4.46it\n",
      "\u001b[Aches:  83%|▊| 174/210 [00:40<00:08,  4.40it\n",
      "\u001b[Aches:  83%|▊| 175/210 [00:40<00:07,  4.43it\n",
      "\u001b[Aches:  84%|▊| 176/210 [00:40<00:07,  4.40it\n",
      "\u001b[Aches:  84%|▊| 177/210 [00:41<00:07,  4.50it\n",
      "\u001b[Aches:  85%|▊| 178/210 [00:41<00:07,  4.53it\n",
      "\u001b[Aches:  85%|▊| 179/210 [00:41<00:06,  4.54it\n",
      "\u001b[Aches:  86%|▊| 180/210 [00:41<00:06,  4.67it\n",
      "\u001b[Aches:  86%|▊| 181/210 [00:41<00:06,  4.53it\n",
      "\u001b[Aches:  87%|▊| 182/210 [00:42<00:06,  4.56it\n",
      "\u001b[Aches:  87%|▊| 183/210 [00:42<00:05,  4.51it\n",
      "\u001b[Aches:  88%|▉| 184/210 [00:42<00:05,  4.49it\n",
      "\u001b[Aches:  88%|▉| 185/210 [00:42<00:05,  4.62it\n",
      "\u001b[Aches:  89%|▉| 186/210 [00:42<00:05,  4.69it\n",
      "\u001b[Aches:  89%|▉| 187/210 [00:43<00:05,  4.28it\n",
      "\u001b[Aches:  90%|▉| 188/210 [00:43<00:04,  4.45it\n",
      "\u001b[Aches:  90%|▉| 189/210 [00:43<00:04,  4.57it\n",
      "\u001b[Aches:  90%|▉| 190/210 [00:43<00:04,  4.43it\n",
      "\u001b[Aches:  91%|▉| 191/210 [00:44<00:04,  4.56it\n",
      "\u001b[Aches:  91%|▉| 192/210 [00:44<00:04,  4.44it\n",
      "\u001b[Aches:  92%|▉| 193/210 [00:44<00:03,  4.63it\n",
      "\u001b[Aches:  92%|▉| 194/210 [00:44<00:03,  4.56it\n",
      "\u001b[Aches:  93%|▉| 195/210 [00:44<00:03,  4.45it\n",
      "\u001b[Aches:  93%|▉| 196/210 [00:45<00:03,  4.31it\n",
      "\u001b[Aches:  94%|▉| 197/210 [00:45<00:02,  4.39it\n",
      "\u001b[Aches:  94%|▉| 198/210 [00:45<00:03,  3.97it\n",
      "\u001b[Aches:  95%|▉| 199/210 [00:46<00:02,  3.96it\n",
      "\u001b[Aches:  95%|▉| 200/210 [00:46<00:02,  4.02it\n",
      "\u001b[Aches:  96%|▉| 201/210 [00:46<00:02,  4.12it\n",
      "\u001b[Aches:  96%|▉| 202/210 [00:46<00:01,  4.16it\n",
      "\u001b[Aches:  97%|▉| 203/210 [00:46<00:01,  4.00it\n",
      "\u001b[Aches:  97%|▉| 204/210 [00:47<00:01,  4.24it\n",
      "\u001b[Aches:  98%|▉| 205/210 [00:47<00:01,  4.31it\n",
      "\u001b[Aches:  98%|▉| 206/210 [00:47<00:00,  4.31it\n",
      "\u001b[Aches:  99%|▉| 207/210 [00:47<00:00,  4.41it\n",
      "\u001b[Aches:  99%|▉| 208/210 [00:48<00:00,  4.46it\n",
      "\u001b[Aches: 100%|▉| 209/210 [00:48<00:00,  4.54it\n",
      "\u001b[Aches: 100%|█| 210/210 [00:48<00:00,  5.33it\n",
      "Epoch:  40%|█▌  | 2/5 [01:53<02:47, 55.75s/it]"
     ]
    },
    {
     "name": "stdout",
     "output_type": "stream",
     "text": [
      "Epoch 2:\n",
      "Validation Loss = 2.7863133483462863\n",
      "Validation Average Error = [0.04160124 0.23753785 0.39711463        inf]\n",
      "\n",
      "-------------------------------\n",
      "\n"
     ]
    },
    {
     "name": "stderr",
     "output_type": "stream",
     "text": [
      "\n",
      "\u001b[Aches:   0%|        | 0/210 [00:00<?, ?it/s]\n",
      "\u001b[Aches:   0%| | 1/210 [00:00<00:47,  4.41it/s\n",
      "\u001b[Aches:   1%| | 2/210 [00:00<00:48,  4.30it/s\n",
      "\u001b[Aches:   1%| | 3/210 [00:00<00:44,  4.61it/s\n",
      "\u001b[Aches:   2%| | 4/210 [00:00<00:46,  4.38it/s\n",
      "\u001b[Aches:   2%| | 5/210 [00:01<00:47,  4.32it/s\n",
      "\u001b[Aches:   3%| | 6/210 [00:01<00:49,  4.15it/s\n",
      "\u001b[Aches:   3%| | 7/210 [00:01<00:47,  4.30it/s\n",
      "\u001b[Aches:   4%| | 8/210 [00:01<00:46,  4.32it/s\n",
      "\u001b[Aches:   4%| | 9/210 [00:02<00:46,  4.36it/s\n",
      "\u001b[Aches:   5%| | 10/210 [00:02<00:44,  4.51it/\n",
      "\u001b[Aches:   5%| | 11/210 [00:02<00:43,  4.58it/\n",
      "\u001b[Aches:   6%| | 12/210 [00:02<00:43,  4.55it/\n",
      "\u001b[Aches:   6%| | 13/210 [00:02<00:42,  4.63it/\n",
      "\u001b[Aches:   7%| | 14/210 [00:03<00:42,  4.56it/\n",
      "\u001b[Aches:   7%| | 15/210 [00:03<00:41,  4.69it/\n",
      "\u001b[Aches:   8%| | 16/210 [00:03<00:41,  4.66it/\n",
      "\u001b[Aches:   8%| | 17/210 [00:03<00:41,  4.62it/\n",
      "\u001b[Aches:   9%| | 18/210 [00:04<00:42,  4.47it/\n",
      "\u001b[Aches:   9%| | 19/210 [00:04<00:42,  4.51it/\n",
      "\u001b[Aches:  10%| | 20/210 [00:04<00:41,  4.53it/\n",
      "\u001b[Aches:  10%| | 21/210 [00:04<00:41,  4.54it/\n",
      "\u001b[Aches:  10%| | 22/210 [00:04<00:40,  4.60it/\n",
      "\u001b[Aches:  11%| | 23/210 [00:05<00:41,  4.52it/\n",
      "\u001b[Aches:  11%| | 24/210 [00:05<00:40,  4.64it/\n",
      "\u001b[Aches:  12%| | 25/210 [00:05<00:41,  4.41it/\n",
      "\u001b[Aches:  12%| | 26/210 [00:05<00:41,  4.48it/\n",
      "\u001b[Aches:  13%|▏| 27/210 [00:06<00:40,  4.47it/\n",
      "\u001b[Aches:  13%|▏| 28/210 [00:06<00:41,  4.44it/\n",
      "\u001b[Aches:  14%|▏| 29/210 [00:06<00:41,  4.41it/\n",
      "\u001b[Aches:  14%|▏| 30/210 [00:06<00:41,  4.33it/\n",
      "\u001b[Aches:  15%|▏| 31/210 [00:06<00:41,  4.27it/\n",
      "\u001b[Aches:  15%|▏| 32/210 [00:07<00:41,  4.32it/\n",
      "\u001b[Aches:  16%|▏| 33/210 [00:07<00:39,  4.52it/\n",
      "\u001b[Aches:  16%|▏| 34/210 [00:07<00:39,  4.51it/\n",
      "\u001b[Aches:  17%|▏| 35/210 [00:07<00:40,  4.35it/\n",
      "\u001b[Aches:  17%|▏| 36/210 [00:08<00:40,  4.31it/\n",
      "\u001b[Aches:  18%|▏| 37/210 [00:08<00:39,  4.35it/\n",
      "\u001b[Aches:  18%|▏| 38/210 [00:08<00:39,  4.37it/\n",
      "\u001b[Aches:  19%|▏| 39/210 [00:08<00:39,  4.33it/\n",
      "\u001b[Aches:  19%|▏| 40/210 [00:08<00:38,  4.39it/\n",
      "\u001b[Aches:  20%|▏| 41/210 [00:09<00:38,  4.35it/\n",
      "\u001b[Aches:  20%|▏| 42/210 [00:09<00:38,  4.38it/\n",
      "\u001b[Aches:  20%|▏| 43/210 [00:09<00:38,  4.38it/\n",
      "\u001b[Aches:  21%|▏| 44/210 [00:09<00:38,  4.36it/\n",
      "\u001b[Aches:  21%|▏| 45/210 [00:10<00:37,  4.35it/\n",
      "\u001b[Aches:  22%|▏| 46/210 [00:10<00:37,  4.32it/\n",
      "\u001b[Aches:  22%|▏| 47/210 [00:10<00:36,  4.48it/\n",
      "\u001b[Aches:  23%|▏| 48/210 [00:10<00:34,  4.76it/\n",
      "\u001b[Aches:  23%|▏| 49/210 [00:10<00:33,  4.76it/\n",
      "\u001b[Aches:  24%|▏| 50/210 [00:11<00:33,  4.82it/\n",
      "\u001b[Aches:  24%|▏| 51/210 [00:11<00:35,  4.52it/\n",
      "\u001b[Aches:  25%|▏| 52/210 [00:11<00:34,  4.62it/\n",
      "\u001b[Aches:  25%|▎| 53/210 [00:11<00:32,  4.79it/\n",
      "\u001b[Aches:  26%|▎| 54/210 [00:12<00:33,  4.63it/\n",
      "\u001b[Aches:  26%|▎| 55/210 [00:12<00:33,  4.60it/\n",
      "\u001b[Aches:  27%|▎| 56/210 [00:12<00:36,  4.21it/\n",
      "\u001b[Aches:  27%|▎| 57/210 [00:12<00:35,  4.30it/\n",
      "\u001b[Aches:  28%|▎| 58/210 [00:12<00:33,  4.49it/\n",
      "\u001b[Aches:  28%|▎| 59/210 [00:13<00:32,  4.64it/\n",
      "\u001b[Aches:  29%|▎| 60/210 [00:13<00:31,  4.79it/\n",
      "\u001b[Aches:  29%|▎| 61/210 [00:13<00:30,  4.85it/\n",
      "\u001b[Aches:  30%|▎| 62/210 [00:13<00:30,  4.84it/\n",
      "\u001b[Aches:  30%|▎| 63/210 [00:14<00:32,  4.58it/\n",
      "\u001b[Aches:  30%|▎| 64/210 [00:14<00:33,  4.40it/\n",
      "\u001b[Aches:  31%|▎| 65/210 [00:14<00:33,  4.32it/\n",
      "\u001b[Aches:  31%|▎| 66/210 [00:14<00:32,  4.38it/\n",
      "\u001b[Aches:  32%|▎| 67/210 [00:14<00:32,  4.39it/\n",
      "\u001b[Aches:  32%|▎| 68/210 [00:15<00:32,  4.38it/\n",
      "\u001b[Aches:  33%|▎| 69/210 [00:15<00:32,  4.35it/\n",
      "\u001b[Aches:  33%|▎| 70/210 [00:15<00:32,  4.31it/\n",
      "\u001b[Aches:  34%|▎| 71/210 [00:15<00:32,  4.29it/\n",
      "\u001b[Aches:  34%|▎| 72/210 [00:16<00:31,  4.38it/\n",
      "\u001b[Aches:  35%|▎| 73/210 [00:16<00:31,  4.31it/\n",
      "\u001b[Aches:  35%|▎| 74/210 [00:16<00:32,  4.23it/\n",
      "\u001b[Aches:  36%|▎| 75/210 [00:16<00:33,  4.00it/\n",
      "\u001b[Aches:  36%|▎| 76/210 [00:17<00:33,  4.01it/\n",
      "\u001b[Aches:  37%|▎| 77/210 [00:17<00:31,  4.16it/\n",
      "\u001b[Aches:  37%|▎| 78/210 [00:17<00:32,  4.12it/\n",
      "\u001b[Aches:  38%|▍| 79/210 [00:17<00:32,  4.04it/\n",
      "\u001b[Aches:  38%|▍| 80/210 [00:18<00:32,  3.99it/\n",
      "\u001b[Aches:  39%|▍| 81/210 [00:18<00:30,  4.16it/\n",
      "\u001b[Aches:  39%|▍| 82/210 [00:18<00:31,  4.02it/\n",
      "\u001b[Aches:  40%|▍| 83/210 [00:18<00:31,  4.00it/\n",
      "\u001b[Aches:  40%|▍| 84/210 [00:19<00:29,  4.25it/\n",
      "\u001b[Aches:  40%|▍| 85/210 [00:19<00:28,  4.35it/\n",
      "\u001b[Aches:  41%|▍| 86/210 [00:19<00:29,  4.26it/\n",
      "\u001b[Aches:  41%|▍| 87/210 [00:19<00:28,  4.33it/\n",
      "\u001b[Aches:  42%|▍| 88/210 [00:19<00:27,  4.44it/\n",
      "\u001b[Aches:  42%|▍| 89/210 [00:20<00:27,  4.35it/\n",
      "\u001b[Aches:  43%|▍| 90/210 [00:20<00:27,  4.37it/\n",
      "\u001b[Aches:  43%|▍| 91/210 [00:20<00:26,  4.46it/\n",
      "\u001b[Aches:  44%|▍| 92/210 [00:20<00:26,  4.48it/\n",
      "\u001b[Aches:  44%|▍| 93/210 [00:21<00:24,  4.72it/\n",
      "\u001b[Aches:  45%|▍| 94/210 [00:21<00:25,  4.57it/\n",
      "\u001b[Aches:  45%|▍| 95/210 [00:21<00:25,  4.56it/\n",
      "\u001b[Aches:  46%|▍| 96/210 [00:21<00:24,  4.60it/\n",
      "\u001b[Aches:  46%|▍| 97/210 [00:21<00:24,  4.57it/\n",
      "\u001b[Aches:  47%|▍| 98/210 [00:22<00:24,  4.56it/\n",
      "\u001b[Aches:  47%|▍| 99/210 [00:22<00:24,  4.50it/\n",
      "\u001b[Aches:  48%|▍| 100/210 [00:22<00:24,  4.53it\n",
      "\u001b[Aches:  48%|▍| 101/210 [00:22<00:23,  4.56it\n",
      "\u001b[Aches:  49%|▍| 102/210 [00:23<00:24,  4.45it\n",
      "\u001b[Aches:  49%|▍| 103/210 [00:23<00:23,  4.59it\n",
      "\u001b[Aches:  50%|▍| 104/210 [00:23<00:23,  4.48it\n",
      "\u001b[Aches:  50%|▌| 105/210 [00:23<00:23,  4.45it\n",
      "\u001b[Aches:  50%|▌| 106/210 [00:23<00:22,  4.64it\n",
      "\u001b[Aches:  51%|▌| 107/210 [00:24<00:21,  4.76it\n",
      "\u001b[Aches:  51%|▌| 108/210 [00:24<00:21,  4.66it\n",
      "\u001b[Aches:  52%|▌| 109/210 [00:24<00:22,  4.57it\n",
      "\u001b[Aches:  52%|▌| 110/210 [00:24<00:22,  4.45it\n",
      "\u001b[Aches:  53%|▌| 111/210 [00:25<00:22,  4.49it\n",
      "\u001b[Aches:  53%|▌| 112/210 [00:25<00:21,  4.59it\n",
      "\u001b[Aches:  54%|▌| 113/210 [00:25<00:23,  4.16it\n",
      "\u001b[Aches:  54%|▌| 114/210 [00:25<00:23,  4.09it\n",
      "\u001b[Aches:  55%|▌| 115/210 [00:25<00:22,  4.21it\n",
      "\u001b[Aches:  55%|▌| 116/210 [00:26<00:21,  4.31it\n",
      "\u001b[Aches:  56%|▌| 117/210 [00:26<00:21,  4.39it\n",
      "\u001b[Aches:  56%|▌| 118/210 [00:26<00:20,  4.55it\n",
      "\u001b[Aches:  57%|▌| 119/210 [00:26<00:20,  4.37it\n",
      "\u001b[Aches:  57%|▌| 120/210 [00:27<00:20,  4.40it\n",
      "\u001b[Aches:  58%|▌| 121/210 [00:27<00:20,  4.26it\n",
      "\u001b[Aches:  58%|▌| 122/210 [00:27<00:21,  4.09it\n",
      "\u001b[Aches:  59%|▌| 123/210 [00:27<00:20,  4.34it\n",
      "\u001b[Aches:  59%|▌| 124/210 [00:28<00:19,  4.44it\n",
      "\u001b[Aches:  60%|▌| 125/210 [00:28<00:18,  4.71it\n",
      "\u001b[Aches:  60%|▌| 126/210 [00:28<00:17,  4.79it\n",
      "\u001b[Aches:  60%|▌| 127/210 [00:28<00:17,  4.68it\n",
      "\u001b[Aches:  61%|▌| 128/210 [00:28<00:17,  4.73it\n",
      "\u001b[Aches:  61%|▌| 129/210 [00:29<00:16,  4.78it\n",
      "\u001b[Aches:  62%|▌| 130/210 [00:29<00:16,  4.86it\n",
      "\u001b[Aches:  62%|▌| 131/210 [00:29<00:16,  4.75it\n",
      "\u001b[Aches:  63%|▋| 132/210 [00:29<00:16,  4.71it\n",
      "\u001b[Aches:  63%|▋| 133/210 [00:29<00:16,  4.70it\n",
      "\u001b[Aches:  64%|▋| 134/210 [00:30<00:16,  4.61it\n",
      "\u001b[Aches:  64%|▋| 135/210 [00:30<00:16,  4.62it\n",
      "\u001b[Aches:  65%|▋| 136/210 [00:30<00:15,  4.67it\n",
      "\u001b[Aches:  65%|▋| 137/210 [00:30<00:16,  4.53it\n",
      "\u001b[Aches:  66%|▋| 138/210 [00:31<00:16,  4.49it\n",
      "\u001b[Aches:  66%|▋| 139/210 [00:31<00:15,  4.59it\n",
      "\u001b[Aches:  67%|▋| 140/210 [00:31<00:14,  4.75it\n",
      "\u001b[Aches:  67%|▋| 141/210 [00:31<00:15,  4.59it\n",
      "\u001b[Aches:  68%|▋| 142/210 [00:31<00:14,  4.56it\n",
      "\u001b[Aches:  68%|▋| 143/210 [00:32<00:14,  4.58it\n",
      "\u001b[Aches:  69%|▋| 144/210 [00:32<00:14,  4.70it\n",
      "\u001b[Aches:  69%|▋| 145/210 [00:32<00:14,  4.51it\n",
      "\u001b[Aches:  70%|▋| 146/210 [00:32<00:14,  4.45it\n",
      "\u001b[Aches:  70%|▋| 147/210 [00:32<00:13,  4.67it\n",
      "\u001b[Aches:  70%|▋| 148/210 [00:33<00:14,  4.39it\n",
      "\u001b[Aches:  71%|▋| 149/210 [00:33<00:13,  4.45it\n",
      "\u001b[Aches:  71%|▋| 150/210 [00:33<00:13,  4.39it\n",
      "\u001b[Aches:  72%|▋| 151/210 [00:33<00:13,  4.36it\n",
      "\u001b[Aches:  72%|▋| 152/210 [00:34<00:13,  4.27it\n",
      "\u001b[Aches:  73%|▋| 153/210 [00:34<00:13,  4.12it\n",
      "\u001b[Aches:  73%|▋| 154/210 [00:34<00:13,  4.07it\n",
      "\u001b[Aches:  74%|▋| 155/210 [00:34<00:13,  4.09it\n",
      "\u001b[Aches:  74%|▋| 156/210 [00:35<00:13,  4.13it\n",
      "\u001b[Aches:  75%|▋| 157/210 [00:35<00:13,  4.02it\n",
      "\u001b[Aches:  75%|▊| 158/210 [00:35<00:12,  4.13it\n",
      "\u001b[Aches:  76%|▊| 159/210 [00:35<00:12,  4.18it\n",
      "\u001b[Aches:  76%|▊| 160/210 [00:36<00:11,  4.44it\n",
      "\u001b[Aches:  77%|▊| 161/210 [00:36<00:10,  4.52it\n",
      "\u001b[Aches:  77%|▊| 162/210 [00:36<00:10,  4.46it\n",
      "\u001b[Aches:  78%|▊| 163/210 [00:36<00:10,  4.42it\n",
      "\u001b[Aches:  78%|▊| 164/210 [00:36<00:10,  4.19it\n",
      "\u001b[Aches:  79%|▊| 165/210 [00:37<00:10,  4.33it\n",
      "\u001b[Aches:  79%|▊| 166/210 [00:37<00:10,  4.25it\n",
      "\u001b[Aches:  80%|▊| 167/210 [00:37<00:10,  3.99it\n",
      "\u001b[Aches:  80%|▊| 168/210 [00:38<00:10,  3.89it\n",
      "\u001b[Aches:  80%|▊| 169/210 [00:38<00:10,  4.03it\n",
      "\u001b[Aches:  81%|▊| 170/210 [00:38<00:09,  4.02it\n",
      "\u001b[Aches:  81%|▊| 171/210 [00:38<00:09,  4.08it\n",
      "\u001b[Aches:  82%|▊| 172/210 [00:38<00:08,  4.25it\n",
      "\u001b[Aches:  82%|▊| 173/210 [00:39<00:08,  4.33it\n",
      "\u001b[Aches:  83%|▊| 174/210 [00:39<00:08,  4.18it\n",
      "\u001b[Aches:  83%|▊| 175/210 [00:39<00:08,  4.18it\n",
      "\u001b[Aches:  84%|▊| 176/210 [00:39<00:08,  4.12it\n",
      "\u001b[Aches:  84%|▊| 177/210 [00:40<00:08,  4.10it\n",
      "\u001b[Aches:  85%|▊| 178/210 [00:40<00:07,  4.21it\n",
      "\u001b[Aches:  85%|▊| 179/210 [00:40<00:07,  4.01it\n",
      "\u001b[Aches:  86%|▊| 180/210 [00:40<00:07,  4.05it\n",
      "\u001b[Aches:  86%|▊| 181/210 [00:41<00:07,  4.01it\n",
      "\u001b[Aches:  87%|▊| 182/210 [00:41<00:07,  3.96it\n",
      "\u001b[Aches:  87%|▊| 183/210 [00:41<00:06,  4.05it\n",
      "\u001b[Aches:  88%|▉| 184/210 [00:41<00:06,  4.23it\n",
      "\u001b[Aches:  88%|▉| 185/210 [00:42<00:06,  4.02it\n",
      "\u001b[Aches:  89%|▉| 186/210 [00:42<00:06,  3.98it\n",
      "\u001b[Aches:  89%|▉| 187/210 [00:42<00:05,  4.01it\n",
      "\u001b[Aches:  90%|▉| 188/210 [00:42<00:05,  4.08it\n",
      "\u001b[Aches:  90%|▉| 189/210 [00:43<00:05,  4.17it\n",
      "\u001b[Aches:  90%|▉| 190/210 [00:43<00:05,  3.97it\n",
      "\u001b[Aches:  91%|▉| 191/210 [00:43<00:04,  4.02it\n",
      "\u001b[Aches:  91%|▉| 192/210 [00:43<00:04,  3.98it\n",
      "\u001b[Aches:  92%|▉| 193/210 [00:44<00:04,  4.11it\n",
      "\u001b[Aches:  92%|▉| 194/210 [00:44<00:03,  4.21it\n",
      "\u001b[Aches:  93%|▉| 195/210 [00:44<00:03,  4.30it\n",
      "\u001b[Aches:  93%|▉| 196/210 [00:44<00:03,  4.17it\n",
      "\u001b[Aches:  94%|▉| 197/210 [00:45<00:03,  4.13it\n",
      "\u001b[Aches:  94%|▉| 198/210 [00:45<00:02,  4.21it\n",
      "\u001b[Aches:  95%|▉| 199/210 [00:45<00:02,  4.15it\n",
      "\u001b[Aches:  95%|▉| 200/210 [00:45<00:02,  4.10it\n",
      "\u001b[Aches:  96%|▉| 201/210 [00:46<00:02,  3.95it\n",
      "\u001b[Aches:  96%|▉| 202/210 [00:46<00:02,  3.94it\n",
      "\u001b[Aches:  97%|▉| 203/210 [00:46<00:01,  4.08it\n",
      "\u001b[Aches:  97%|▉| 204/210 [00:46<00:01,  3.92it\n",
      "\u001b[Aches:  98%|▉| 205/210 [00:47<00:01,  4.03it\n",
      "\u001b[Aches:  98%|▉| 206/210 [00:47<00:01,  3.88it\n",
      "\u001b[Aches:  99%|▉| 207/210 [00:47<00:00,  3.94it\n",
      "\u001b[Aches:  99%|▉| 208/210 [00:47<00:00,  3.94it\n",
      "\u001b[Aches: 100%|▉| 209/210 [00:48<00:00,  4.15it\n",
      "\u001b[Aches: 100%|█| 210/210 [00:48<00:00,  5.03it\n",
      "Epoch:  60%|██▍ | 3/5 [02:44<01:47, 53.66s/it]"
     ]
    },
    {
     "name": "stdout",
     "output_type": "stream",
     "text": [
      "Epoch 3:\n",
      "Validation Loss = 2.4983443366156686\n",
      "Validation Average Error = [0.04257243 0.24951649 0.3750434         inf]\n",
      "\n",
      "-------------------------------\n",
      "\n"
     ]
    },
    {
     "name": "stderr",
     "output_type": "stream",
     "text": [
      "\n",
      "\u001b[Aches:   0%|        | 0/210 [00:00<?, ?it/s]\n",
      "\u001b[Aches:   0%| | 1/210 [00:00<00:46,  4.54it/s\n",
      "\u001b[Aches:   1%| | 2/210 [00:00<00:49,  4.22it/s\n",
      "\u001b[Aches:   1%| | 3/210 [00:00<00:53,  3.89it/s\n",
      "\u001b[Aches:   2%| | 4/210 [00:01<00:53,  3.86it/s\n",
      "\u001b[Aches:   2%| | 5/210 [00:01<00:51,  4.00it/s\n",
      "\u001b[Aches:   3%| | 6/210 [00:01<00:51,  4.00it/s\n",
      "\u001b[Aches:   3%| | 7/210 [00:01<00:50,  4.04it/s\n",
      "\u001b[Aches:   4%| | 8/210 [00:01<00:49,  4.04it/s\n",
      "\u001b[Aches:   4%| | 9/210 [00:02<00:49,  4.06it/s\n",
      "\u001b[Aches:   5%| | 10/210 [00:02<00:49,  4.04it/\n",
      "\u001b[Aches:   5%| | 11/210 [00:02<00:48,  4.12it/\n",
      "\u001b[Aches:   6%| | 12/210 [00:02<00:47,  4.14it/\n",
      "\u001b[Aches:   6%| | 13/210 [00:03<00:47,  4.13it/\n",
      "\u001b[Aches:   7%| | 14/210 [00:03<00:47,  4.08it/\n",
      "\u001b[Aches:   7%| | 15/210 [00:03<00:47,  4.07it/\n",
      "\u001b[Aches:   8%| | 16/210 [00:03<00:47,  4.08it/\n",
      "\u001b[Aches:   8%| | 17/210 [00:04<00:47,  4.03it/\n",
      "\u001b[Aches:   9%| | 18/210 [00:04<00:45,  4.25it/\n",
      "\u001b[Aches:   9%| | 19/210 [00:04<00:46,  4.10it/\n",
      "\u001b[Aches:  10%| | 20/210 [00:04<00:47,  4.01it/\n",
      "\u001b[Aches:  10%| | 21/210 [00:05<00:48,  3.94it/\n",
      "\u001b[Aches:  10%| | 22/210 [00:05<00:44,  4.23it/\n",
      "\u001b[Aches:  11%| | 23/210 [00:05<00:45,  4.11it/\n",
      "\u001b[Aches:  11%| | 24/210 [00:05<00:43,  4.23it/\n",
      "\u001b[Aches:  12%| | 25/210 [00:06<00:44,  4.13it/\n",
      "\u001b[Aches:  12%| | 26/210 [00:06<00:44,  4.12it/\n",
      "\u001b[Aches:  13%|▏| 27/210 [00:06<00:44,  4.15it/\n",
      "\u001b[Aches:  13%|▏| 28/210 [00:06<00:43,  4.23it/\n",
      "\u001b[Aches:  14%|▏| 29/210 [00:07<00:43,  4.19it/\n",
      "\u001b[Aches:  14%|▏| 30/210 [00:07<00:43,  4.13it/\n",
      "\u001b[Aches:  15%|▏| 31/210 [00:07<00:44,  4.03it/\n",
      "\u001b[Aches:  15%|▏| 32/210 [00:07<00:43,  4.11it/\n",
      "\u001b[Aches:  16%|▏| 33/210 [00:08<00:43,  4.09it/\n",
      "\u001b[Aches:  16%|▏| 34/210 [00:08<00:43,  4.06it/\n",
      "\u001b[Aches:  17%|▏| 35/210 [00:08<00:42,  4.10it/\n",
      "\u001b[Aches:  17%|▏| 36/210 [00:08<00:42,  4.06it/\n",
      "\u001b[Aches:  18%|▏| 37/210 [00:09<00:42,  4.10it/\n",
      "\u001b[Aches:  18%|▏| 38/210 [00:09<00:40,  4.30it/\n",
      "\u001b[Aches:  19%|▏| 39/210 [00:09<00:38,  4.45it/\n",
      "\u001b[Aches:  19%|▏| 40/210 [00:09<00:39,  4.32it/\n",
      "\u001b[Aches:  20%|▏| 41/210 [00:09<00:39,  4.28it/\n",
      "\u001b[Aches:  20%|▏| 42/210 [00:10<00:39,  4.21it/\n",
      "\u001b[Aches:  20%|▏| 43/210 [00:10<00:40,  4.10it/\n",
      "\u001b[Aches:  21%|▏| 44/210 [00:10<00:40,  4.12it/\n",
      "\u001b[Aches:  21%|▏| 45/210 [00:10<00:40,  4.05it/\n",
      "\u001b[Aches:  22%|▏| 46/210 [00:11<00:40,  4.05it/\n",
      "\u001b[Aches:  22%|▏| 47/210 [00:11<00:41,  3.95it/\n",
      "\u001b[Aches:  23%|▏| 48/210 [00:11<00:41,  3.90it/\n",
      "\u001b[Aches:  23%|▏| 49/210 [00:11<00:41,  3.92it/\n",
      "\u001b[Aches:  24%|▏| 50/210 [00:12<00:41,  3.90it/\n",
      "\u001b[Aches:  24%|▏| 51/210 [00:12<00:41,  3.88it/\n",
      "\u001b[Aches:  25%|▏| 52/210 [00:12<00:41,  3.82it/\n",
      "\u001b[Aches:  25%|▎| 53/210 [00:12<00:38,  4.06it/\n",
      "\u001b[Aches:  26%|▎| 54/210 [00:13<00:38,  4.04it/\n",
      "\u001b[Aches:  26%|▎| 55/210 [00:13<00:38,  4.08it/\n",
      "\u001b[Aches:  27%|▎| 56/210 [00:13<00:37,  4.14it/\n",
      "\u001b[Aches:  27%|▎| 57/210 [00:13<00:37,  4.13it/\n",
      "\u001b[Aches:  28%|▎| 58/210 [00:14<00:36,  4.21it/\n",
      "\u001b[Aches:  28%|▎| 59/210 [00:14<00:35,  4.22it/\n",
      "\u001b[Aches:  29%|▎| 60/210 [00:14<00:34,  4.31it/\n",
      "\u001b[Aches:  29%|▎| 61/210 [00:14<00:34,  4.30it/\n",
      "\u001b[Aches:  30%|▎| 62/210 [00:15<00:35,  4.12it/\n",
      "\u001b[Aches:  30%|▎| 63/210 [00:15<00:34,  4.21it/\n",
      "\u001b[Aches:  30%|▎| 64/210 [00:15<00:33,  4.37it/\n",
      "\u001b[Aches:  31%|▎| 65/210 [00:15<00:31,  4.54it/\n",
      "\u001b[Aches:  31%|▎| 66/210 [00:15<00:32,  4.48it/\n",
      "\u001b[Aches:  32%|▎| 67/210 [00:16<00:32,  4.44it/\n",
      "\u001b[Aches:  32%|▎| 68/210 [00:16<00:33,  4.28it/\n",
      "\u001b[Aches:  33%|▎| 69/210 [00:16<00:32,  4.40it/\n",
      "\u001b[Aches:  33%|▎| 70/210 [00:16<00:31,  4.38it/\n",
      "\u001b[Aches:  34%|▎| 71/210 [00:17<00:32,  4.32it/\n",
      "\u001b[Aches:  34%|▎| 72/210 [00:17<00:32,  4.21it/\n",
      "\u001b[Aches:  35%|▎| 73/210 [00:17<00:31,  4.42it/\n",
      "\u001b[Aches:  35%|▎| 74/210 [00:17<00:30,  4.42it/\n",
      "\u001b[Aches:  36%|▎| 75/210 [00:18<00:29,  4.56it/\n",
      "\u001b[Aches:  36%|▎| 76/210 [00:18<00:29,  4.50it/\n",
      "\u001b[Aches:  37%|▎| 77/210 [00:18<00:29,  4.50it/\n",
      "\u001b[Aches:  37%|▎| 78/210 [00:18<00:29,  4.40it/\n",
      "\u001b[Aches:  38%|▍| 79/210 [00:18<00:30,  4.32it/\n",
      "\u001b[Aches:  38%|▍| 80/210 [00:19<00:29,  4.34it/\n",
      "\u001b[Aches:  39%|▍| 81/210 [00:19<00:29,  4.32it/\n",
      "\u001b[Aches:  39%|▍| 82/210 [00:19<00:29,  4.28it/\n",
      "\u001b[Aches:  40%|▍| 83/210 [00:19<00:28,  4.41it/\n",
      "\u001b[Aches:  40%|▍| 84/210 [00:20<00:29,  4.34it/\n",
      "\u001b[Aches:  40%|▍| 85/210 [00:20<00:28,  4.34it/\n",
      "\u001b[Aches:  41%|▍| 86/210 [00:20<00:27,  4.44it/\n",
      "\u001b[Aches:  41%|▍| 87/210 [00:20<00:28,  4.33it/\n",
      "\u001b[Aches:  42%|▍| 88/210 [00:21<00:28,  4.35it/\n",
      "\u001b[Aches:  42%|▍| 89/210 [00:21<00:26,  4.50it/\n",
      "\u001b[Aches:  43%|▍| 90/210 [00:21<00:27,  4.42it/\n",
      "\u001b[Aches:  43%|▍| 91/210 [00:21<00:26,  4.48it/\n",
      "\u001b[Aches:  44%|▍| 92/210 [00:21<00:25,  4.62it/\n",
      "\u001b[Aches:  44%|▍| 93/210 [00:22<00:24,  4.85it/\n",
      "\u001b[Aches:  45%|▍| 94/210 [00:22<00:24,  4.74it/\n",
      "\u001b[Aches:  45%|▍| 95/210 [00:22<00:25,  4.59it/\n",
      "\u001b[Aches:  46%|▍| 96/210 [00:22<00:25,  4.45it/\n",
      "\u001b[Aches:  46%|▍| 97/210 [00:23<00:26,  4.33it/\n",
      "\u001b[Aches:  47%|▍| 98/210 [00:23<00:25,  4.33it/\n",
      "\u001b[Aches:  47%|▍| 99/210 [00:23<00:25,  4.35it/\n",
      "\u001b[Aches:  48%|▍| 100/210 [00:23<00:24,  4.45it\n",
      "\u001b[Aches:  48%|▍| 101/210 [00:23<00:24,  4.48it\n",
      "\u001b[Aches:  49%|▍| 102/210 [00:24<00:24,  4.40it\n",
      "\u001b[Aches:  49%|▍| 103/210 [00:24<00:24,  4.37it\n",
      "\u001b[Aches:  50%|▍| 104/210 [00:24<00:23,  4.49it\n",
      "\u001b[Aches:  50%|▌| 105/210 [00:24<00:24,  4.36it\n",
      "\u001b[Aches:  50%|▌| 106/210 [00:25<00:24,  4.19it\n",
      "\u001b[Aches:  51%|▌| 107/210 [00:25<00:24,  4.15it\n",
      "\u001b[Aches:  51%|▌| 108/210 [00:25<00:23,  4.29it\n",
      "\u001b[Aches:  52%|▌| 109/210 [00:25<00:23,  4.34it\n",
      "\u001b[Aches:  52%|▌| 110/210 [00:26<00:23,  4.21it\n",
      "\u001b[Aches:  53%|▌| 111/210 [00:26<00:23,  4.14it\n",
      "\u001b[Aches:  53%|▌| 112/210 [00:26<00:24,  4.00it\n",
      "\u001b[Aches:  54%|▌| 113/210 [00:26<00:23,  4.05it\n",
      "\u001b[Aches:  54%|▌| 114/210 [00:27<00:23,  4.13it\n",
      "\u001b[Aches:  55%|▌| 115/210 [00:27<00:23,  4.06it\n",
      "\u001b[Aches:  55%|▌| 116/210 [00:27<00:23,  4.08it\n",
      "\u001b[Aches:  56%|▌| 117/210 [00:27<00:23,  4.02it\n",
      "\u001b[Aches:  56%|▌| 118/210 [00:28<00:23,  3.99it\n",
      "\u001b[Aches:  57%|▌| 119/210 [00:28<00:22,  4.12it\n",
      "\u001b[Aches:  57%|▌| 120/210 [00:28<00:21,  4.22it\n",
      "\u001b[Aches:  58%|▌| 121/210 [00:28<00:20,  4.36it\n",
      "\u001b[Aches:  58%|▌| 122/210 [00:28<00:20,  4.26it\n",
      "\u001b[Aches:  59%|▌| 123/210 [00:29<00:21,  4.12it\n",
      "\u001b[Aches:  59%|▌| 124/210 [00:29<00:21,  4.08it\n",
      "\u001b[Aches:  60%|▌| 125/210 [00:29<00:21,  3.99it\n",
      "\u001b[Aches:  60%|▌| 126/210 [00:29<00:21,  3.98it\n",
      "\u001b[Aches:  60%|▌| 127/210 [00:30<00:19,  4.19it\n",
      "\u001b[Aches:  61%|▌| 128/210 [00:30<00:20,  4.09it\n",
      "\u001b[Aches:  61%|▌| 129/210 [00:30<00:19,  4.18it\n",
      "\u001b[Aches:  62%|▌| 130/210 [00:30<00:18,  4.29it\n",
      "\u001b[Aches:  62%|▌| 131/210 [00:31<00:18,  4.27it\n",
      "\u001b[Aches:  63%|▋| 132/210 [00:31<00:18,  4.31it\n",
      "\u001b[Aches:  63%|▋| 133/210 [00:31<00:17,  4.37it\n",
      "\u001b[Aches:  64%|▋| 134/210 [00:31<00:17,  4.24it\n",
      "\u001b[Aches:  64%|▋| 135/210 [00:32<00:17,  4.18it\n",
      "\u001b[Aches:  65%|▋| 136/210 [00:32<00:17,  4.19it\n",
      "\u001b[Aches:  65%|▋| 137/210 [00:32<00:17,  4.12it\n",
      "\u001b[Aches:  66%|▋| 138/210 [00:32<00:17,  4.20it\n",
      "\u001b[Aches:  66%|▋| 139/210 [00:33<00:17,  4.11it\n",
      "\u001b[Aches:  67%|▋| 140/210 [00:33<00:18,  3.71it\n",
      "\u001b[Aches:  67%|▋| 141/210 [00:33<00:17,  3.85it\n",
      "\u001b[Aches:  68%|▋| 142/210 [00:33<00:16,  4.04it\n",
      "\u001b[Aches:  68%|▋| 143/210 [00:34<00:16,  3.98it\n",
      "\u001b[Aches:  69%|▋| 144/210 [00:34<00:16,  4.01it\n",
      "\u001b[Aches:  69%|▋| 145/210 [00:34<00:16,  4.00it\n",
      "\u001b[Aches:  70%|▋| 146/210 [00:34<00:16,  3.97it\n",
      "\u001b[Aches:  70%|▋| 147/210 [00:35<00:15,  4.11it\n",
      "\u001b[Aches:  70%|▋| 148/210 [00:35<00:15,  4.08it\n",
      "\u001b[Aches:  71%|▋| 149/210 [00:35<00:15,  4.01it\n",
      "\u001b[Aches:  71%|▋| 150/210 [00:35<00:14,  4.00it\n",
      "\u001b[Aches:  72%|▋| 151/210 [00:36<00:14,  4.08it\n",
      "\u001b[Aches:  72%|▋| 152/210 [00:36<00:14,  4.03it\n",
      "\u001b[Aches:  73%|▋| 153/210 [00:36<00:13,  4.09it\n",
      "\u001b[Aches:  73%|▋| 154/210 [00:36<00:13,  4.11it\n",
      "\u001b[Aches:  74%|▋| 155/210 [00:37<00:13,  4.00it\n",
      "\u001b[Aches:  74%|▋| 156/210 [00:37<00:13,  3.92it\n",
      "\u001b[Aches:  75%|▋| 157/210 [00:37<00:13,  3.98it\n",
      "\u001b[Aches:  75%|▊| 158/210 [00:37<00:12,  4.09it\n",
      "\u001b[Aches:  76%|▊| 159/210 [00:38<00:12,  4.15it\n",
      "\u001b[Aches:  76%|▊| 160/210 [00:38<00:12,  4.15it\n",
      "\u001b[Aches:  77%|▊| 161/210 [00:38<00:11,  4.10it\n",
      "\u001b[Aches:  77%|▊| 162/210 [00:38<00:11,  4.22it\n",
      "\u001b[Aches:  78%|▊| 163/210 [00:38<00:11,  4.14it\n",
      "\u001b[Aches:  78%|▊| 164/210 [00:39<00:11,  4.16it\n",
      "\u001b[Aches:  79%|▊| 165/210 [00:39<00:10,  4.26it\n",
      "\u001b[Aches:  79%|▊| 166/210 [00:39<00:10,  4.24it\n",
      "\u001b[Aches:  80%|▊| 167/210 [00:39<00:10,  4.18it\n",
      "\u001b[Aches:  80%|▊| 168/210 [00:40<00:10,  4.10it\n",
      "\u001b[Aches:  80%|▊| 169/210 [00:40<00:10,  4.06it\n",
      "\u001b[Aches:  81%|▊| 170/210 [00:40<00:09,  4.12it\n",
      "\u001b[Aches:  81%|▊| 171/210 [00:40<00:09,  4.03it\n",
      "\u001b[Aches:  82%|▊| 172/210 [00:41<00:09,  4.02it\n",
      "\u001b[Aches:  82%|▊| 173/210 [00:41<00:09,  4.04it\n",
      "\u001b[Aches:  83%|▊| 174/210 [00:41<00:08,  4.05it\n",
      "\u001b[Aches:  83%|▊| 175/210 [00:41<00:08,  4.09it\n",
      "\u001b[Aches:  84%|▊| 176/210 [00:42<00:08,  3.99it\n",
      "\u001b[Aches:  84%|▊| 177/210 [00:42<00:07,  4.14it\n",
      "\u001b[Aches:  85%|▊| 178/210 [00:42<00:07,  4.13it\n",
      "\u001b[Aches:  85%|▊| 179/210 [00:42<00:07,  4.09it\n",
      "\u001b[Aches:  86%|▊| 180/210 [00:43<00:07,  4.15it\n",
      "\u001b[Aches:  86%|▊| 181/210 [00:43<00:07,  4.13it\n",
      "\u001b[Aches:  87%|▊| 182/210 [00:43<00:06,  4.22it\n",
      "\u001b[Aches:  87%|▊| 183/210 [00:43<00:06,  4.26it\n",
      "\u001b[Aches:  88%|▉| 184/210 [00:44<00:06,  4.27it\n",
      "\u001b[Aches:  88%|▉| 185/210 [00:44<00:05,  4.18it\n",
      "\u001b[Aches:  89%|▉| 186/210 [00:44<00:05,  4.19it\n",
      "\u001b[Aches:  89%|▉| 187/210 [00:44<00:05,  4.35it\n",
      "\u001b[Aches:  90%|▉| 188/210 [00:44<00:05,  4.25it\n",
      "\u001b[Aches:  90%|▉| 189/210 [00:45<00:04,  4.26it\n",
      "\u001b[Aches:  90%|▉| 190/210 [00:45<00:04,  4.24it\n",
      "\u001b[Aches:  91%|▉| 191/210 [00:45<00:04,  4.12it\n",
      "\u001b[Aches:  91%|▉| 192/210 [00:45<00:04,  4.20it\n",
      "\u001b[Aches:  92%|▉| 193/210 [00:46<00:04,  4.18it\n",
      "\u001b[Aches:  92%|▉| 194/210 [00:46<00:03,  4.12it\n",
      "\u001b[Aches:  93%|▉| 195/210 [00:46<00:03,  4.10it\n",
      "\u001b[Aches:  93%|▉| 196/210 [00:46<00:03,  4.10it\n",
      "\u001b[Aches:  94%|▉| 197/210 [00:47<00:03,  4.06it\n",
      "\u001b[Aches:  94%|▉| 198/210 [00:47<00:03,  4.00it\n",
      "\u001b[Aches:  95%|▉| 199/210 [00:47<00:02,  4.05it\n",
      "\u001b[Aches:  95%|▉| 200/210 [00:47<00:02,  4.00it\n",
      "\u001b[Aches:  96%|▉| 201/210 [00:48<00:02,  4.05it\n",
      "\u001b[Aches:  96%|▉| 202/210 [00:48<00:01,  4.23it\n",
      "\u001b[Aches:  97%|▉| 203/210 [00:48<00:01,  3.84it\n",
      "\u001b[Aches:  97%|▉| 204/210 [00:48<00:01,  3.85it\n",
      "\u001b[Aches:  98%|▉| 205/210 [00:49<00:01,  3.85it\n",
      "\u001b[Aches:  98%|▉| 206/210 [00:49<00:00,  4.08it\n",
      "\u001b[Aches:  99%|▉| 207/210 [00:49<00:00,  4.12it\n",
      "\u001b[Aches:  99%|▉| 208/210 [00:49<00:00,  4.18it\n",
      "\u001b[Aches: 100%|▉| 209/210 [00:50<00:00,  4.15it\n",
      "\u001b[Aches: 100%|█| 210/210 [00:50<00:00,  5.02it\n",
      "Epoch:  80%|███▏| 4/5 [03:37<00:53, 53.51s/it]"
     ]
    },
    {
     "name": "stdout",
     "output_type": "stream",
     "text": [
      "Epoch 4:\n",
      "Validation Loss = 2.561244993739658\n",
      "Validation Average Error = [0.06832096 0.33352444 0.35840106        inf]\n",
      "\n",
      "-------------------------------\n",
      "\n"
     ]
    },
    {
     "name": "stderr",
     "output_type": "stream",
     "text": [
      "\n",
      "\u001b[Aches:   0%|        | 0/210 [00:00<?, ?it/s]\n",
      "\u001b[Aches:   0%| | 1/210 [00:00<00:49,  4.22it/s\n",
      "\u001b[Aches:   1%| | 2/210 [00:00<00:49,  4.17it/s\n",
      "\u001b[Aches:   1%| | 3/210 [00:00<00:48,  4.28it/s\n",
      "\u001b[Aches:   2%| | 4/210 [00:00<00:47,  4.30it/s\n",
      "\u001b[Aches:   2%| | 5/210 [00:01<00:48,  4.23it/s\n",
      "\u001b[Aches:   3%| | 6/210 [00:01<00:48,  4.22it/s\n",
      "\u001b[Aches:   3%| | 7/210 [00:01<00:49,  4.07it/s\n",
      "\u001b[Aches:   4%| | 8/210 [00:01<00:49,  4.09it/s\n",
      "\u001b[Aches:   4%| | 9/210 [00:02<00:49,  4.04it/s\n",
      "\u001b[Aches:   5%| | 10/210 [00:02<00:47,  4.20it/\n",
      "\u001b[Aches:   5%| | 11/210 [00:02<00:49,  4.03it/\n",
      "\u001b[Aches:   6%| | 12/210 [00:02<00:48,  4.06it/\n",
      "\u001b[Aches:   6%| | 13/210 [00:03<00:48,  4.03it/\n",
      "\u001b[Aches:   7%| | 14/210 [00:03<00:49,  3.97it/\n",
      "\u001b[Aches:   7%| | 15/210 [00:03<00:45,  4.30it/\n",
      "\u001b[Aches:   8%| | 16/210 [00:03<00:44,  4.33it/\n",
      "\u001b[Aches:   8%| | 17/210 [00:04<00:44,  4.35it/\n",
      "\u001b[Aches:   9%| | 18/210 [00:04<00:44,  4.29it/\n",
      "\u001b[Aches:   9%| | 19/210 [00:04<00:41,  4.57it/\n",
      "\u001b[Aches:  10%| | 20/210 [00:04<00:41,  4.56it/\n",
      "\u001b[Aches:  10%| | 21/210 [00:04<00:42,  4.50it/\n",
      "\u001b[Aches:  10%| | 22/210 [00:05<00:41,  4.52it/\n",
      "\u001b[Aches:  11%| | 23/210 [00:05<00:40,  4.60it/\n",
      "\u001b[Aches:  11%| | 24/210 [00:05<00:40,  4.58it/\n",
      "\u001b[Aches:  12%| | 25/210 [00:05<00:41,  4.43it/\n",
      "\u001b[Aches:  12%| | 26/210 [00:06<00:41,  4.43it/\n",
      "\u001b[Aches:  13%|▏| 27/210 [00:06<00:41,  4.40it/\n",
      "\u001b[Aches:  13%|▏| 28/210 [00:06<00:40,  4.49it/\n",
      "\u001b[Aches:  14%|▏| 29/210 [00:06<00:38,  4.72it/\n",
      "\u001b[Aches:  14%|▏| 30/210 [00:06<00:38,  4.67it/\n",
      "\u001b[Aches:  15%|▏| 31/210 [00:07<00:38,  4.64it/\n",
      "\u001b[Aches:  15%|▏| 32/210 [00:07<00:39,  4.50it/\n",
      "\u001b[Aches:  16%|▏| 33/210 [00:07<00:37,  4.71it/\n",
      "\u001b[Aches:  16%|▏| 34/210 [00:07<00:37,  4.67it/\n",
      "\u001b[Aches:  17%|▏| 35/210 [00:07<00:38,  4.59it/\n",
      "\u001b[Aches:  17%|▏| 36/210 [00:08<00:38,  4.52it/\n",
      "\u001b[Aches:  18%|▏| 37/210 [00:08<00:36,  4.75it/\n",
      "\u001b[Aches:  18%|▏| 38/210 [00:08<00:35,  4.78it/\n",
      "\u001b[Aches:  19%|▏| 39/210 [00:08<00:35,  4.85it/\n",
      "\u001b[Aches:  19%|▏| 40/210 [00:09<00:36,  4.72it/\n",
      "\u001b[Aches:  20%|▏| 41/210 [00:09<00:36,  4.64it/\n",
      "\u001b[Aches:  20%|▏| 42/210 [00:09<00:35,  4.69it/\n",
      "\u001b[Aches:  20%|▏| 43/210 [00:09<00:36,  4.60it/\n",
      "\u001b[Aches:  21%|▏| 44/210 [00:09<00:37,  4.48it/\n",
      "\u001b[Aches:  21%|▏| 45/210 [00:10<00:36,  4.51it/\n",
      "\u001b[Aches:  22%|▏| 46/210 [00:10<00:36,  4.53it/\n",
      "\u001b[Aches:  22%|▏| 47/210 [00:10<00:35,  4.60it/\n",
      "\u001b[Aches:  23%|▏| 48/210 [00:10<00:34,  4.70it/\n",
      "\u001b[Aches:  23%|▏| 49/210 [00:11<00:34,  4.68it/\n",
      "\u001b[Aches:  24%|▏| 50/210 [00:11<00:34,  4.65it/\n",
      "\u001b[Aches:  24%|▏| 51/210 [00:11<00:34,  4.57it/\n",
      "\u001b[Aches:  25%|▏| 52/210 [00:11<00:34,  4.59it/\n",
      "\u001b[Aches:  25%|▎| 53/210 [00:11<00:33,  4.70it/\n",
      "\u001b[Aches:  26%|▎| 54/210 [00:12<00:33,  4.69it/\n",
      "\u001b[Aches:  26%|▎| 55/210 [00:12<00:33,  4.66it/\n",
      "\u001b[Aches:  27%|▎| 56/210 [00:12<00:33,  4.56it/\n",
      "\u001b[Aches:  27%|▎| 57/210 [00:12<00:33,  4.62it/\n",
      "\u001b[Aches:  28%|▎| 58/210 [00:12<00:32,  4.68it/\n",
      "\u001b[Aches:  28%|▎| 59/210 [00:13<00:32,  4.58it/\n",
      "\u001b[Aches:  29%|▎| 60/210 [00:13<00:33,  4.52it/\n",
      "\u001b[Aches:  29%|▎| 61/210 [00:13<00:33,  4.46it/\n",
      "\u001b[Aches:  30%|▎| 62/210 [00:13<00:33,  4.45it/\n",
      "\u001b[Aches:  30%|▎| 63/210 [00:14<00:33,  4.45it/\n",
      "\u001b[Aches:  30%|▎| 64/210 [00:14<00:32,  4.53it/\n",
      "\u001b[Aches:  31%|▎| 65/210 [00:14<00:32,  4.47it/\n",
      "\u001b[Aches:  31%|▎| 66/210 [00:14<00:32,  4.50it/\n",
      "\u001b[Aches:  32%|▎| 67/210 [00:14<00:31,  4.51it/\n",
      "\u001b[Aches:  32%|▎| 68/210 [00:15<00:31,  4.58it/\n",
      "\u001b[Aches:  33%|▎| 69/210 [00:15<00:30,  4.69it/\n",
      "\u001b[Aches:  33%|▎| 70/210 [00:15<00:31,  4.50it/\n",
      "\u001b[Aches:  34%|▎| 71/210 [00:15<00:31,  4.42it/\n",
      "\u001b[Aches:  34%|▎| 72/210 [00:16<00:29,  4.61it/\n",
      "\u001b[Aches:  35%|▎| 73/210 [00:16<00:28,  4.75it/\n",
      "\u001b[Aches:  35%|▎| 74/210 [00:16<00:29,  4.59it/\n",
      "\u001b[Aches:  36%|▎| 75/210 [00:16<00:30,  4.48it/\n",
      "\u001b[Aches:  36%|▎| 76/210 [00:16<00:29,  4.57it/\n",
      "\u001b[Aches:  37%|▎| 77/210 [00:17<00:29,  4.44it/\n",
      "\u001b[Aches:  37%|▎| 78/210 [00:17<00:29,  4.41it/\n",
      "\u001b[Aches:  38%|▍| 79/210 [00:17<00:29,  4.48it/\n",
      "\u001b[Aches:  38%|▍| 80/210 [00:17<00:29,  4.46it/\n",
      "\u001b[Aches:  39%|▍| 81/210 [00:18<00:29,  4.37it/\n",
      "\u001b[Aches:  39%|▍| 82/210 [00:18<00:29,  4.39it/\n",
      "\u001b[Aches:  40%|▍| 83/210 [00:18<00:29,  4.34it/\n",
      "\u001b[Aches:  40%|▍| 84/210 [00:18<00:29,  4.30it/\n",
      "\u001b[Aches:  40%|▍| 85/210 [00:19<00:29,  4.29it/\n",
      "\u001b[Aches:  41%|▍| 86/210 [00:19<00:29,  4.27it/\n",
      "\u001b[Aches:  41%|▍| 87/210 [00:19<00:28,  4.27it/\n",
      "\u001b[Aches:  42%|▍| 88/210 [00:19<00:27,  4.38it/\n",
      "\u001b[Aches:  42%|▍| 89/210 [00:19<00:27,  4.48it/\n",
      "\u001b[Aches:  43%|▍| 90/210 [00:20<00:26,  4.52it/\n",
      "\u001b[Aches:  43%|▍| 91/210 [00:20<00:25,  4.65it/\n",
      "\u001b[Aches:  44%|▍| 92/210 [00:20<00:24,  4.82it/\n",
      "\u001b[Aches:  44%|▍| 93/210 [00:20<00:25,  4.66it/\n",
      "\u001b[Aches:  45%|▍| 94/210 [00:20<00:25,  4.61it/\n",
      "\u001b[Aches:  45%|▍| 95/210 [00:21<00:23,  4.82it/\n",
      "\u001b[Aches:  46%|▍| 96/210 [00:21<00:22,  4.98it/\n",
      "\u001b[Aches:  46%|▍| 97/210 [00:21<00:22,  5.02it/\n",
      "\u001b[Aches:  47%|▍| 98/210 [00:21<00:22,  4.88it/\n",
      "\u001b[Aches:  47%|▍| 99/210 [00:21<00:23,  4.74it/\n",
      "\u001b[Aches:  48%|▍| 100/210 [00:22<00:23,  4.74it\n",
      "\u001b[Aches:  48%|▍| 101/210 [00:22<00:23,  4.71it\n",
      "\u001b[Aches:  49%|▍| 102/210 [00:22<00:22,  4.77it\n",
      "\u001b[Aches:  49%|▍| 103/210 [00:22<00:23,  4.56it\n",
      "\u001b[Aches:  50%|▍| 104/210 [00:23<00:23,  4.56it\n",
      "\u001b[Aches:  50%|▌| 105/210 [00:23<00:21,  4.80it\n",
      "\u001b[Aches:  50%|▌| 106/210 [00:23<00:21,  4.88it\n",
      "\u001b[Aches:  51%|▌| 107/210 [00:23<00:19,  5.15it\n",
      "\u001b[Aches:  51%|▌| 108/210 [00:23<00:20,  4.94it\n",
      "\u001b[Aches:  52%|▌| 109/210 [00:24<00:20,  4.95it\n",
      "\u001b[Aches:  52%|▌| 110/210 [00:24<00:20,  4.92it\n",
      "\u001b[Aches:  53%|▌| 111/210 [00:24<00:20,  4.85it\n",
      "\u001b[Aches:  53%|▌| 112/210 [00:24<00:20,  4.80it\n",
      "\u001b[Aches:  54%|▌| 113/210 [00:24<00:20,  4.74it\n",
      "\u001b[Aches:  54%|▌| 114/210 [00:25<00:19,  5.02it\n",
      "\u001b[Aches:  55%|▌| 115/210 [00:25<00:19,  4.85it\n",
      "\u001b[Aches:  55%|▌| 116/210 [00:25<00:18,  4.96it\n",
      "\u001b[Aches:  56%|▌| 117/210 [00:25<00:19,  4.88it\n",
      "\u001b[Aches:  56%|▌| 118/210 [00:25<00:18,  4.93it\n",
      "\u001b[Aches:  57%|▌| 119/210 [00:26<00:18,  4.83it\n",
      "\u001b[Aches:  57%|▌| 120/210 [00:26<00:18,  4.98it\n",
      "\u001b[Aches:  58%|▌| 121/210 [00:26<00:18,  4.92it\n",
      "\u001b[Aches:  58%|▌| 122/210 [00:26<00:18,  4.77it\n",
      "\u001b[Aches:  59%|▌| 123/210 [00:26<00:18,  4.77it\n",
      "\u001b[Aches:  59%|▌| 124/210 [00:27<00:17,  4.95it\n",
      "\u001b[Aches:  60%|▌| 125/210 [00:27<00:17,  4.89it\n",
      "\u001b[Aches:  60%|▌| 126/210 [00:27<00:17,  4.82it\n",
      "\u001b[Aches:  60%|▌| 127/210 [00:27<00:17,  4.73it\n",
      "\u001b[Aches:  61%|▌| 128/210 [00:27<00:17,  4.73it\n",
      "\u001b[Aches:  61%|▌| 129/210 [00:28<00:17,  4.74it\n",
      "\u001b[Aches:  62%|▌| 130/210 [00:28<00:16,  4.80it\n",
      "\u001b[Aches:  62%|▌| 131/210 [00:28<00:16,  4.84it\n",
      "\u001b[Aches:  63%|▋| 132/210 [00:28<00:16,  4.80it\n",
      "\u001b[Aches:  63%|▋| 133/210 [00:29<00:15,  4.82it\n",
      "\u001b[Aches:  64%|▋| 134/210 [00:29<00:15,  4.88it\n",
      "\u001b[Aches:  64%|▋| 135/210 [00:29<00:15,  4.87it\n",
      "\u001b[Aches:  65%|▋| 136/210 [00:29<00:15,  4.83it\n",
      "\u001b[Aches:  65%|▋| 137/210 [00:29<00:15,  4.79it\n",
      "\u001b[Aches:  66%|▋| 138/210 [00:30<00:14,  4.86it\n",
      "\u001b[Aches:  66%|▋| 139/210 [00:30<00:14,  4.89it\n",
      "\u001b[Aches:  67%|▋| 140/210 [00:30<00:14,  4.71it\n",
      "\u001b[Aches:  67%|▋| 141/210 [00:30<00:14,  4.66it\n",
      "\u001b[Aches:  68%|▋| 142/210 [00:30<00:14,  4.67it\n",
      "\u001b[Aches:  68%|▋| 143/210 [00:31<00:13,  4.99it\n",
      "\u001b[Aches:  69%|▋| 144/210 [00:31<00:13,  5.07it\n",
      "\u001b[Aches:  69%|▋| 145/210 [00:31<00:12,  5.08it\n",
      "\u001b[Aches:  70%|▋| 146/210 [00:31<00:13,  4.90it\n",
      "\u001b[Aches:  70%|▋| 147/210 [00:31<00:12,  5.13it\n",
      "\u001b[Aches:  70%|▋| 148/210 [00:32<00:12,  4.98it\n",
      "\u001b[Aches:  71%|▋| 149/210 [00:32<00:12,  4.99it\n",
      "\u001b[Aches:  71%|▋| 150/210 [00:32<00:12,  4.78it\n",
      "\u001b[Aches:  72%|▋| 151/210 [00:32<00:12,  4.91it\n",
      "\u001b[Aches:  72%|▋| 152/210 [00:32<00:12,  4.82it\n",
      "\u001b[Aches:  73%|▋| 153/210 [00:33<00:11,  5.07it\n",
      "\u001b[Aches:  73%|▋| 154/210 [00:33<00:11,  5.06it\n",
      "\u001b[Aches:  74%|▋| 155/210 [00:33<00:10,  5.00it\n",
      "\u001b[Aches:  74%|▋| 156/210 [00:33<00:10,  5.08it\n",
      "\u001b[Aches:  75%|▋| 157/210 [00:33<00:10,  4.97it\n",
      "\u001b[Aches:  75%|▊| 158/210 [00:34<00:10,  5.05it\n",
      "\u001b[Aches:  76%|▊| 159/210 [00:34<00:10,  5.09it\n",
      "\u001b[Aches:  76%|▊| 160/210 [00:34<00:09,  5.01it\n",
      "\u001b[Aches:  77%|▊| 161/210 [00:34<00:09,  5.04it\n",
      "\u001b[Aches:  77%|▊| 162/210 [00:34<00:09,  4.86it\n",
      "\u001b[Aches:  78%|▊| 163/210 [00:35<00:09,  4.89it\n",
      "\u001b[Aches:  78%|▊| 164/210 [00:35<00:09,  4.89it\n",
      "\u001b[Aches:  79%|▊| 165/210 [00:35<00:09,  4.85it\n",
      "\u001b[Aches:  79%|▊| 166/210 [00:35<00:09,  4.87it\n",
      "\u001b[Aches:  80%|▊| 167/210 [00:35<00:08,  4.84it\n",
      "\u001b[Aches:  80%|▊| 168/210 [00:36<00:08,  4.84it\n",
      "\u001b[Aches:  80%|▊| 169/210 [00:36<00:08,  4.88it\n",
      "\u001b[Aches:  81%|▊| 170/210 [00:36<00:08,  4.91it\n",
      "\u001b[Aches:  81%|▊| 171/210 [00:36<00:08,  4.87it\n",
      "\u001b[Aches:  82%|▊| 172/210 [00:36<00:07,  4.79it\n",
      "\u001b[Aches:  82%|▊| 173/210 [00:37<00:07,  4.72it\n",
      "\u001b[Aches:  83%|▊| 174/210 [00:37<00:07,  4.89it\n",
      "\u001b[Aches:  83%|▊| 175/210 [00:37<00:06,  5.12it\n",
      "\u001b[Aches:  84%|▊| 176/210 [00:37<00:06,  4.88it\n",
      "\u001b[Aches:  84%|▊| 177/210 [00:37<00:06,  4.99it\n",
      "\u001b[Aches:  85%|▊| 178/210 [00:38<00:06,  5.17it\n",
      "\u001b[Aches:  85%|▊| 179/210 [00:38<00:06,  4.92it\n",
      "\u001b[Aches:  86%|▊| 180/210 [00:38<00:06,  4.82it\n",
      "\u001b[Aches:  86%|▊| 181/210 [00:38<00:05,  5.09it\n",
      "\u001b[Aches:  87%|▊| 182/210 [00:38<00:05,  4.94it\n",
      "\u001b[Aches:  87%|▊| 183/210 [00:39<00:05,  4.98it\n",
      "\u001b[Aches:  88%|▉| 184/210 [00:39<00:05,  5.19it\n",
      "\u001b[Aches:  88%|▉| 185/210 [00:39<00:04,  5.05it\n",
      "\u001b[Aches:  89%|▉| 186/210 [00:39<00:04,  5.08it\n",
      "\u001b[Aches:  89%|▉| 187/210 [00:39<00:04,  5.00it\n",
      "\u001b[Aches:  90%|▉| 188/210 [00:40<00:04,  5.00it\n",
      "\u001b[Aches:  90%|▉| 189/210 [00:40<00:04,  4.93it\n",
      "\u001b[Aches:  90%|▉| 190/210 [00:40<00:04,  4.91it\n",
      "\u001b[Aches:  91%|▉| 191/210 [00:40<00:03,  4.92it\n",
      "\u001b[Aches:  91%|▉| 192/210 [00:40<00:03,  5.00it\n",
      "\u001b[Aches:  92%|▉| 193/210 [00:41<00:03,  5.12it\n",
      "\u001b[Aches:  92%|▉| 194/210 [00:41<00:03,  5.07it\n",
      "\u001b[Aches:  93%|▉| 195/210 [00:41<00:02,  5.03it\n",
      "\u001b[Aches:  93%|▉| 196/210 [00:41<00:02,  4.90it\n",
      "\u001b[Aches:  94%|▉| 197/210 [00:41<00:02,  5.07it\n",
      "\u001b[Aches:  94%|▉| 198/210 [00:42<00:02,  4.88it\n",
      "\u001b[Aches:  95%|▉| 199/210 [00:42<00:02,  4.87it\n",
      "\u001b[Aches:  95%|▉| 200/210 [00:42<00:02,  4.80it\n",
      "\u001b[Aches:  96%|▉| 201/210 [00:42<00:01,  4.78it\n",
      "\u001b[Aches:  96%|▉| 202/210 [00:42<00:01,  4.77it\n",
      "\u001b[Aches:  97%|▉| 203/210 [00:43<00:01,  4.98it\n",
      "\u001b[Aches:  97%|▉| 204/210 [00:43<00:01,  5.08it\n",
      "\u001b[Aches:  98%|▉| 205/210 [00:43<00:01,  4.95it\n",
      "\u001b[Aches:  98%|▉| 206/210 [00:43<00:00,  4.87it\n",
      "\u001b[Aches:  99%|▉| 207/210 [00:44<00:00,  4.77it\n",
      "\u001b[Aches:  99%|▉| 208/210 [00:44<00:00,  4.71it\n",
      "\u001b[Aches: 100%|▉| 209/210 [00:44<00:00,  5.06it\n",
      "Epoch: 100%|████| 5/5 [04:24<00:00, 52.96s/it]"
     ]
    },
    {
     "name": "stdout",
     "output_type": "stream",
     "text": [
      "Epoch 5:\n",
      "Validation Loss = 2.4735032108094956\n",
      "Validation Average Error = [0.04873174 0.26464048 0.37905505        inf]\n",
      "\n",
      "-------------------------------\n",
      "\n"
     ]
    },
    {
     "name": "stderr",
     "output_type": "stream",
     "text": [
      "\n"
     ]
    }
   ],
   "source": [
    "num_epochs = 5\n",
    "train_Epos_spk.train(num_epochs)"
   ]
  },
  {
   "cell_type": "code",
   "execution_count": 33,
   "metadata": {},
   "outputs": [
    {
     "name": "stdout",
     "output_type": "stream",
     "text": [
      "Test loss: 3.1576281070709227\n",
      "Test relative error: [ 8.129008 31.563616 47.608166  9.045496]%\n"
     ]
    },
    {
     "data": {
      "image/png": "[encoded data removed]",
      "text/plain": [
       "<Figure size 400x300 with 1 Axes>"
      ]
     },
     "metadata": {},
     "output_type": "display_data"
    },
    {
     "data": {
      "image/png": "[encoded data removed]",
      "text/plain": [
       "<Figure size 1000x800 with 5 Axes>"
      ]
     },
     "metadata": {},
     "output_type": "display_data"
    },
    {
     "data": {
      "image/png": "[encoded data removed]",
      "text/plain": [
       "<Figure size 1000x800 with 4 Axes>"
      ]
     },
     "metadata": {},
     "output_type": "display_data"
    }
   ],
   "source": [
    "train_Epos_spk.predict.accuracy_fn = lambda p, t: distance(p, t, absolute=True, relative=True)\n",
    "train_Epos_spk.test(\"test\")\n",
    "train_Epos_spk.predict.accuracy_fn = lambda p, t: distance(p, t, absolute=False, relative=False)\n",
    "train_Epos_spk.show_results(nbins=50, title=[\"log(E/MeV)\", r\"$x_c$\", r\"$y_c$\", r\"$z_c$\"])"
   ]
  },
  {
   "cell_type": "code",
   "execution_count": 16,
   "metadata": {},
   "outputs": [
    {
     "data": {
      "image/png": "[encoded data removed]",
      "text/plain": [
       "<Figure size 640x480 with 1 Axes>"
      ]
     },
     "metadata": {},
     "output_type": "display_data"
    }
   ],
   "source": [
    "history_of_parameters = train_Epos_spk.get_par_hist()\n",
    "\n",
    "#print(history_of_parameters.keys())\n",
    "for key, item in history_of_parameters.items():\n",
    "    if \"weight\" not in key and \"bias\" not in key:\n",
    "        if \"beta\" in key:\n",
    "            plt.plot(np.arange(0, len(item)), item, label=key)\n",
    "            plt.legend()\n"
   ]
  },
  {
   "cell_type": "code",
   "execution_count": null,
   "metadata": {},
   "outputs": [],
   "source": [
    "plt.plot(np.arange(0, len(history_of_parameters[history_of_parameters.keys()[0]])), history_of_parameters[history_of_parameters.keys()[0]], label=history_of_parameters.keys()[0])\n"
   ]
  },
  {
   "cell_type": "code",
   "execution_count": 16,
   "metadata": {},
   "outputs": [
    {
     "name": "stdout",
     "output_type": "stream",
     "text": [
      "Test relative error: [0.08067514 0.48747253 0.7708443  0.25557974]\n"
     ]
    }
   ],
   "source": [
    "train_Epos_spk.predict.accuracy_fn = lambda p, t: distance(p, t, absolute=True, relative=False)\n",
    "train_Epos_spk.test(\"test\")\n",
    "print(f\"Test relative error: {train_Epos_spk.acc_hist['test'][train_Epos_spk.current_epoch]}\")"
   ]
  },
  {
   "cell_type": "code",
   "execution_count": 38,
   "metadata": {},
   "outputs": [
    {
     "name": "stdout",
     "output_type": "stream",
     "text": [
      "Test loss: 1.2372003025478786\n",
      "Test relative error: [-3.1926012e+05  4.4578662e+00 -5.9305911e+00  1.8966553e+01]%\n"
     ]
    },
    {
     "data": {
      "image/png": "[encoded data removed]",
      "text/plain": [
       "<Figure size 400x300 with 1 Axes>"
      ]
     },
     "metadata": {},
     "output_type": "display_data"
    },
    {
     "data": {
      "image/png": "[encoded data removed]",
      "text/plain": [
       "<Figure size 500x400 with 2 Axes>"
      ]
     },
     "metadata": {},
     "output_type": "display_data"
    },
    {
     "data": {
      "image/png": "[encoded data removed]",
      "text/plain": [
       "<Figure size 500x400 with 1 Axes>"
      ]
     },
     "metadata": {},
     "output_type": "display_data"
    }
   ],
   "source": [
    "train_Epos_spk.predict.accuracy_fn = lambda p, t: distance(p, t, absolute=False, relative=False, transform=antitransform)\n",
    "\n",
    "train_Epos_spk.test(\"test\")\n",
    "train_Epos_spk.show_results(nbins=50, logscale=True, linthresh=1, title=\"Energy [MeV]\",\n",
    "                            select=[0], transform=antitransform)"
   ]
  },
  {
   "cell_type": "code",
   "execution_count": 18,
   "metadata": {},
   "outputs": [
    {
     "name": "stdout",
     "output_type": "stream",
     "text": [
      "Test relative error: [17.826584 19.874136 36.264565  4.129561]%\n"
     ]
    }
   ],
   "source": [
    "train_Epos_spk.predict.accuracy_fn = lambda p, t: distance(p, t, absolute=True, relative=True, transform=antitransform)\n",
    "train_Epos_spk.test(\"test\")\n",
    "print(f\"Test relative error: {train_Epos_spk.acc_hist['test'][train_Epos_spk.current_epoch]*100}%\")"
   ]
  },
  {
   "cell_type": "code",
   "execution_count": 19,
   "metadata": {},
   "outputs": [
    {
     "name": "stdout",
     "output_type": "stream",
     "text": [
      "Test relative error: [1.9456113e+03 4.8744813e-01 7.7158415e-01 2.5539219e-01]\n"
     ]
    }
   ],
   "source": [
    "train_Epos_spk.predict.accuracy_fn = lambda p, t: distance(p, t, absolute=True, relative=False, transform=antitransform)\n",
    "train_Epos_spk.test(\"test\")\n",
    "print(f\"Test relative error: {train_Epos_spk.acc_hist['test'][train_Epos_spk.current_epoch]}\")"
   ]
  },
  {
   "cell_type": "markdown",
   "metadata": {},
   "source": [
    "# NOT UPDATED CODE BELOW! RUN AT YOUR OWN RISK!"
   ]
  },
  {
   "cell_type": "markdown",
   "metadata": {},
   "source": [
    "# Energy and Dispersion"
   ]
  },
  {
   "cell_type": "code",
   "execution_count": null,
   "metadata": {},
   "outputs": [],
   "source": [
    "dataset.transform = lambda x: (x[0], ds.to_tensor_and_dtype([np.log10(x[1][0]), *x[1][2]], torch.float32))\n",
    "train_dataset, test_dataset, val_dataset = ds.build_loaders(dataset, (0.7, 0.15), shuffle=True, num_workers=0)\n",
    "\n",
    "net_desc_spikefreq[\"layers\"][-1] = 4*population"
   ]
  },
  {
   "cell_type": "code",
   "execution_count": null,
   "metadata": {},
   "outputs": [],
   "source": [
    "net_Esigma_spk = Spiking_Net(net_desc_spikefreq, lambda x: spikegen_multi(x,4)) \n",
    "Pred_Esigma_spk = Predictor(predict_spikefreq, distance, population_sizes=20)\n",
    "loss_Esigma = multi_MSELoss(weights=torch.tensor([1,1,1,1]), set_mse=[0,0,0,0])\n",
    "opt_Esigma_spk = torch.optim.Adam(net_Esigma_spk.parameters(), lr=1e-3, betas=(0.9, 0.999), weight_decay=1e-3)\n",
    "sche_Esigma_spk = torch.optim.lr_scheduler.ExponentialLR(opt_Esigma_spk, gamma=0.7)\n",
    "train_Esigma_spk = Trainer(net_Esigma_spk, loss_Esigma, opt_Esigma_spk, Pred_Esigma_spk,\n",
    "                    train_dataset, val_dataset, test_dataset)"
   ]
  },
  {
   "cell_type": "code",
   "execution_count": null,
   "metadata": {},
   "outputs": [],
   "source": [
    "num_epochs = 5\n",
    "train_Esigma_spk.train(num_epochs)"
   ]
  },
  {
   "cell_type": "code",
   "execution_count": null,
   "metadata": {},
   "outputs": [],
   "source": [
    "train_Esigma_spk.predict.accuracy_fn = lambda p, t: distance(p, t, absolute=True, relative=True)\n",
    "train_Esigma_spk.test(\"test\")\n",
    "train_Esigma_spk.predict.accuracy_fn = lambda p, t: distance(p, t, absolute=False, relative=False)\n",
    "train_Esigma_spk.show_results(nbins=50, title=[\"log-E\", r\"$\\sigma^2_x$\", r\"$\\sigma^2_y$\", r\"$\\sigma^2_z$\"])"
   ]
  },
  {
   "cell_type": "code",
   "execution_count": null,
   "metadata": {},
   "outputs": [],
   "source": [
    "train_Esigma_spk.predict.accuracy_fn = lambda p, t: distance(p, t, absolute=True, relative=False)\n",
    "train_Esigma_spk.test(\"test\")\n",
    "print(f\"Test relative error: {train_Esigma_spk.acc_hist['test'][train_Esigma_spk.current_epoch]}\")"
   ]
  },
  {
   "cell_type": "code",
   "execution_count": null,
   "metadata": {},
   "outputs": [],
   "source": [
    "def antitransform(x):\n",
    "    a = x.clone() \n",
    "    a[:, 0] = torch.pow(10, a[:,0])\n",
    "    return a\n",
    "\n",
    "train_Esigma_spk.predict.accuracy_fn = lambda p, t: distance(p, t, absolute=False, relative=False, transform=antitransform)\n",
    "\n",
    "train_Esigma_spk.test(\"test\")\n",
    "train_Esigma_spk.show_results(nbins=50, logscale=True, linthresh=1, title=\"Energy [MeV]\",\n",
    "                            select=[0], transform=antitransform)"
   ]
  },
  {
   "cell_type": "code",
   "execution_count": null,
   "metadata": {},
   "outputs": [],
   "source": [
    "train_Esigma_spk.predict.accuracy_fn = lambda p, t: distance(p, t, absolute=True, relative=True, transform=antitransform)\n",
    "train_Esigma_spk.test(\"test\")\n",
    "print(f\"Test relative error: {train_Esigma_spk.acc_hist['test'][train_Esigma_spk.current_epoch]*100}%\")"
   ]
  },
  {
   "cell_type": "code",
   "execution_count": null,
   "metadata": {},
   "outputs": [],
   "source": [
    "train_Esigma_spk.predict.accuracy_fn = lambda p, t: distance(p, t, absolute=True, relative=False, transform=antitransform)\n",
    "train_Esigma_spk.test(\"test\")\n",
    "print(f\"Test relative error: {train_Esigma_spk.acc_hist['test'][train_Esigma_spk.current_epoch]}\")"
   ]
  },
  {
   "cell_type": "markdown",
   "metadata": {},
   "source": [
    "# Dispersion"
   ]
  },
  {
   "cell_type": "code",
   "execution_count": null,
   "metadata": {},
   "outputs": [],
   "source": [
    "dataset.transform = lambda x: (x[0], ds.to_tensor_and_dtype(x[1][2], torch.float32))\n",
    "train_dataset, test_dataset, val_dataset = ds.build_loaders(dataset, (0.7, 0.15), shuffle=True, num_workers=0)"
   ]
  },
  {
   "cell_type": "code",
   "execution_count": null,
   "metadata": {},
   "outputs": [],
   "source": [
    "net_desc_spikefreq[\"layers\"][-1] = 90\n",
    "net_sigma_spk = Spiking_Net(net_desc_spikefreq, lambda x: spikegen_multi(x,4)) \n",
    "Pred_sigma_spk = Predictor(predict_spikefreq, distance, population_sizes=30)\n",
    "loss_sigma = multi_MSELoss(weights=torch.tensor([1,1,1]))\n",
    "opt_sigma_spk = torch.optim.Adam(net_sigma_spk.parameters(), lr=5e-4, betas=(0.9, 0.999))\n",
    "train_sigma_spk = Trainer(net_sigma_spk, loss_sigma, opt_sigma_spk, Pred_sigma_spk,\n",
    "                    train_dataset, val_dataset, test_dataset)"
   ]
  },
  {
   "cell_type": "code",
   "execution_count": null,
   "metadata": {},
   "outputs": [],
   "source": [
    "num_epochs = 5\n",
    "train_sigma_spk.train(num_epochs)"
   ]
  },
  {
   "cell_type": "code",
   "execution_count": null,
   "metadata": {},
   "outputs": [],
   "source": [
    "f = r\"$\\sigma_X$\"\n",
    "\"sigma\" in f"
   ]
  },
  {
   "cell_type": "code",
   "execution_count": null,
   "metadata": {},
   "outputs": [],
   "source": [
    "train_sigma_spk.predict.accuracy_fn = lambda p, t: distance(p, t, absolute=True, relative=True)\n",
    "train_sigma_spk.test(\"test\")\n",
    "train_sigma_spk.predict.accuracy_fn = lambda p, t: distance(p, t, absolute=False, relative=False)\n",
    "train_sigma_spk.show_results(nbins=50, title=[r\"$\\sigma_X$\", r\"$\\sigma_Y$\", r\"$\\sigma_Z$\"])"
   ]
  },
  {
   "cell_type": "markdown",
   "metadata": {},
   "source": [
    "# Particle Classification"
   ]
  },
  {
   "cell_type": "code",
   "execution_count": null,
   "metadata": {},
   "outputs": [],
   "source": [
    "data_train, data_test, data_val = ds.build_dataset(\"../Data\", max_files=5, target=\"particle\")"
   ]
  },
  {
   "cell_type": "code",
   "execution_count": null,
   "metadata": {},
   "outputs": [],
   "source": [
    "batch_size = 50\n",
    "nw = 0\n",
    "train_load = DataLoader(data_train[:(len(data_train)//batch_size)*batch_size], batch_size=batch_size, shuffle=True, num_workers=nw)\n",
    "val_load   = DataLoader(data_val[:(len(data_val)//batch_size)*batch_size],     batch_size=batch_size, shuffle=True, num_workers=nw)\n",
    "test_load  = DataLoader(data_test[:(len(data_test)//batch_size)*batch_size],   batch_size=batch_size, shuffle=True, num_workers=nw)"
   ]
  },
  {
   "cell_type": "code",
   "execution_count": null,
   "metadata": {},
   "outputs": [],
   "source": [
    "from collections import Counter\n",
    "Counter([d[1] for d in data_train])"
   ]
  },
  {
   "cell_type": "code",
   "execution_count": null,
   "metadata": {},
   "outputs": [],
   "source": [
    "#loss = nn.MSELoss()\n",
    "num_inputs = 100\n",
    "num_hidden = 200\n",
    "num_outputs = nClasses\n",
    "num_steps = timesteps\n",
    "net = Net_LIF_1L(num_inputs, num_hidden, num_outputs, num_steps)"
   ]
  },
  {
   "cell_type": "code",
   "execution_count": null,
   "metadata": {},
   "outputs": [],
   "source": [
    "def comp_accuracy(output, targets):\n",
    "    _, predicted = output.sum(dim=0).max(1)\n",
    "    total = targets.size(0)\n",
    "    correct = (predicted == targets).sum().item()\n",
    "\n",
    "    return predicted, correct/total"
   ]
  },
  {
   "cell_type": "code",
   "execution_count": null,
   "metadata": {},
   "outputs": [],
   "source": [
    "loss_fn = SF.ce_count_loss(num_classes=nClasses)\n",
    "optimizer = torch.optim.Adam(net.parameters(), lr=5e-4, betas=(0.9, 0.999))\n",
    "\n",
    "train_net = Trainer(net, loss_fn, optimizer, train_load, val_load, test_load, comp_accuracy)"
   ]
  },
  {
   "cell_type": "code",
   "execution_count": null,
   "metadata": {},
   "outputs": [],
   "source": [
    "num_epochs = 5\n",
    "train_net.train(num_epochs)"
   ]
  },
  {
   "cell_type": "code",
   "execution_count": null,
   "metadata": {},
   "outputs": [],
   "source": [
    "train_net.plot_loss()"
   ]
  },
  {
   "cell_type": "code",
   "execution_count": null,
   "metadata": {},
   "outputs": [],
   "source": [
    "train_net.test(\"test\", mc=True, num_classes=nClasses)\n",
    "print(train_net.loss_hist[\"test\"])\n",
    "train_net.cm[\"test\"].plot()"
   ]
  },
  {
   "cell_type": "markdown",
   "metadata": {},
   "source": [
    "# Energy Regression"
   ]
  },
  {
   "cell_type": "code",
   "execution_count": null,
   "metadata": {},
   "outputs": [],
   "source": [
    "dataset.transform = lambda x: (x[0], ds.to_tensor_and_dtype(np.log10(x[1][0]), torch.float32))\n",
    "train_dataset, test_dataset, val_dataset = ds.build_loaders(dataset, (0.7, 0.15), shuffle=True, num_workers=0)"
   ]
  },
  {
   "cell_type": "code",
   "execution_count": null,
   "metadata": {},
   "outputs": [],
   "source": [
    "net_E_spk = Spiking_Net(net_desc_spikefreq, lambda x: spikegen_multi(x,4)) \n",
    "Pred_E_spk = Predictor(predict_spikefreq, distance, population_sizes=20)\n",
    "loss_E = nn.L1Loss()\n",
    "opt_E_spk = torch.optim.Adam(net_E_spk.parameters(), lr=1e-3, betas=(0.9, 0.999), weight_decay=1e-3)\n",
    "sche_E_spk = torch.optim.lr_scheduler.ExponentialLR(opt_E_spk, gamma=0.7)\n",
    "train_E_spk = Trainer(net_E_spk, loss_E, opt_E_spk, Pred_E_spk,\n",
    "                    train_dataset, val_dataset, test_dataset)"
   ]
  },
  {
   "cell_type": "code",
   "execution_count": null,
   "metadata": {},
   "outputs": [],
   "source": [
    "num_epochs = 5\n",
    "train_E_spk.train(num_epochs)"
   ]
  },
  {
   "cell_type": "code",
   "execution_count": null,
   "metadata": {},
   "outputs": [],
   "source": [
    "train_E_spk.predict.accuracy_fn = lambda p, t: distance(p, t, absolute=True, relative=True)\n",
    "train_E_spk.test(\"test\")\n",
    "train_E_spk.predict.accuracy_fn = lambda p, t: distance(p, t, absolute=False, relative=False)\n",
    "train_E_spk.show_results(nbins=50, title=\"log(E/MeV)\")"
   ]
  },
  {
   "cell_type": "code",
   "execution_count": null,
   "metadata": {},
   "outputs": [],
   "source": [
    "train_E_spk.predict.accuracy_fn = lambda p, t: distance(p, t, absolute=True, relative=False)\n",
    "train_E_spk.test(\"test\")\n",
    "print(f\"Test relative error: {train_E_spk.acc_hist['test'][train_E_spk.current_epoch]}\")"
   ]
  },
  {
   "cell_type": "code",
   "execution_count": null,
   "metadata": {},
   "outputs": [],
   "source": [
    "def expon(x):\n",
    "    return torch.pow(10, x)\n",
    "train_E_spk.predict.accuracy_fn = lambda p, t: distance(p, t, absolute=True, relative=True, transform=expon)\n",
    "train_E_spk.test(\"test\")\n",
    "print(f\"Test relative error: {train_E_spk.acc_hist['test'][train_E_spk.current_epoch]*100}%\")"
   ]
  },
  {
   "cell_type": "code",
   "execution_count": null,
   "metadata": {},
   "outputs": [],
   "source": [
    "train_E_spk.predict.accuracy_fn = lambda p, t: distance(p, t, absolute=True, relative=False, transform=expon)\n",
    "train_E_spk.test(\"test\")\n",
    "print(f\"Test relative error: {train_E_spk.acc_hist['test'][train_E_spk.current_epoch]}\")"
   ]
  },
  {
   "cell_type": "code",
   "execution_count": null,
   "metadata": {},
   "outputs": [],
   "source": [
    "train_E_spk.predict.accuracy_fn = lambda p, t: distance(p, t, absolute=False, relative=False, transform=expon)\n",
    "train_E_spk.show_results(nbins=50, title=\"E [MeV]\", transform=expon, logscale=True, linthresh=1)"
   ]
  },
  {
   "cell_type": "markdown",
   "metadata": {},
   "source": [
    "# X"
   ]
  },
  {
   "cell_type": "code",
   "execution_count": null,
   "metadata": {},
   "outputs": [],
   "source": [
    "dataset.transform = lambda x: (x[0], ds.to_tensor_and_dtype(x[1][1][0], torch.float32))\n",
    "train_dataset, test_dataset, val_dataset = ds.build_loaders(dataset, (0.7, 0.15), shuffle=True, num_workers=0)"
   ]
  },
  {
   "cell_type": "code",
   "execution_count": null,
   "metadata": {},
   "outputs": [],
   "source": [
    "net_X_spk = Spiking_Net(net_desc_spikefreq, lambda x: spikegen_multi(x,4)) \n",
    "Pred_X_spk = Predictor(predict_spikefreq, distance, population_sizes=20)\n",
    "loss_X = nn.MSELoss()\n",
    "opt_X_spk = torch.optim.Adam(net_X_spk.parameters(), lr=1e-3, betas=(0.9, 0.999), weight_decay=1e-3)\n",
    "sche_X_spk = torch.optim.lr_scheduler.ExponentialLR(opt_X_spk, gamma=0.7)\n",
    "train_X_spk = Trainer(net_X_spk, loss_X, opt_X_spk, Pred_X_spk,\n",
    "                    train_dataset, val_dataset, test_dataset)"
   ]
  },
  {
   "cell_type": "code",
   "execution_count": null,
   "metadata": {},
   "outputs": [],
   "source": [
    "num_epochs = 5\n",
    "train_X_spk.train(num_epochs)"
   ]
  },
  {
   "cell_type": "code",
   "execution_count": null,
   "metadata": {},
   "outputs": [],
   "source": [
    "train_X_spk.predict.accuracy_fn = lambda p, t: distance(p, t, absolute=True, relative=True)\n",
    "train_X_spk.test(\"test\")\n",
    "train_X_spk.predict.accuracy_fn = lambda p, t: distance(p, t, absolute=False, relative=False)\n",
    "train_X_spk.show_results(nbins=50, title=r\"$x_c$\")"
   ]
  },
  {
   "cell_type": "code",
   "execution_count": null,
   "metadata": {},
   "outputs": [],
   "source": [
    "train_X_spk.predict.accuracy_fn = lambda p, t: distance(p, t, absolute=True, relative=False)\n",
    "train_X_spk.test(\"test\")\n",
    "print(f\"Test relative error: {train_X_spk.acc_hist['test'][train_X_spk.current_epoch]}\")"
   ]
  },
  {
   "cell_type": "markdown",
   "metadata": {},
   "source": [
    "# Y"
   ]
  },
  {
   "cell_type": "code",
   "execution_count": null,
   "metadata": {},
   "outputs": [],
   "source": [
    "dataset.transform = lambda x: (x[0], ds.to_tensor_and_dtype(x[1][1][1], torch.float32))\n",
    "train_dataset, test_dataset, val_dataset = ds.build_loaders(dataset, (0.7, 0.15), shuffle=True, num_workers=0)"
   ]
  },
  {
   "cell_type": "code",
   "execution_count": null,
   "metadata": {},
   "outputs": [],
   "source": [
    "net_Y_spk = Spiking_Net(net_desc_spikefreq, lambda x: spikegen_multi(x,4)) \n",
    "Pred_Y_spk = Predictor(predict_spikefreq, distance, population_sizes=20)\n",
    "loss_Y = nn.MSELoss()\n",
    "opt_Y_spk = torch.optim.Adam(net_Y_spk.parameters(), lr=1e-3, betas=(0.9, 0.999), weight_decay=1e-3)\n",
    "sche_Y_spk = torch.optim.lr_scheduler.ExponentialLR(opt_Y_spk, gamma=0.7)\n",
    "train_Y_spk = Trainer(net_Y_spk, loss_Y, opt_Y_spk, Pred_Y_spk,\n",
    "                    train_dataset, val_dataset, test_dataset)"
   ]
  },
  {
   "cell_type": "code",
   "execution_count": null,
   "metadata": {},
   "outputs": [],
   "source": [
    "num_epochs = 5\n",
    "train_Y_spk.train(num_epochs)"
   ]
  },
  {
   "cell_type": "code",
   "execution_count": null,
   "metadata": {},
   "outputs": [],
   "source": [
    "train_Y_spk.predict.accuracy_fn = lambda p, t: distance(p, t, absolute=True, relative=True)\n",
    "train_Y_spk.test(\"test\")\n",
    "train_Y_spk.predict.accuracy_fn = lambda p, t: distance(p, t, absolute=False, relative=False)\n",
    "train_Y_spk.show_results(nbins=50, title=r\"$y_c$\")"
   ]
  },
  {
   "cell_type": "code",
   "execution_count": null,
   "metadata": {},
   "outputs": [],
   "source": [
    "train_Y_spk.predict.accuracy_fn = lambda p, t: distance(p, t, absolute=True, relative=False)\n",
    "train_Y_spk.test(\"test\")\n",
    "print(f\"Test relative error: {train_Y_spk.acc_hist['test'][train_Y_spk.current_epoch]}\")"
   ]
  },
  {
   "cell_type": "markdown",
   "metadata": {},
   "source": [
    "# Z"
   ]
  },
  {
   "cell_type": "code",
   "execution_count": null,
   "metadata": {},
   "outputs": [],
   "source": [
    "dataset.transform = lambda x: (x[0], ds.to_tensor_and_dtype(x[1][1][2], torch.float32))\n",
    "train_dataset, test_dataset, val_dataset = ds.build_loaders(dataset, (0.7, 0.15), shuffle=True, num_workers=0)"
   ]
  },
  {
   "cell_type": "code",
   "execution_count": null,
   "metadata": {},
   "outputs": [],
   "source": [
    "net_Z_spk = Spiking_Net(net_desc_spikefreq, lambda x: spikegen_multi(x,4)) \n",
    "Pred_Z_spk = Predictor(predict_spikefreq, distance, population_sizes=20)\n",
    "loss_Z = nn.L1Loss()\n",
    "opt_Z_spk = torch.optim.Adam(net_Z_spk.parameters(), lr=1e-3, betas=(0.9, 0.999), weight_decay=1e-3)\n",
    "sche_Z_spk = torch.optim.lr_scheduler.ExponentialLR(opt_Z_spk, gamma=0.7)\n",
    "train_Z_spk = Trainer(net_Z_spk, loss_Z, opt_Z_spk, Pred_Z_spk,\n",
    "                    train_dataset, val_dataset, test_dataset)"
   ]
  },
  {
   "cell_type": "code",
   "execution_count": null,
   "metadata": {},
   "outputs": [],
   "source": [
    "num_epochs = 5\n",
    "train_Z_spk.train(num_epochs)"
   ]
  },
  {
   "cell_type": "code",
   "execution_count": null,
   "metadata": {},
   "outputs": [],
   "source": [
    "train_Z_spk.predict.accuracy_fn = lambda p, t: distance(p, t, absolute=True, relative=True)\n",
    "train_Z_spk.test(\"test\")\n",
    "train_Z_spk.predict.accuracy_fn = lambda p, t: distance(p, t, absolute=False, relative=False)\n",
    "train_Z_spk.show_results(nbins=50, title=r\"$z_c$\")"
   ]
  },
  {
   "cell_type": "code",
   "execution_count": null,
   "metadata": {},
   "outputs": [],
   "source": [
    "train_Z_spk.predict.accuracy_fn = lambda p, t: distance(p, t, absolute=True, relative=False)\n",
    "train_Z_spk.test(\"test\")\n",
    "print(f\"Test relative error: {train_Z_spk.acc_hist['test'][train_Z_spk.current_epoch]}\")"
   ]
  },
  {
   "cell_type": "markdown",
   "metadata": {},
   "source": [
    "# Sigma X"
   ]
  },
  {
   "cell_type": "code",
   "execution_count": null,
   "metadata": {},
   "outputs": [],
   "source": [
    "dataset.transform = lambda x: (x[0], ds.to_tensor_and_dtype(x[1][2][0], torch.float32))\n",
    "train_dataset, test_dataset, val_dataset = ds.build_loaders(dataset, (0.7, 0.15), shuffle=True, num_workers=0)"
   ]
  },
  {
   "cell_type": "code",
   "execution_count": null,
   "metadata": {},
   "outputs": [],
   "source": [
    "net_sigmaX_spk = Spiking_Net(net_desc_spikefreq, lambda x: spikegen_multi(x,4)) \n",
    "Pred_sigmaX_spk = Predictor(predict_spikefreq, distance, population_sizes=20)\n",
    "loss_sigmaX = nn.L1Loss()\n",
    "opt_sigmaX_spk = torch.optim.Adam(net_sigmaX_spk.parameters(), lr=1e-3, betas=(0.9, 0.999), weight_decay=1e-3)\n",
    "sche_sigmaX_spk = torch.optim.lr_scheduler.ExponentialLR(opt_sigmaX_spk, gamma=0.7)\n",
    "train_sigmaX_spk = Trainer(net_sigmaX_spk, loss_sigmaX, opt_sigmaX_spk, Pred_sigmaX_spk,\n",
    "                    train_dataset, val_dataset, test_dataset)"
   ]
  },
  {
   "cell_type": "code",
   "execution_count": null,
   "metadata": {},
   "outputs": [],
   "source": [
    "num_epochs = 5\n",
    "train_sigmaX_spk.train(num_epochs)"
   ]
  },
  {
   "cell_type": "code",
   "execution_count": null,
   "metadata": {},
   "outputs": [],
   "source": [
    "train_sigmaX_spk.predict.accuracy_fn = lambda p, t: distance(p, t, absolute=True, relative=True)\n",
    "train_sigmaX_spk.test(\"test\")\n",
    "train_sigmaX_spk.predict.accuracy_fn = lambda p, t: distance(p, t, absolute=False, relative=False)\n",
    "train_sigmaX_spk.show_results(nbins=50, title=r\"$\\sigma^2_x$\")"
   ]
  },
  {
   "cell_type": "code",
   "execution_count": null,
   "metadata": {},
   "outputs": [],
   "source": [
    "train_sigmaX_spk.predict.accuracy_fn = lambda p, t: distance(p, t, absolute=True, relative=False)\n",
    "train_sigmaX_spk.test(\"test\")\n",
    "print(f\"Test relative error: {train_sigmaX_spk.acc_hist['test'][train_sigmaX_spk.current_epoch]}\")"
   ]
  },
  {
   "cell_type": "markdown",
   "metadata": {},
   "source": [
    "# Sigma Y"
   ]
  },
  {
   "cell_type": "code",
   "execution_count": null,
   "metadata": {},
   "outputs": [],
   "source": [
    "dataset.transform = lambda x: (x[0], ds.to_tensor_and_dtype(x[1][2][0], torch.float32))\n",
    "train_dataset, test_dataset, val_dataset = ds.build_loaders(dataset, (0.7, 0.15), shuffle=True, num_workers=0)"
   ]
  },
  {
   "cell_type": "code",
   "execution_count": null,
   "metadata": {},
   "outputs": [],
   "source": [
    "net_sigmaY_spk = Spiking_Net(net_desc_spikefreq, lambda x: spikegen_multi(x,4)) \n",
    "Pred_sigmaY_spk = Predictor(predict_spikefreq, distance, population_sizes=20)\n",
    "loss_sigmaY = nn.L1Loss()\n",
    "opt_sigmaY_spk = torch.optim.Adam(net_sigmaY_spk.parameters(), lr=1e-3, betas=(0.9, 0.999), weight_decay=1e-3)\n",
    "sche_sigmaY_spk = torch.optim.lr_scheduler.ExponentialLR(opt_sigmaY_spk, gamma=0.7)\n",
    "train_sigmaY_spk = Trainer(net_sigmaY_spk, loss_sigmaY, opt_sigmaY_spk, Pred_sigmaY_spk,\n",
    "                    train_dataset, val_dataset, test_dataset)"
   ]
  },
  {
   "cell_type": "code",
   "execution_count": null,
   "metadata": {},
   "outputs": [],
   "source": [
    "num_epochs = 5\n",
    "train_sigmaY_spk.train(num_epochs)"
   ]
  },
  {
   "cell_type": "code",
   "execution_count": null,
   "metadata": {},
   "outputs": [],
   "source": [
    "train_sigmaY_spk.predict.accuracy_fn = lambda p, t: distance(p, t, absolute=True, relative=True)\n",
    "train_sigmaY_spk.test(\"test\")\n",
    "train_sigmaY_spk.predict.accuracy_fn = lambda p, t: distance(p, t, absolute=False, relative=False)\n",
    "train_sigmaY_spk.show_results(nbins=50, title=r\"$\\sigma^2_y$\")"
   ]
  },
  {
   "cell_type": "code",
   "execution_count": null,
   "metadata": {},
   "outputs": [],
   "source": [
    "train_sigmaY_spk.predict.accuracy_fn = lambda p, t: distance(p, t, absolute=True, relative=False)\n",
    "train_sigmaY_spk.test(\"test\")\n",
    "print(f\"Test relative error: {train_sigmaY_spk.acc_hist['test'][train_sigmaY_spk.current_epoch]}\")"
   ]
  },
  {
   "cell_type": "markdown",
   "metadata": {},
   "source": [
    "# Sigma Z"
   ]
  },
  {
   "cell_type": "code",
   "execution_count": null,
   "metadata": {},
   "outputs": [],
   "source": [
    "dataset.transform = lambda x: (x[0], ds.to_tensor_and_dtype(x[1][2][2], torch.float32))\n",
    "train_dataset, test_dataset, val_dataset = ds.build_loaders(dataset, (0.7, 0.15), shuffle=True, num_workers=0)\n",
    "\n",
    "net_desc_spikefreq[\"layers\"][-1] = 1*population"
   ]
  },
  {
   "cell_type": "code",
   "execution_count": null,
   "metadata": {},
   "outputs": [],
   "source": [
    "net_sigmaZ_spk = Spiking_Net(net_desc_spikefreq, lambda x: spikegen_multi(x,4)) \n",
    "Pred_sigmaZ_spk = Predictor(predict_spikefreq, distance, population_sizes=20)\n",
    "loss_sigmaZ = nn.L1Loss()\n",
    "opt_sigmaZ_spk = torch.optim.Adam(net_sigmaZ_spk.parameters(), lr=1e-3, betas=(0.9, 0.999), weight_decay=1e-3)\n",
    "sche_sigmaZ_spk = torch.optim.lr_scheduler.ExponentialLR(opt_sigmaZ_spk, gamma=0.7)\n",
    "train_sigmaZ_spk = Trainer(net_sigmaZ_spk, loss_sigmaZ, opt_sigmaZ_spk, Pred_sigmaZ_spk,\n",
    "                    train_dataset, val_dataset, test_dataset)"
   ]
  },
  {
   "cell_type": "code",
   "execution_count": null,
   "metadata": {},
   "outputs": [],
   "source": [
    "num_epochs = 5\n",
    "train_sigmaZ_spk.train(num_epochs)"
   ]
  },
  {
   "cell_type": "code",
   "execution_count": null,
   "metadata": {},
   "outputs": [],
   "source": [
    "train_sigmaZ_spk.predict.accuracy_fn = lambda p, t: distance(p, t, absolute=True, relative=True)\n",
    "train_sigmaZ_spk.test(\"test\")\n",
    "train_sigmaZ_spk.predict.accuracy_fn = lambda p, t: distance(p, t, absolute=False, relative=False)\n",
    "train_sigmaZ_spk.show_results(nbins=50, title=r\"$\\sigma^2_z$\")"
   ]
  },
  {
   "cell_type": "code",
   "execution_count": null,
   "metadata": {},
   "outputs": [],
   "source": [
    "train_sigmaZ_spk.predict.accuracy_fn = lambda p, t: distance(p, t, absolute=True, relative=False)\n",
    "train_sigmaZ_spk.test(\"test\")\n",
    "print(f\"Test relative error: {train_sigmaZ_spk.acc_hist['test'][train_sigmaZ_spk.current_epoch]}\")"
   ]
  },
  {
   "cell_type": "markdown",
   "metadata": {},
   "source": [
    "### Membrane Potential"
   ]
  },
  {
   "cell_type": "code",
   "execution_count": null,
   "metadata": {},
   "outputs": [],
   "source": [
    "net_E_mem = Spiking_Net(net_desc_membrane, lambda x: spikegen_multi(x,4)) \n",
    "Pred = Predictor(predict_membrane)\n",
    "loss_fn = nn.MSELoss() #multi_MSELoss(weights=torch.tensor([1]))\n",
    "optimizer = torch.optim.Adam(net_E_mem.parameters(), lr=5e-4, betas=(0.9, 0.999))\n",
    "train_net = Trainer(net_E_mem, loss_fn, optimizer, Pred,\n",
    "                    train_dataset, val_dataset, test_dataset)"
   ]
  },
  {
   "cell_type": "code",
   "execution_count": null,
   "metadata": {},
   "outputs": [],
   "source": [
    "num_epochs = 5\n",
    "train_net.train(num_epochs)"
   ]
  },
  {
   "cell_type": "code",
   "execution_count": null,
   "metadata": {},
   "outputs": [],
   "source": [
    "train_net.test(\"test\")\n",
    "train_net.show_results(nbins=50)"
   ]
  },
  {
   "cell_type": "code",
   "execution_count": null,
   "metadata": {},
   "outputs": [],
   "source": [
    "def antitransform(x):\n",
    "    return torch.pow(10, x)\n",
    "train_net.predict.transform = antitransform\n",
    "\n",
    "train_net.test(\"test\")\n",
    "train_net.show_results(nbins=50, logscale=True, linthresh=1, title=\"Total Energy [MeV]\")"
   ]
  },
  {
   "cell_type": "code",
   "execution_count": null,
   "metadata": {},
   "outputs": [],
   "source": [
    "train_net.test(\"test\")\n",
    "print(f\"Test loss: {train_net.loss_hist['test'][num_epochs]}\")\n",
    "print(f\"Test relative error: {train_net.acc_hist['test'][num_epochs]*100}%\")\n",
    "train_net.plot_loss()\n",
    "train_net.plot_pred_vs_target(50, logscale=False, linthresh=1)"
   ]
  },
  {
   "cell_type": "code",
   "execution_count": null,
   "metadata": {},
   "outputs": [],
   "source": [
    "def antitransform(x):\n",
    "    return torch.pow(10, x)\n",
    "\n",
    "train_net.test(\"test\", transform=antitransform)\n",
    "print(f\"Test loss: {train_net.loss_hist['test'][num_epochs]}\")\n",
    "print(f\"Test relative error: {train_net.acc_hist['test'][num_epochs]*100}%\")\n",
    "train_net.plot_pred_vs_target(50, transform=antitransform, logscale=True, linthresh=1)"
   ]
  },
  {
   "cell_type": "markdown",
   "metadata": {},
   "source": [
    "### SpikeFreq"
   ]
  },
  {
   "cell_type": "code",
   "execution_count": null,
   "metadata": {},
   "outputs": [],
   "source": [
    "net_E_spk = Spiking_Net(net_desc_spikefreq, lambda x: spikegen_multi(x,4)) \n",
    "Pred_E_spk = Predictor(predict_spikefreq)\n",
    "loss_fn = nn.MSELoss() #multi_MSELoss(weights=torch.tensor([1]))\n",
    "opt_E_spk = torch.optim.Adam(net_E_spk.parameters(), lr=5e-4, betas=(0.9, 0.999))\n",
    "train_E_spk = Trainer(net_E_spk, loss_fn, opt_E_spk, Pred_E_spk,\n",
    "                      train_dataset, val_dataset, test_dataset)"
   ]
  },
  {
   "cell_type": "code",
   "execution_count": null,
   "metadata": {},
   "outputs": [],
   "source": [
    "num_epochs = 5\n",
    "train_E_spk.train(num_epochs)"
   ]
  },
  {
   "cell_type": "code",
   "execution_count": null,
   "metadata": {},
   "outputs": [],
   "source": [
    "train_E_spk.test(\"test\")\n",
    "train_E_spk.show_results(nbins=50)"
   ]
  },
  {
   "cell_type": "code",
   "execution_count": null,
   "metadata": {},
   "outputs": [],
   "source": [
    "def antitransform(x):\n",
    "    return torch.pow(10, x)\n",
    "train_E_spk.predict.transform = antitransform\n",
    "\n",
    "train_E_spk.test(\"test\")\n",
    "train_E_spk.show_results(nbins=50, logscale=True, linthresh=1, title=\"Total Energy [MeV]\")"
   ]
  },
  {
   "cell_type": "code",
   "execution_count": null,
   "metadata": {},
   "outputs": [],
   "source": [
    "net_E_spk = Spiking_Net(net_desc_spikefreq, lambda x: spikegen_multi(x,4))\n",
    "\n",
    "loss_fn = nn.MSELoss()\n",
    "opt_E_spk = torch.optim.Adam(net_E_spk.parameters(), lr=5e-4, betas=(0.9, 0.999))\n",
    "train_E_spk = Trainer(net_E_spk, loss_fn, opt_E_spk, train_dataset, val_dataset, test_dataset, predict_spikefreq)"
   ]
  },
  {
   "cell_type": "code",
   "execution_count": null,
   "metadata": {},
   "outputs": [],
   "source": [
    "num_epochs=5\n",
    "train_E_spk.train(num_epochs)\n",
    "\n",
    "train_E_spk.test(\"test\")\n",
    "print(f\"Test loss: {train_E_spk.loss_hist['test'][num_epochs]}\")\n",
    "print(f\"Test relative error: {train_E_spk.acc_hist['test'][num_epochs]*100}%\")\n",
    "train_E_spk.plot_loss()\n",
    "train_E_spk.plot_pred_vs_target(50, logscale=False, linthresh=1)"
   ]
  },
  {
   "cell_type": "code",
   "execution_count": null,
   "metadata": {},
   "outputs": [],
   "source": [
    "def antitransform(x):\n",
    "    return torch.pow(10, x)\n",
    "\n",
    "train_E_spk.test(\"test\", transform=antitransform)\n",
    "print(f\"Test loss: {train_E_spk.loss_hist['test'][num_epochs]}\")\n",
    "print(f\"Test relative error: {train_E_spk.acc_hist['test'][num_epochs]*100}%\")\n",
    "train_E_spk.plot_pred_vs_target(50, transform=antitransform, logscale=True, linthresh=1)"
   ]
  },
  {
   "cell_type": "code",
   "execution_count": null,
   "metadata": {},
   "outputs": [],
   "source": [
    "net.eval()\n",
    "all_x = []\n",
    "all_predictions = []\n",
    "with torch.no_grad():\n",
    "    for data, targets in test_dataset:\n",
    "        data = data.to(device)\n",
    "        targets = targets.to(device)\n",
    "\n",
    "        # forward pass\n",
    "        output = net_E_spk(data)\n",
    "        # calculate total accuracy\n",
    "        pred, acc = predict_spikefreq(output, targets, antitransform)\n",
    "        all_predictions.extend(pred.tolist())\n",
    "        all_x.extend(data.sum((1,2)).tolist())\n",
    "        \n",
    "fig = plt.figure(facecolor=\"w\", figsize=(10, 6))\n",
    "plt.xlabel(\"Photon Count\")\n",
    "plt.ylabel(\"Energy Prediction [MeV]\")\n",
    "plt.hist2d(all_x, all_predictions, 50, norm=SymLogNorm(linthresh=1), cmap='viridis')\n",
    "# Add a color bar\n",
    "plt.colorbar(label='Counts')\n",
    "plt.plot([0, 1e5], [0, 1e5], color='white', linewidth=1, linestyle='--')"
   ]
  },
  {
   "cell_type": "markdown",
   "metadata": {},
   "source": [
    "### Linear Model"
   ]
  },
  {
   "cell_type": "code",
   "execution_count": null,
   "metadata": {},
   "outputs": [],
   "source": [
    "data_train, data_test, data_val = ds.build_dataset(\"../Data/PrimaryOnly2\", max_files=5, primary_only=True,\n",
    "                                                   target=[\"energy\", \"centroid\"])"
   ]
  },
  {
   "cell_type": "code",
   "execution_count": null,
   "metadata": {},
   "outputs": [],
   "source": [
    "data_train, data_test, data_val = ds.build_dataset(\"../Data/All\", max_files=100, primary_only=False,\n",
    "                                                   target=[\"energy\", \"centroid\"])"
   ]
  },
  {
   "cell_type": "code",
   "execution_count": null,
   "metadata": {},
   "outputs": [],
   "source": [
    "lin_model     = LinearRegression()\n",
    "lin_model_log = LinearRegression()\n",
    "\n",
    "x, y = zip(*[data_train[i] for i in range(len(data_train))])\n",
    "E = np.array([y[0] for y in y])\n",
    "centroid = np.array([y[1] for y in y])\n",
    "#primary = np.array([y[2] for y in y])\n",
    "\n",
    "# Convert to NumPy arrays\n",
    "x = torch.stack(x).sum((1,2)).numpy()  # Convert features to NumPy\n",
    "\n",
    "# eliminate results with no photons\n",
    "mask = x > 0\n",
    "x = x[mask]\n",
    "E = E[mask]\n",
    "centroid = centroid[mask]\n",
    "#primary = primary[mask]\n",
    "\n",
    "# convert to double log scale\n",
    "x_log = np.log10(x)\n",
    "E_log = np.log10(E)\n",
    "\n",
    "lin_model.fit(x.reshape(-1,1), E)\n",
    "lin_model_log.fit(x_log.reshape(-1,1), E_log)\n",
    "print(\"Linear Model:\")\n",
    "print(\"Slope:\", lin_model.coef_[0])\n",
    "print(\"Intercept:\", lin_model.intercept_)\n",
    "print(\"\\n###################\\n\\nLinear Model Trained on logs:\")\n",
    "print(\"Slope:\", lin_model_log.coef_[0])\n",
    "print(\"Intercept:\", lin_model_log.intercept_)"
   ]
  },
  {
   "cell_type": "code",
   "execution_count": null,
   "metadata": {},
   "outputs": [],
   "source": [
    "fig = plt.figure(facecolor=\"w\", figsize=(10, 6))\n",
    "plt.xlabel(\"log(Energy [MeV])\")\n",
    "plt.ylabel(\"Counts\")\n",
    "plt.yscale(\"log\")\n",
    "plt.hist(E_log)"
   ]
  },
  {
   "cell_type": "code",
   "execution_count": null,
   "metadata": {},
   "outputs": [],
   "source": [
    "x_test, y_test = zip(*[data_train[i] for i in range(len(data_test))])\n",
    "E_test = np.array([y[0] for y in y_test])\n",
    "centroid_test = np.array([y[1] for y in y_test])\n",
    "#primary_test = np.array([y[2] for y in y_test])\n",
    "\n",
    "# Convert to NumPy arrays\n",
    "x_test = torch.stack(x_test).sum((1,2)).numpy()  # Convert features to NumPy\n",
    "\n",
    "# eliminate results with no photons\n",
    "mask = x_test > 0\n",
    "x_test = x_test[mask]\n",
    "E_test = E_test[mask]\n",
    "centroid_test = centroid_test[mask]\n",
    "#primary_test = primary_test[mask]\n",
    "\n",
    "x_test_log = np.log10(x_test)\n",
    "E_test_log = np.log10(E_test)"
   ]
  },
  {
   "cell_type": "code",
   "execution_count": null,
   "metadata": {},
   "outputs": [],
   "source": [
    "fig, ax = plt.subplots(ncols=2, figsize=(16,6))\n",
    "\n",
    "x_plot = np.arange(0.1, np.max(x_test), 1e3)\n",
    "y_plot = lin_model.predict(x_plot.reshape(-1,1))\n",
    "x_plot_log = np.arange(0.1, np.max(x_test_log), 0.1)\n",
    "y_plot_log = lin_model_log.predict(x_plot_log.reshape(-1,1))\n",
    "\n",
    "ax[0].set_xlabel(\"log(Photon Count)\")\n",
    "ax[0].set_ylabel(\"log(Energy [MeV])\")\n",
    "hb0 = ax[0].hist2d(x_test_log, E_test_log, 50, norm=SymLogNorm(linthresh=1), cmap='viridis')\n",
    "ax[0].plot(np.log10(x_plot), np.log10(y_plot), color='white',\n",
    "           linewidth=2, linestyle='--', label=\"Linear Model Prediction\")\n",
    "ax[0].plot(x_plot_log, y_plot_log, color='#FF00FF',\n",
    "           linewidth=2, linestyle='--', label=\"Log Model Prediction\")\n",
    "cbar0 = fig.colorbar(hb0[3], ax=ax[0])\n",
    "cbar0.set_label('Data')  # Label for the first colorbar\n",
    "ax[0].legend()\n",
    "\n",
    "ax[1].set_xlabel(\"Photon Count\")\n",
    "ax[1].set_ylabel(\"Energy [MeV]\")\n",
    "hb1 = ax[1].hist2d(x_test, E_test, 50, norm=SymLogNorm(linthresh=1), cmap='viridis')\n",
    "ax[1].plot(x_plot, y_plot, color='white',\n",
    "           linewidth=1, linestyle='--', label=\"Linear Model Prediction\")\n",
    "ax[1].plot(np.pow(10,x_plot_log), np.pow(10,y_plot_log), color='#FF00FF',\n",
    "           linewidth=1, linestyle='--', label=\"Log Model Prediction\")\n",
    "cbar1 = fig.colorbar(hb1[3], ax=ax[1])\n",
    "cbar1.set_label('Data')  # Label for the first colorbar\n",
    "ax[1].legend()"
   ]
  },
  {
   "cell_type": "code",
   "execution_count": null,
   "metadata": {},
   "outputs": [],
   "source": [
    "fig, ax = plt.subplots(ncols=2, figsize=(16,6))\n",
    "\n",
    "condition = centroid_test[:,1] < 5\n",
    "\n",
    "ax[0].set_title(\"Y idx < 5\")\n",
    "ax[0].set_ylabel(\"Energy [MeV]\")\n",
    "hb0 = ax[0].hist2d(x_test[condition], E_test[condition], 50, norm=SymLogNorm(linthresh=1, vmax=1e4, vmin=0), cmap='viridis')\n",
    "ax[0].plot(x_plot, y_plot, color='white',\n",
    "           linewidth=1, linestyle='--', label=\"Linear Model Prediction\")\n",
    "ax[0].plot(np.pow(10,x_plot_log), np.pow(10,y_plot_log), color='#FF00FF',\n",
    "           linewidth=1, linestyle='--', label=\"Log Model Prediction\")\n",
    "ax[0].legend()\n",
    "\n",
    "\n",
    "condition = centroid_test[:,1] >= 5\n",
    "\n",
    "ax[1].set_title(\"Y idx >= 5\")\n",
    "hb1 = ax[1].hist2d(x_test[condition], E_test[condition], 50, norm=SymLogNorm(linthresh=1, vmax=1e4, vmin=0), cmap='viridis')\n",
    "ax[1].plot(x_plot, y_plot, color='white',\n",
    "           linewidth=1, linestyle='--', label=\"Linear Model Prediction\")\n",
    "ax[1].plot(np.pow(10,x_plot_log), np.pow(10,y_plot_log), color='#FF00FF',\n",
    "           linewidth=1, linestyle='--', label=\"Log Model Prediction\")\n",
    "ax[1].legend()\n",
    "\n",
    "cbar1 = fig.colorbar(hb1[3], ax=ax)\n",
    "cbar1.set_label('Data') \n",
    "fig.text(0.5, 0.04, 'Photon Count', ha='center')\n",
    "#plt.tight_layout(rect=[0.05, 0.05, 1, 1])"
   ]
  },
  {
   "cell_type": "code",
   "execution_count": null,
   "metadata": {},
   "outputs": [],
   "source": [
    "E_pred = lin_model.predict(x_test.reshape(-1,1))\n",
    "acc = np.mean(abs((E_test-E_pred)/E_test)*100)\n",
    "print(f\"Mean relative error: {acc}%\")"
   ]
  },
  {
   "cell_type": "code",
   "execution_count": null,
   "metadata": {},
   "outputs": [],
   "source": [
    "E_pred_log = lin_model_log.predict(x_test_log.reshape(-1,1))\n",
    "acc = np.mean(abs((np.pow(10,E_test_log)-np.pow(10,E_pred_log))/np.pow(10,E_test_log))*100)\n",
    "print(f\"Mean relative error: {acc}%\")"
   ]
  },
  {
   "cell_type": "code",
   "execution_count": null,
   "metadata": {},
   "outputs": [],
   "source": [
    "mask_up   = E_test_log > lin_model_log.predict(x_test_log.reshape(-1,1))\n",
    "mask_down = E_test_log < lin_model_log.predict(x_test_log.reshape(-1,1))"
   ]
  },
  {
   "cell_type": "code",
   "execution_count": null,
   "metadata": {},
   "outputs": [],
   "source": [
    "fig, ax = plt.subplots(ncols=1, figsize=(8,6))\n",
    "ax.hist(centroid_test[mask_up, 1], bins=[-0.5+i for i in range(11)], \n",
    "        edgecolor='blue', facecolor='white', linewidth=1.5, label='E > prediction', alpha=0.8)\n",
    "ax.hist(centroid_test[mask_down, 1], bins=[-0.5+i for i in range(11)], \n",
    "        edgecolor='orange', facecolor='white', linewidth=1.5, label='E < prediction', alpha=0.8)\n",
    "ax.hist(centroid_test[:, 1], bins=[-0.5+i for i in range(11)], \n",
    "        edgecolor='grey', facecolor='lightgrey', alpha=0.2, linewidth=1.5, label='Global')\n",
    "ax.set_xticks([i for i in range(10)])\n",
    "ax.legend()\n",
    "ax.set_xlabel(\"Centroid Y cell\")\n",
    "ax.set_ylabel(\"Counts per cell\")"
   ]
  },
  {
   "cell_type": "markdown",
   "metadata": {},
   "source": [
    "# Energy Centroid"
   ]
  },
  {
   "cell_type": "markdown",
   "metadata": {},
   "source": [
    "## X"
   ]
  },
  {
   "cell_type": "code",
   "execution_count": null,
   "metadata": {},
   "outputs": [],
   "source": [
    "dataset.transform = transform=lambda x: (x[0], ds.to_tensor_and_dtype((x[1][1][0]), torch.float32))\n",
    "train_dataset, test_dataset, val_dataset = ds.build_loaders(dataset, (0.7, 0.15), shuffle=True, num_workers=0)"
   ]
  },
  {
   "cell_type": "code",
   "execution_count": null,
   "metadata": {},
   "outputs": [],
   "source": [
    "X = ((np.array([d[1] for d in dataset])))\n",
    "\n",
    "fig = plt.figure(facecolor=\"w\", figsize=(4, 3))\n",
    "plt.xlabel(\"X coordinate\")\n",
    "plt.ylabel(\"Counts\")\n",
    "plt.yscale(\"log\")\n",
    "plt.hist(X)"
   ]
  },
  {
   "cell_type": "code",
   "execution_count": null,
   "metadata": {},
   "outputs": [],
   "source": [
    "net_x_spk = Spiking_Net(net_desc_spikefreq, lambda x: spikegen_multi(x,4))\n",
    "\n",
    "loss_fn = nn.MSELoss()\n",
    "opt_x_spk = torch.optim.Adam(net_x_spk.parameters(), lr=5e-4, betas=(0.9, 0.999))\n",
    "train_x_spk = Trainer(net_x_spk, loss_fn, opt_x_spk, train_dataset, val_dataset, test_dataset, predict_spikefreq)"
   ]
  },
  {
   "cell_type": "code",
   "execution_count": null,
   "metadata": {},
   "outputs": [],
   "source": [
    "num_epochs=5\n",
    "train_x_spk.train(num_epochs)\n",
    "\n",
    "train_x_spk.test(\"test\")\n",
    "print(f\"Test loss: {train_x_spk.loss_hist['test'][num_epochs]}\")\n",
    "print(f\"Test relative error: {train_x_spk.acc_hist['test'][num_epochs]*100}%\")\n",
    "train_x_spk.plot_loss()\n",
    "train_x_spk.plot_pred_vs_target(50, logscale=False, linthresh=1)"
   ]
  },
  {
   "cell_type": "markdown",
   "metadata": {},
   "source": [
    "## Z"
   ]
  },
  {
   "cell_type": "code",
   "execution_count": null,
   "metadata": {},
   "outputs": [],
   "source": [
    "dataset.transform = transform=lambda x: (x[0], ds.to_tensor_and_dtype((x[1][1][2]), torch.float32))\n",
    "train_dataset, test_dataset, val_dataset = ds.build_loaders(dataset, (0.7, 0.15), shuffle=True, num_workers=0)"
   ]
  },
  {
   "cell_type": "code",
   "execution_count": null,
   "metadata": {},
   "outputs": [],
   "source": [
    "Z = ((np.array([d[1] for d in dataset])))\n",
    "\n",
    "fig = plt.figure(facecolor=\"w\", figsize=(4, 3))\n",
    "plt.xlabel(\"Z coordinate\")\n",
    "plt.ylabel(\"Counts\")\n",
    "plt.yscale(\"log\")\n",
    "plt.hist(Z, bins=[i for i in range(10)])"
   ]
  },
  {
   "cell_type": "code",
   "execution_count": null,
   "metadata": {},
   "outputs": [],
   "source": [
    "net_z_spk = Spiking_Net(net_desc_spikefreq, lambda x: spikegen_multi(x,4))\n",
    "\n",
    "loss_fn = nn.MSELoss()\n",
    "opt_z_spk = torch.optim.Adam(net_z_spk.parameters(), lr=5e-4, betas=(0.9, 0.999))\n",
    "train_z_spk = Trainer(net_z_spk, loss_fn, opt_z_spk, train_dataset, val_dataset, test_dataset, predict_spikefreq)"
   ]
  },
  {
   "cell_type": "code",
   "execution_count": null,
   "metadata": {},
   "outputs": [],
   "source": [
    "num_epochs=5\n",
    "train_z_spk.train(num_epochs)\n",
    "\n",
    "train_z_spk.test(\"test\")\n",
    "print(f\"Test loss: {train_z_spk.loss_hist['test'][num_epochs]}\")\n",
    "print(f\"Test relative error: {train_z_spk.acc_hist['test'][num_epochs]*100}%\")\n",
    "train_z_spk.plot_loss()\n",
    "train_z_spk.plot_pred_vs_target(50, logscale=False, linthresh=1)"
   ]
  },
  {
   "cell_type": "markdown",
   "metadata": {},
   "source": [
    "## Y"
   ]
  },
  {
   "cell_type": "code",
   "execution_count": null,
   "metadata": {},
   "outputs": [],
   "source": [
    "dataset.transform = transform=lambda x: (x[0], ds.to_tensor_and_dtype((x[1][1][1]), torch.float32))\n",
    "train_dataset, test_dataset, val_dataset = ds.build_loaders(dataset, (0.7, 0.15), shuffle=True, num_workers=0)"
   ]
  },
  {
   "cell_type": "code",
   "execution_count": null,
   "metadata": {},
   "outputs": [],
   "source": [
    "Y = ((np.array([d[1] for d in dataset])))\n",
    "\n",
    "fig = plt.figure(facecolor=\"w\", figsize=(4, 3))\n",
    "plt.xlabel(\"Y coordinate\")\n",
    "plt.ylabel(\"Counts\")\n",
    "plt.yscale(\"log\")\n",
    "plt.hist(Y, bins=[i for i in range(10)])"
   ]
  },
  {
   "cell_type": "code",
   "execution_count": null,
   "metadata": {},
   "outputs": [],
   "source": [
    "net_y_spk = Spiking_Net(net_desc_spikefreq, lambda x: spikegen_multi(x,4))\n",
    "\n",
    "loss_fn = nn.MSELoss()\n",
    "opt_y_spk = torch.optim.Adam(net_y_spk.parameters(), lr=5e-4, betas=(0.9, 0.999))\n",
    "train_y_spk = Trainer(net_y_spk, loss_fn, opt_y_spk, train_dataset, val_dataset, test_dataset, predict_spikefreq)"
   ]
  },
  {
   "cell_type": "code",
   "execution_count": null,
   "metadata": {},
   "outputs": [],
   "source": [
    "num_epochs=5\n",
    "train_y_spk.train(num_epochs)\n",
    "\n",
    "train_y_spk.test(\"test\")\n",
    "print(f\"Test loss: {train_y_spk.loss_hist['test'][num_epochs]}\")\n",
    "print(f\"Test relative error: {train_y_spk.acc_hist['test'][num_epochs]*100}%\")\n",
    "train_y_spk.plot_loss()\n",
    "train_y_spk.plot_pred_vs_target(50, logscale=False, linthresh=1)"
   ]
  },
  {
   "cell_type": "markdown",
   "metadata": {},
   "source": [
    "## X, Y and Z together"
   ]
  },
  {
   "cell_type": "code",
   "execution_count": null,
   "metadata": {},
   "outputs": [],
   "source": [
    "dataset.transform = transform=lambda x: (x[0], ds.to_tensor_and_dtype((x[1][1]), torch.float32))\n",
    "train_dataset, test_dataset, val_dataset = ds.build_loaders(dataset, (0.7, 0.15), shuffle=True, num_workers=0)"
   ]
  },
  {
   "cell_type": "code",
   "execution_count": null,
   "metadata": {},
   "outputs": [],
   "source": [
    "def set_seed(seed: int = 42) -> None:\n",
    "    np.random.seed(seed)\n",
    "    torch.manual_seed(seed)\n",
    "    torch.cuda.manual_seed(seed)\n",
    "    # When running on the CuDNN backend, two further options must be set\n",
    "    torch.backends.cudnn.deterministic = True\n",
    "    torch.backends.cudnn.benchmark = False\n",
    "    # Set a fixed value for the hash seed\n",
    "    os.environ[\"PYTHONHASHSEED\"] = str(seed)\n",
    "    print(f\"Random seed set as {seed}\")"
   ]
  },
  {
   "cell_type": "code",
   "execution_count": null,
   "metadata": {},
   "outputs": [],
   "source": [
    "set_seed(12)\n",
    "a = torch.rand(size=(100,5,30))\n",
    "b = torch.rand(size=(5,3))\n",
    "p, a = predict_spikefreq_multitask(a, b)\n",
    "print(p.shape, a.shape)\n",
    "t = torch.rand(size=(5,3))\n",
    "print(t)\n",
    "print(p)\n",
    "loss_fn = nn.MSELoss(reduction='sum')\n",
    "o = loss_fn(t, p)\n",
    "print(o)"
   ]
  },
  {
   "cell_type": "code",
   "execution_count": null,
   "metadata": {},
   "outputs": [],
   "source": [
    "population = 10\n",
    "net_centroid = {\n",
    "    \"layers\" : [400, 200, 3*population],\n",
    "    \"timesteps\": 100,\n",
    "    \"output\": \"membrane\",\n",
    "    \"neuron_params\" : {\n",
    "                1: [snn.Leaky, \n",
    "                    {\"beta\" : 1.0,\n",
    "                    \"learn_beta\": True,\n",
    "                    \"threshold\" : 1.0,\n",
    "                    \"learn_threshold\": True,\n",
    "                    \"spike_grad\": surrogate.fast_sigmoid(),\n",
    "                    }],\n",
    "                2: [snn.Leaky, \n",
    "                    {\"beta\" : 1.0,\n",
    "                    \"learn_beta\": True,\n",
    "                    \"threshold\" : 1.0,\n",
    "                    \"learn_threshold\": True, \n",
    "                    \"spike_grad\": surrogate.fast_sigmoid(),\n",
    "                    }]\n",
    "                }\n",
    "    }\n",
    "\n",
    "def predict_spikefreq_multitask(output, targets, transform=None):\n",
    "    population=10\n",
    "    output = output.reshape(output.shape[0], output.shape[1], population, -1)\n",
    "    prediction = output.sum((0,2))/(output.shape[0]*output.shape[2])\n",
    "    if transform:\n",
    "        prediction, targets = transform(prediction), transform(targets)\n",
    "    accuracy = torch.abs((targets - prediction)/targets)\n",
    "    return prediction, torch.mean(accuracy, 0)\n",
    "\n",
    "net_c = Spiking_Net(net_centroid, lambda x: spikegen_multi(x,4))\n",
    "\n",
    "loss_fn = nn.MSELoss()\n",
    "optimizer_c = torch.optim.Adam(net_c.parameters(), lr=5e-4, betas=(0.9, 0.999))\n",
    "train_net_c = Trainer(net_c, loss_fn, optimizer_c, train_load, val_load, test_load, predict_spikefreq_multitask)"
   ]
  },
  {
   "cell_type": "code",
   "execution_count": null,
   "metadata": {},
   "outputs": [],
   "source": [
    "train_net_c.train(5)"
   ]
  },
  {
   "cell_type": "code",
   "execution_count": null,
   "metadata": {},
   "outputs": [],
   "source": [
    "train_net_c.acc_hist[\"validation\"]"
   ]
  },
  {
   "cell_type": "markdown",
   "metadata": {},
   "source": [
    "# Energy Dispersion"
   ]
  },
  {
   "cell_type": "markdown",
   "metadata": {},
   "source": [
    "## X"
   ]
  },
  {
   "cell_type": "code",
   "execution_count": null,
   "metadata": {},
   "outputs": [],
   "source": [
    "dataset.transform = transform=lambda x: (x[0], ds.to_tensor_and_dtype((x[1][2][0]), torch.float32))\n",
    "train_dataset, test_dataset, val_dataset = ds.build_loaders(dataset, (0.7, 0.15), shuffle=True, num_workers=0)"
   ]
  },
  {
   "cell_type": "code",
   "execution_count": null,
   "metadata": {},
   "outputs": [],
   "source": [
    "sigmaX = ((np.array([d[1] for d in dataset])))\n",
    "\n",
    "fig = plt.figure(facecolor=\"w\", figsize=(4, 3))\n",
    "plt.xlabel(r'$\\sigma_{X}$', fontsize=14)\n",
    "plt.ylabel(\"Counts\")\n",
    "plt.yscale(\"log\")\n",
    "plt.hist(sigmaX)\n",
    "\n",
    "#print(f\"Minimum energy: {min(energies)}\")"
   ]
  },
  {
   "cell_type": "code",
   "execution_count": null,
   "metadata": {},
   "outputs": [],
   "source": [
    "net_sX_spk = Spiking_Net(net_desc_spikefreq, lambda x: spikegen_multi(x,4))\n",
    "\n",
    "opt_sX_spk = torch.optim.Adam(net_sX_spk.parameters(), lr=5e-4, betas=(0.9, 0.999))\n",
    "train_sX_spk = Trainer(net_sX_spk, loss_fn, opt_sX_spk, train_dataset, val_dataset, test_dataset, predict_spikefreq)"
   ]
  },
  {
   "cell_type": "code",
   "execution_count": null,
   "metadata": {},
   "outputs": [],
   "source": [
    "num_epochs=5\n",
    "train_sX_spk.train(num_epochs)\n",
    "\n",
    "train_sX_spk.test(\"test\")\n",
    "print(f\"Test loss: {train_sX_spk.loss_hist['test'][num_epochs]}\")\n",
    "print(f\"Test relative error: {train_sX_spk.acc_hist['test'][num_epochs]*100}%\")\n",
    "train_sX_spk.plot_loss()\n",
    "train_sX_spk.plot_pred_vs_target(50, logscale=False, linthresh=1)"
   ]
  },
  {
   "cell_type": "markdown",
   "metadata": {},
   "source": [
    "## Z"
   ]
  },
  {
   "cell_type": "code",
   "execution_count": null,
   "metadata": {},
   "outputs": [],
   "source": [
    "dataset.transform = transform=lambda x: (x[0], ds.to_tensor_and_dtype((x[1][2][2]), torch.float32))\n",
    "train_dataset, test_dataset, val_dataset = ds.build_loaders(dataset, (0.7, 0.15), shuffle=True, num_workers=0)"
   ]
  },
  {
   "cell_type": "code",
   "execution_count": null,
   "metadata": {},
   "outputs": [],
   "source": [
    "sigmaZ = ((np.array([d[1] for d in dataset])))\n",
    "\n",
    "fig = plt.figure(facecolor=\"w\", figsize=(4, 3))\n",
    "plt.xlabel(r'$\\sigma_{Z}$', fontsize=14)\n",
    "plt.ylabel(\"Counts\")\n",
    "plt.yscale(\"log\")\n",
    "plt.hist(sigmaZ)"
   ]
  },
  {
   "cell_type": "code",
   "execution_count": null,
   "metadata": {},
   "outputs": [],
   "source": [
    "net_sZ_spk = Spiking_Net(net_desc_spikefreq, lambda x: spikegen_multi(x,4))\n",
    "\n",
    "opt_sZ_spk = torch.optim.Adam(net_sZ_spk.parameters(), lr=5e-4, betas=(0.9, 0.999))\n",
    "train_sZ_spk = Trainer(net_sZ_spk, loss_fn, opt_sZ_spk, train_dataset, val_dataset, test_dataset, predict_spikefreq)"
   ]
  },
  {
   "cell_type": "code",
   "execution_count": null,
   "metadata": {},
   "outputs": [],
   "source": [
    "num_epochs=5\n",
    "train_sZ_spk.train(num_epochs)\n",
    "\n",
    "train_sZ_spk.test(\"test\")\n",
    "print(f\"Test loss: {train_sZ_spk.loss_hist['test'][num_epochs]}\")\n",
    "print(f\"Test relative error: {train_sZ_spk.acc_hist['test'][num_epochs]*100}%\")\n",
    "train_sZ_spk.plot_loss()\n",
    "train_sZ_spk.plot_pred_vs_target(50, logscale=False, linthresh=1)"
   ]
  },
  {
   "cell_type": "markdown",
   "metadata": {},
   "source": [
    "## Y"
   ]
  },
  {
   "cell_type": "code",
   "execution_count": null,
   "metadata": {},
   "outputs": [],
   "source": [
    "dataset.transform = transform=lambda x: (x[0], ds.to_tensor_and_dtype((x[1][2][1]), torch.float32))\n",
    "train_dataset, test_dataset, val_dataset = ds.build_loaders(dataset, (0.7, 0.15), shuffle=True, num_workers=0)"
   ]
  },
  {
   "cell_type": "code",
   "execution_count": null,
   "metadata": {},
   "outputs": [],
   "source": [
    "sigmaY = ((np.array([d[1] for d in dataset])))\n",
    "\n",
    "fig = plt.figure(facecolor=\"w\", figsize=(4, 3))\n",
    "plt.xlabel(r'$\\sigma_{Y}$', fontsize=14)\n",
    "plt.ylabel(\"Counts\")\n",
    "plt.yscale(\"log\")\n",
    "plt.hist(sigmaY)"
   ]
  },
  {
   "cell_type": "code",
   "execution_count": null,
   "metadata": {},
   "outputs": [],
   "source": [
    "net_sY_spk = Spiking_Net(net_desc_spikefreq, lambda x: spikegen_multi(x,4))\n",
    "\n",
    "opt_sY_spk = torch.optim.Adam(net_sY_spk.parameters(), lr=5e-4, betas=(0.9, 0.999))\n",
    "train_sY_spk = Trainer(net_sY_spk, loss_fn, opt_sY_spk, train_dataset, val_dataset, test_dataset, predict_spikefreq)"
   ]
  },
  {
   "cell_type": "code",
   "execution_count": null,
   "metadata": {},
   "outputs": [],
   "source": [
    "num_epochs=5\n",
    "train_sY_spk.train(num_epochs)\n",
    "\n",
    "train_sY_spk.test(\"test\")\n",
    "print(f\"Test loss: {train_sY_spk.loss_hist['test'][num_epochs]}\")\n",
    "print(f\"Test relative error: {train_sY_spk.acc_hist['test'][num_epochs]*100}%\")\n",
    "train_sY_spk.plot_loss()\n",
    "train_sY_spk.plot_pred_vs_target(50, logscale=False, linthresh=1)"
   ]
  },
  {
   "cell_type": "markdown",
   "metadata": {},
   "source": [
    "# Energy Regression + Y Position"
   ]
  },
  {
   "cell_type": "code",
   "execution_count": null,
   "metadata": {},
   "outputs": [],
   "source": [
    "data_train, data_test, data_val = ds.build_dataset(\"../Data/PrimaryOnly2\",  primary_only=True, target=\"energy\",\n",
    "                                                   transform=lambda x: (x[0], ds.to_tensor_and_dtype(np.log10(x[1]), torch.float32)))\n",
    "\n",
    "batch_size = 50\n",
    "nw = 0\n",
    "train_load = DataLoader(data_train[:(len(data_train)//batch_size)*batch_size], batch_size=batch_size, shuffle=True, num_workers=nw)\n",
    "val_load   = DataLoader(data_val[:(len(data_val)//batch_size)*batch_size],     batch_size=batch_size, shuffle=True, num_workers=nw)\n",
    "test_load  = DataLoader(data_test[:(len(data_test)//batch_size)*batch_size],   batch_size=batch_size, shuffle=True, num_workers=nw)"
   ]
  },
  {
   "cell_type": "code",
   "execution_count": null,
   "metadata": {},
   "outputs": [],
   "source": [
    "def spikegen_multi(data, multiplicity=4):\n",
    "    og_shape = data.shape\n",
    "    spike_data = torch.zeros(og_shape[1], og_shape[0], multiplicity*og_shape[2])\n",
    "    for i in range(multiplicity):\n",
    "        condition = data > np.power(10, i+2)\n",
    "        batch_idx, time_idx, sensor_idx = torch.nonzero(condition, as_tuple=True)\n",
    "        spike_data[time_idx, batch_idx, multiplicity*sensor_idx+i] = 1\n",
    "\n",
    "    return spike_data\n",
    "\n",
    "def spikegen_with_position(data, *args, **kwargs):\n",
    "    spk1 = spikegen_multi(data, *args, **kwargs)\n",
    "    spk2 = net_y(data)\n",
    "\n",
    "    output = torch.cat((spk1, spk2), dim=2)\n",
    "\n",
    "    return output\n",
    "\n",
    "\n",
    "population = 10\n",
    "net_desc_spikefreq_with_pos = {\n",
    "    \"layers\" : [410, 200, population],\n",
    "    \"timesteps\": 100,\n",
    "    \"output\": \"membrane\",\n",
    "    \"neuron_params\" : {\n",
    "                1: [snn.Leaky, \n",
    "                    {\"beta\" : 1.0,\n",
    "                    \"learn_beta\": True,\n",
    "                    \"threshold\" : 1.0,\n",
    "                    \"learn_threshold\": True,\n",
    "                    \"spike_grad\": surrogate.fast_sigmoid(),\n",
    "                    }],\n",
    "                2: [snn.Leaky, \n",
    "                    {\"beta\" : 1.0,\n",
    "                    \"learn_beta\": True,\n",
    "                    \"threshold\" : 1.0,\n",
    "                    \"learn_threshold\": True, \n",
    "                    \"spike_grad\": surrogate.fast_sigmoid(),\n",
    "                    }]\n",
    "                }\n",
    "    }\n",
    "\n",
    "net_E = Spiking_Net(net_desc_spikefreq_with_pos, lambda x: spikegen_with_position(x,4))\n",
    "\n",
    "optimizer_E = torch.optim.Adam(net_E.parameters(), lr=5e-4, betas=(0.9, 0.999))\n",
    "train_net_E = Trainer(net_E, loss_fn, optimizer_E, train_load, val_load, test_load, predict_spikefreq)\n",
    "    "
   ]
  },
  {
   "cell_type": "code",
   "execution_count": null,
   "metadata": {},
   "outputs": [],
   "source": [
    "num_epochs=10\n",
    "train_net_E.train(num_epochs)\n",
    "\n",
    "train_net_E.test(\"test\")\n",
    "print(f\"Test loss: {train_net_E.loss_hist['test'][10]}\")\n",
    "print(f\"Test relative error: {train_net_E.acc_hist['test'][10]*100}%\")\n",
    "train_net_E.plot_loss()\n",
    "train_net_E.plot_pred_vs_target(50, logscale=False, linthresh=1)"
   ]
  },
  {
   "cell_type": "code",
   "execution_count": null,
   "metadata": {},
   "outputs": [],
   "source": [
    "def antitransform(x):\n",
    "    return torch.pow(10, x)\n",
    "\n",
    "train_net_E.test(\"test\", transform=antitransform)\n",
    "print(f\"Test loss: {train_net_E.loss_hist['test'][num_epochs]}\")\n",
    "print(f\"Test relative error: {train_net_E.acc_hist['test'][num_epochs]*100}%\")\n",
    "train_net_E.plot_pred_vs_target(50, transform=antitransform, logscale=True, linthresh=1)"
   ]
  },
  {
   "cell_type": "code",
   "execution_count": null,
   "metadata": {},
   "outputs": [],
   "source": [
    "net_E.eval()\n",
    "all_x = []\n",
    "all_predictions = []\n",
    "with torch.no_grad():\n",
    "    for data, targets in test_load:\n",
    "        data = data.to(device)\n",
    "        targets = targets.to(device)\n",
    "\n",
    "        # forward pass\n",
    "        output = net_E(data)\n",
    "        # calculate total accuracy\n",
    "        pred, acc = predict_spikefreq(output, targets, antitransform)\n",
    "        all_predictions.extend(pred.tolist())\n",
    "        all_x.extend(data.sum((1,2)).tolist())\n",
    "        \n",
    "fig = plt.figure(facecolor=\"w\", figsize=(10, 6))\n",
    "plt.xlabel(\"Photon Count\")\n",
    "plt.ylabel(\"Energy Prediction [MeV]\")\n",
    "plt.hist2d(all_x, all_predictions, 50, norm=SymLogNorm(linthresh=1), cmap='viridis')\n",
    "# Add a color bar\n",
    "plt.colorbar(label='Counts')\n",
    "plt.plot([0, 1e5], [0, 1e5], color='white', linewidth=1, linestyle='--')"
   ]
  },
  {
   "cell_type": "markdown",
   "metadata": {},
   "source": [
    "# N of interactions"
   ]
  },
  {
   "cell_type": "code",
   "execution_count": null,
   "metadata": {},
   "outputs": [],
   "source": [
    "data_train, data_test, data_val = ds.build_dataset(\"../Data/PrimaryOnly\", max_files=5, target=\"N_int\",\n",
    "                                                   transform= lambda x: (x[0], ds.to_tensor_and_dtype(x[1], torch.float32)))"
   ]
  },
  {
   "cell_type": "code",
   "execution_count": null,
   "metadata": {},
   "outputs": [],
   "source": [
    "batch_size = 50\n",
    "nw = 0\n",
    "train_load = DataLoader(data_train[:(len(data_train)//batch_size)*batch_size], batch_size=batch_size, shuffle=True, num_workers=nw)\n",
    "val_load   = DataLoader(data_val[:(len(data_val)//batch_size)*batch_size],     batch_size=batch_size, shuffle=True, num_workers=nw)\n",
    "test_load  = DataLoader(data_test[:(len(data_test)//batch_size)*batch_size],   batch_size=batch_size, shuffle=True, num_workers=nw)"
   ]
  },
  {
   "cell_type": "code",
   "execution_count": null,
   "metadata": {},
   "outputs": [],
   "source": [
    "Nint = ((np.array([d[1] for d in data_train])))\n",
    "\n",
    "fig = plt.figure(facecolor=\"w\", figsize=(10, 6))\n",
    "plt.xlabel(r'$\\sigma_{E}$', fontsize=14)\n",
    "plt.ylabel(\"Counts\")\n",
    "plt.yscale(\"log\")\n",
    "plt.hist(Nint)\n"
   ]
  },
  {
   "cell_type": "code",
   "execution_count": null,
   "metadata": {},
   "outputs": [],
   "source": [
    "min(Nint)"
   ]
  },
  {
   "cell_type": "code",
   "execution_count": null,
   "metadata": {},
   "outputs": [],
   "source": [
    "idx = 15\n",
    "print(Nint[idx])\n",
    "visualize.plot_views(idx, data_train)"
   ]
  },
  {
   "cell_type": "markdown",
   "metadata": {},
   "source": [
    "# OLD"
   ]
  },
  {
   "cell_type": "code",
   "execution_count": null,
   "metadata": {},
   "outputs": [],
   "source": [
    "class Net_LIF_1L(nn.Module):\n",
    "    \"\"\"FCN with 1 hidden layer and LIF neurons.\"\"\"\n",
    "\n",
    "    def __init__(self, input_feat, hidden, out_feat, timesteps,\n",
    "                 learnable=True, beta=0.8, threshold=1.0):\n",
    "        super().__init__()\n",
    "        \n",
    "        self.input_feat = input_feat          # number of input neurons \n",
    "        self.hidden = hidden                  # number of hidden neurons\n",
    "        self.out_feat = out_feat              # number of output neurons\n",
    "        \n",
    "        self.timesteps = timesteps            # number of time steps to simulate the network\n",
    "\n",
    "        spike_grad = surrogate.fast_sigmoid() # surrogate gradient function\n",
    "        \n",
    "        self.fc_in = nn.Linear(in_features=self.input_feat, out_features=self.hidden)\n",
    "        self.lif_in = snn.Leaky(beta=beta, spike_grad=spike_grad, threshold=threshold,\n",
    "                                learn_beta=learnable, learn_threshold=learnable)\n",
    "        \n",
    "        self.fc_out = nn.Linear(in_features=self.hidden, out_features=self.out_feat)\n",
    "        self.lif_out = snn.Leaky(beta=beta, spike_grad=spike_grad, threshold=threshold,\n",
    "                                 learn_beta=learnable, learn_threshold=learnable)\n",
    "        \n",
    "    def _spikegen(self, data):\n",
    "        spike_data = data.transpose(0,1) \n",
    "        spike_train = torch.where(spike_data > 300, torch.tensor(1), torch.tensor(0)).to(torch.float32) \n",
    "        return spike_train\n",
    "    \n",
    "    def forward(self, data):\n",
    "        \"\"\"Forward pass for several time steps.\"\"\"\n",
    "\n",
    "        x = self._spikegen(data)\n",
    "\n",
    "        # Initalize membrane potential\n",
    "        mem1 = self.lif_in.init_leaky()\n",
    "        mem2 = self.lif_out.init_leaky()\n",
    "\n",
    "        # Record the final layer\n",
    "        spk2_rec = []\n",
    "        mem2_rec = []\n",
    "\n",
    "        # Loop over \n",
    "        for step in range(self.timesteps):\n",
    "                \n",
    "            cur1 = self.fc_in(x[step])\n",
    "            spk1, mem1 = self.lif_in(cur1, mem1)\n",
    "            cur2 = self.fc_out(spk1)\n",
    "            spk2, mem2 = self.lif_out(cur2, mem2)\n",
    "            spk2_rec.append(spk2)\n",
    "            mem2_rec.append(mem2)\n",
    "\n",
    "        return torch.stack(spk2_rec, dim=0)"
   ]
  },
  {
   "cell_type": "code",
   "execution_count": null,
   "metadata": {},
   "outputs": [],
   "source": [
    "class Net_Reg(nn.Module):\n",
    "    \"\"\"FCN with 1 hidden layer and LIF neurons.\"\"\"\n",
    "\n",
    "    def __init__(self, input_feat, hidden, timesteps,\n",
    "                 learnable=True, beta=0.8, threshold=1.0):\n",
    "        super().__init__()\n",
    "        \n",
    "        self.input_feat = input_feat          # number of input neurons \n",
    "        self.hidden = hidden                  # number of hidden neurons\n",
    "        self.out_feat = 1                     # number of output neurons\n",
    "        \n",
    "        self.timesteps = timesteps            # number of time steps to simulate the network\n",
    "\n",
    "        spike_grad = surrogate.fast_sigmoid() # surrogate gradient function\n",
    "        \n",
    "        self.fc_in = nn.Linear(in_features=self.input_feat, out_features=self.hidden)\n",
    "        self.lif_in = snn.Leaky(beta=beta, spike_grad=spike_grad, threshold=threshold,\n",
    "                                learn_beta=learnable, learn_threshold=learnable)\n",
    "        \n",
    "        self.fc_out = nn.Linear(in_features=self.hidden, out_features=self.out_feat)\n",
    "        self.lif_out = snn.Leaky(beta=beta, spike_grad=spike_grad, threshold=1e20,\n",
    "                                 learn_beta=learnable)\n",
    "        \n",
    "    def _spikegen(self, data):\n",
    "        spike_data = data.transpose(0,1) \n",
    "        spike_train = torch.where(spike_data > 300, torch.tensor(1), torch.tensor(0)).to(torch.float32) \n",
    "        return spike_train\n",
    "    \n",
    "    def forward(self, data):\n",
    "        \"\"\"Forward pass for several time steps.\"\"\"\n",
    "\n",
    "        x = self._spikegen(data)\n",
    "\n",
    "        # Initalize membrane potential\n",
    "        mem1 = self.lif_in.init_leaky()\n",
    "        mem2 = self.lif_out.init_leaky()\n",
    "\n",
    "        # Record the final layer\n",
    "        spk2_rec = []\n",
    "        mem2_rec = []\n",
    "\n",
    "        # Loop over \n",
    "        for step in range(self.timesteps):\n",
    "                \n",
    "            cur1 = self.fc_in(x[step])\n",
    "            spk1, mem1 = self.lif_in(cur1, mem1)\n",
    "            cur2 = self.fc_out(spk1)\n",
    "            spk2, mem2 = self.lif_out(cur2, mem2)\n",
    "            spk2_rec.append(spk2)\n",
    "            mem2_rec.append(mem2)\n",
    "\n",
    "        return  mem2_rec[-1].squeeze(1)"
   ]
  },
  {
   "cell_type": "code",
   "execution_count": null,
   "metadata": {},
   "outputs": [],
   "source": [
    "#loss = nn.MSELoss()\n",
    "num_inputs = 100\n",
    "num_hidden = 200\n",
    "num_steps = timesteps\n",
    "net2 = Net_Reg(num_inputs, num_hidden, num_steps)"
   ]
  },
  {
   "cell_type": "code",
   "execution_count": null,
   "metadata": {},
   "outputs": [],
   "source": [
    "def accuracy_set(net, data_loader, loss_fn, comp_mc=False):\n",
    "    mcm = MulticlassConfusionMatrix(num_classes=nClasses, normalize='none')\n",
    "    net.eval()\n",
    "    with torch.no_grad():\n",
    "        total = 0\n",
    "        correct = 0\n",
    "        temp_loss = []\n",
    "        for data, targets in data_loader:\n",
    "            data = data.to(device)\n",
    "            targets = targets.to(device)\n",
    "\n",
    "            # create spike train\n",
    "            spike_in = custom_spikegen(data)\n",
    "            spike_in = spike_in.to(device)\n",
    "\n",
    "            # forward pass\n",
    "            output = net(spike_in)\n",
    "\n",
    "            # compute loss\n",
    "            loss = loss_fn(output, targets)\n",
    "            temp_loss.append(loss.item())\n",
    "\n",
    "            # calculate total accuracy\n",
    "            tot, corr, pred = comp_accuracy(output, targets)\n",
    "            total += tot\n",
    "            correct += corr\n",
    "            if comp_mc:\n",
    "                mcm.update(pred, targets)\n",
    "\n",
    "        mean_loss = np.mean(temp_loss)\n",
    "        acc = correct/total\n",
    "\n",
    "        return mean_loss, acc, mcm"
   ]
  },
  {
   "cell_type": "code",
   "execution_count": null,
   "metadata": {},
   "outputs": [],
   "source": [
    "def train_net(net, train_loader, val_loader, num_epochs, loss_fn, optimizer, batch_size=100):\n",
    "\n",
    "    net.to(device)\n",
    "    \n",
    "    loss_hist = []\n",
    "    loss_val_hist = []\n",
    "    acc_val_hist = []\n",
    "\n",
    "    iter_counter = 0\n",
    "\n",
    "    # Validation\n",
    "    mean_loss_val, acc_val, _ = accuracy_set(net, val_loader, loss_fn, batch_size)\n",
    "\n",
    "    loss_val_hist.append(mean_loss_val)\n",
    "    acc_val_hist.append(acc_val)\n",
    "    print(f\"Validation Set Loss: {mean_loss_val}\")\n",
    "    print(f\"Validation Set Accuracy: {100 *acc_val:.2f}%\")\n",
    "    print(\"\\n--------------------------------------------------\\n\")\n",
    "\n",
    "    for epoch in range(num_epochs):\n",
    "        net.train()\n",
    "        batch_counter = 0\n",
    "        # Minibatch training loop\n",
    "        for data, targets in train_loader:\n",
    "            data = data.to(device)\n",
    "            targets = targets.to(device)\n",
    "\n",
    "            # create spike train\n",
    "            spike_in = custom_spikegen(data)\n",
    "            spike_in = spike_in.to(device)\n",
    "\n",
    "            # forward pass\n",
    "            output = net(spike_in)\n",
    "\n",
    "            # compute loss\n",
    "            loss_val = loss_fn(output, targets)\n",
    "        \n",
    "            # Gradient calculation + weight update\n",
    "            optimizer.zero_grad()\n",
    "            loss_val.backward()\n",
    "            optimizer.step()\n",
    "\n",
    "            # Store loss history for future plotting\n",
    "            loss_hist.append(loss_val.item())\n",
    "        \n",
    "            if iter_counter % 50 == 0:\n",
    "                print(\"Epoch:\", epoch+1)\n",
    "                print(\"Batch:\", batch_counter)\n",
    "                print(\"Iteration:\", iter_counter)\n",
    "                print(\"Loss:\", loss_val.item(),\"\\n\")\n",
    "        \n",
    "            batch_counter += 1\n",
    "            iter_counter += 1\n",
    "\n",
    "        # Validation\n",
    "        mean_loss_val, acc_val, _ = accuracy_set(net, val_loader, loss_fn, batch_size)\n",
    "\n",
    "        loss_val_hist.append(mean_loss_val)\n",
    "        acc_val_hist.append(acc_val)\n",
    "        print(f\"Validation Set Loss: {mean_loss_val}\")\n",
    "        print(f\"Validation Set Accuracy: {100 *acc_val:.2f}%\")\n",
    "        print(\"\\n--------------------------------------------------\\n\")\n",
    "\n",
    "    return loss_hist, loss_val_hist, acc_val_hist"
   ]
  },
  {
   "cell_type": "code",
   "execution_count": null,
   "metadata": {},
   "outputs": [],
   "source": [
    "net = Net_LIF_1L(num_inputs, num_hidden, num_outputs, num_steps).to(device)\n",
    "net.train()"
   ]
  },
  {
   "cell_type": "code",
   "execution_count": null,
   "metadata": {},
   "outputs": [],
   "source": [
    "num_epochs = 5\n",
    "iter_counter = 0\n",
    "\n",
    "#loss = nn.MSELoss()\n",
    "num_inputs = 100\n",
    "num_hidden = 200\n",
    "num_outputs = nClasses\n",
    "num_steps = timesteps\n",
    "net = Net_LIF_1L(num_inputs, num_hidden, num_outputs, num_steps).to(device)\n",
    "loss_fn = SF.ce_count_loss(num_classes=nClasses)\n",
    "optimizer = torch.optim.Adam(net.parameters(), lr=5e-4, betas=(0.9, 0.999))\n",
    "\n",
    "res = train_net(net, train_load, val_load, num_epochs, loss_fn, optimizer, batch_size=100)"
   ]
  },
  {
   "cell_type": "code",
   "execution_count": null,
   "metadata": {},
   "outputs": [],
   "source": [
    "# Plot Loss\n",
    "fig = plt.figure(facecolor=\"w\", figsize=(20, 6))\n",
    "plt.plot(res[0])\n",
    "plt.title(\"Train loss\")\n",
    "plt.xlabel(\"Iteration\")\n",
    "plt.ylabel(\"Loss\")\n",
    "#plt.yscale(\"log\")\n",
    "plt.show()"
   ]
  },
  {
   "cell_type": "code",
   "execution_count": null,
   "metadata": {},
   "outputs": [],
   "source": [
    "# Plot Loss\n",
    "fig = plt.figure(facecolor=\"w\", figsize=(20, 6))\n",
    "plt.plot(res[1])\n",
    "plt.title(\"Validation loss\")\n",
    "plt.xlabel(\"Iteration\")\n",
    "plt.ylabel(\"Loss\")\n",
    "#plt.yscale(\"log\")\n",
    "plt.show()"
   ]
  },
  {
   "cell_type": "code",
   "execution_count": null,
   "metadata": {},
   "outputs": [],
   "source": [
    "test = accuracy_set(net, test_load, loss_fn, True)\n",
    "test[2].plot()"
   ]
  },
  {
   "cell_type": "code",
   "execution_count": null,
   "metadata": {},
   "outputs": [],
   "source": [
    "\n",
    "for data, targets in train_load:\n",
    "            data = data.to(device)\n",
    "            targets = targets.to(device)\n",
    "\n",
    "            # create spike train\n",
    "            spike_in = custom_spikegen(data)\n",
    "            spike_in = spike_in.to(device)\n",
    "\n",
    "            print(spike_in.shape)\n",
    "            break"
   ]
  }
 ],
 "metadata": {
  "kernelspec": {
   "display_name": "Python 3 (ipykernel)",
   "language": "python",
   "name": "python3"
  },
  "language_info": {
   "codemirror_mode": {
    "name": "ipython",
    "version": 3
   },
   "file_extension": ".py",
   "mimetype": "text/x-python",
   "name": "python",
   "nbconvert_exporter": "python",
   "pygments_lexer": "ipython3",
   "version": "3.10.13"
  }
 },
 "nbformat": 4,
 "nbformat_minor": 4
}
